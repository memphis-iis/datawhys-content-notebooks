{
 "cells": [
  {
   "cell_type": "markdown",
   "metadata": {},
   "source": [
    "# LDA and KNN classification: Problem solving"
   ]
  },
  {
   "cell_type": "markdown",
   "metadata": {},
   "source": [
    "In this session, you'll work through a complete example using a new dataset, `binary`."
   ]
  },
  {
   "cell_type": "markdown",
   "metadata": {},
   "source": [
    "## Load the dataframe\n",
    "\n",
    "The `binary.csv` dataset contains 4 variables:\n",
    "\n",
    "- `admit`: the admittance status (0=not admitted, 1=admitted)\n",
    "- `gre`: the student's GRE score\n",
    "- `gpa`: the student's GPA\n",
    "- `rank`: rank of the institution (1=highest to 4=lowest prestige)\n",
    "\n",
    "Start by importing `pandas`."
   ]
  },
  {
   "cell_type": "code",
   "execution_count": 1,
   "metadata": {},
   "outputs": [],
   "source": [
    "import pandas as pd\n",
    "\n",
    "#<xml xmlns=\"https://developers.google.com/blockly/xml\"><variables><variable id=\"/%IFN5#t2uAm}E`8:KV:\">pd</variable></variables><block type=\"importAs\" id=\"_@5-r*j4E`}d?=DXLinf\" x=\"16\" y=\"10\"><field name=\"libraryName\">pandas</field><field name=\"libraryAlias\" id=\"/%IFN5#t2uAm}E`8:KV:\">pd</field></block></xml>"
   ]
  },
  {
   "cell_type": "markdown",
   "metadata": {},
   "source": [
    "Load a dataframe with `binary.csv` and display the dataframe."
   ]
  },
  {
   "cell_type": "code",
   "execution_count": 2,
   "metadata": {},
   "outputs": [
    {
     "data": {
      "text/html": [
       "<div>\n",
       "<style scoped>\n",
       "    .dataframe tbody tr th:only-of-type {\n",
       "        vertical-align: middle;\n",
       "    }\n",
       "\n",
       "    .dataframe tbody tr th {\n",
       "        vertical-align: top;\n",
       "    }\n",
       "\n",
       "    .dataframe thead th {\n",
       "        text-align: right;\n",
       "    }\n",
       "</style>\n",
       "<table border=\"1\" class=\"dataframe\">\n",
       "  <thead>\n",
       "    <tr style=\"text-align: right;\">\n",
       "      <th></th>\n",
       "      <th>admit</th>\n",
       "      <th>gre</th>\n",
       "      <th>gpa</th>\n",
       "      <th>rank</th>\n",
       "    </tr>\n",
       "  </thead>\n",
       "  <tbody>\n",
       "    <tr>\n",
       "      <th>0</th>\n",
       "      <td>0</td>\n",
       "      <td>380</td>\n",
       "      <td>3.61</td>\n",
       "      <td>3</td>\n",
       "    </tr>\n",
       "    <tr>\n",
       "      <th>1</th>\n",
       "      <td>1</td>\n",
       "      <td>660</td>\n",
       "      <td>3.67</td>\n",
       "      <td>3</td>\n",
       "    </tr>\n",
       "    <tr>\n",
       "      <th>2</th>\n",
       "      <td>1</td>\n",
       "      <td>800</td>\n",
       "      <td>4.00</td>\n",
       "      <td>1</td>\n",
       "    </tr>\n",
       "    <tr>\n",
       "      <th>3</th>\n",
       "      <td>1</td>\n",
       "      <td>640</td>\n",
       "      <td>3.19</td>\n",
       "      <td>4</td>\n",
       "    </tr>\n",
       "    <tr>\n",
       "      <th>4</th>\n",
       "      <td>0</td>\n",
       "      <td>520</td>\n",
       "      <td>2.93</td>\n",
       "      <td>4</td>\n",
       "    </tr>\n",
       "    <tr>\n",
       "      <th>...</th>\n",
       "      <td>...</td>\n",
       "      <td>...</td>\n",
       "      <td>...</td>\n",
       "      <td>...</td>\n",
       "    </tr>\n",
       "    <tr>\n",
       "      <th>395</th>\n",
       "      <td>0</td>\n",
       "      <td>620</td>\n",
       "      <td>4.00</td>\n",
       "      <td>2</td>\n",
       "    </tr>\n",
       "    <tr>\n",
       "      <th>396</th>\n",
       "      <td>0</td>\n",
       "      <td>560</td>\n",
       "      <td>3.04</td>\n",
       "      <td>3</td>\n",
       "    </tr>\n",
       "    <tr>\n",
       "      <th>397</th>\n",
       "      <td>0</td>\n",
       "      <td>460</td>\n",
       "      <td>2.63</td>\n",
       "      <td>2</td>\n",
       "    </tr>\n",
       "    <tr>\n",
       "      <th>398</th>\n",
       "      <td>0</td>\n",
       "      <td>700</td>\n",
       "      <td>3.65</td>\n",
       "      <td>2</td>\n",
       "    </tr>\n",
       "    <tr>\n",
       "      <th>399</th>\n",
       "      <td>0</td>\n",
       "      <td>600</td>\n",
       "      <td>3.89</td>\n",
       "      <td>3</td>\n",
       "    </tr>\n",
       "  </tbody>\n",
       "</table>\n",
       "<p>400 rows × 4 columns</p>\n",
       "</div>"
      ],
      "text/plain": [
       "     admit  gre   gpa  rank\n",
       "0        0  380  3.61     3\n",
       "1        1  660  3.67     3\n",
       "2        1  800  4.00     1\n",
       "3        1  640  3.19     4\n",
       "4        0  520  2.93     4\n",
       "..     ...  ...   ...   ...\n",
       "395      0  620  4.00     2\n",
       "396      0  560  3.04     3\n",
       "397      0  460  2.63     2\n",
       "398      0  700  3.65     2\n",
       "399      0  600  3.89     3\n",
       "\n",
       "[400 rows x 4 columns]"
      ]
     },
     "execution_count": 2,
     "metadata": {},
     "output_type": "execute_result"
    }
   ],
   "source": [
    "dataframe = pd.read_csv('datasets/binary.csv')\n",
    "\n",
    "dataframe\n",
    "\n",
    "#<xml xmlns=\"https://developers.google.com/blockly/xml\"><variables><variable id=\"o69xDDO)6.5D2/bJqST?\">dataframe</variable><variable id=\"/%IFN5#t2uAm}E`8:KV:\">pd</variable></variables><block type=\"variables_set\" id=\"gM*jw`FfIR3)8=g0iEB7\" x=\"11\" y=\"186\"><field name=\"VAR\" id=\"o69xDDO)6.5D2/bJqST?\">dataframe</field><value name=\"VALUE\"><block type=\"varDoMethod\" id=\"ny0sjvqTnn2B]K2za7Li\"><field name=\"VAR\" id=\"/%IFN5#t2uAm}E`8:KV:\">pd</field><field name=\"MEMBER\">read_csv</field><data>pd:read_csv</data><value name=\"INPUT\"><block type=\"text\" id=\"dfrpI5b@DHr+DQ:|@vpv\"><field name=\"TEXT\">datasets/binary.csv</field></block></value></block></value></block><block type=\"variables_get\" id=\"dn{+Q#DO%lN;G_tFGJ#B\" x=\"8\" y=\"304\"><field name=\"VAR\" id=\"o69xDDO)6.5D2/bJqST?\">dataframe</field></block></xml>"
   ]
  },
  {
   "cell_type": "markdown",
   "metadata": {},
   "source": [
    "## Prepare the train/test data\n",
    "\n",
    "To train the classifiers, you need to split the dataframe into training data and testing data.\n",
    "\n",
    "Start by creating a dataframe `Y` that just has `admit` in it, and then display `Y` so you can be sure it worked."
   ]
  },
  {
   "cell_type": "code",
   "execution_count": 4,
   "metadata": {},
   "outputs": [
    {
     "data": {
      "text/html": [
       "<div>\n",
       "<style scoped>\n",
       "    .dataframe tbody tr th:only-of-type {\n",
       "        vertical-align: middle;\n",
       "    }\n",
       "\n",
       "    .dataframe tbody tr th {\n",
       "        vertical-align: top;\n",
       "    }\n",
       "\n",
       "    .dataframe thead th {\n",
       "        text-align: right;\n",
       "    }\n",
       "</style>\n",
       "<table border=\"1\" class=\"dataframe\">\n",
       "  <thead>\n",
       "    <tr style=\"text-align: right;\">\n",
       "      <th></th>\n",
       "      <th>admit</th>\n",
       "    </tr>\n",
       "  </thead>\n",
       "  <tbody>\n",
       "    <tr>\n",
       "      <th>0</th>\n",
       "      <td>0</td>\n",
       "    </tr>\n",
       "    <tr>\n",
       "      <th>1</th>\n",
       "      <td>1</td>\n",
       "    </tr>\n",
       "    <tr>\n",
       "      <th>2</th>\n",
       "      <td>1</td>\n",
       "    </tr>\n",
       "    <tr>\n",
       "      <th>3</th>\n",
       "      <td>1</td>\n",
       "    </tr>\n",
       "    <tr>\n",
       "      <th>4</th>\n",
       "      <td>0</td>\n",
       "    </tr>\n",
       "    <tr>\n",
       "      <th>...</th>\n",
       "      <td>...</td>\n",
       "    </tr>\n",
       "    <tr>\n",
       "      <th>395</th>\n",
       "      <td>0</td>\n",
       "    </tr>\n",
       "    <tr>\n",
       "      <th>396</th>\n",
       "      <td>0</td>\n",
       "    </tr>\n",
       "    <tr>\n",
       "      <th>397</th>\n",
       "      <td>0</td>\n",
       "    </tr>\n",
       "    <tr>\n",
       "      <th>398</th>\n",
       "      <td>0</td>\n",
       "    </tr>\n",
       "    <tr>\n",
       "      <th>399</th>\n",
       "      <td>0</td>\n",
       "    </tr>\n",
       "  </tbody>\n",
       "</table>\n",
       "<p>400 rows × 1 columns</p>\n",
       "</div>"
      ],
      "text/plain": [
       "     admit\n",
       "0        0\n",
       "1        1\n",
       "2        1\n",
       "3        1\n",
       "4        0\n",
       "..     ...\n",
       "395      0\n",
       "396      0\n",
       "397      0\n",
       "398      0\n",
       "399      0\n",
       "\n",
       "[400 rows x 1 columns]"
      ]
     },
     "execution_count": 4,
     "metadata": {},
     "output_type": "execute_result"
    }
   ],
   "source": [
    "Y = dataframe[['admit']]\n",
    "\n",
    "Y\n",
    "\n",
    "#<xml xmlns=\"https://developers.google.com/blockly/xml\"><variables><variable id=\"@83Gxqb{/h|%%9Yr?2q!\">Y</variable><variable id=\"o69xDDO)6.5D2/bJqST?\">dataframe</variable></variables><block type=\"variables_set\" id=\"46~F|Y~BiXd|Vok0}p,p\" x=\"33\" y=\"69\"><field name=\"VAR\" id=\"@83Gxqb{/h|%%9Yr?2q!\">Y</field><value name=\"VALUE\"><block type=\"indexer\" id=\"p,##xUo8Nj3`vpMVBjr8\"><field name=\"VAR\" id=\"o69xDDO)6.5D2/bJqST?\">dataframe</field><value name=\"INDEX\"><block type=\"lists_create_with\" id=\"a.wA7Xdx%GbQ)t#XDKvV\"><mutation items=\"1\"></mutation><value name=\"ADD0\"><block type=\"text\" id=\"aZG|GLqavO~,RXBOcuJ+\"><field name=\"TEXT\">admit</field></block></value></block></value></block></value></block><block type=\"variables_get\" id=\"W]bu*LAe{2;n#?+7WQ-[\" x=\"30\" y=\"219\"><field name=\"VAR\" id=\"@83Gxqb{/h|%%9Yr?2q!\">Y</field></block></xml>"
   ]
  },
  {
   "cell_type": "markdown",
   "metadata": {},
   "source": [
    "Next do the same thing for `X` using the other columns in the dataframe."
   ]
  },
  {
   "cell_type": "code",
   "execution_count": 5,
   "metadata": {},
   "outputs": [
    {
     "data": {
      "text/html": [
       "<div>\n",
       "<style scoped>\n",
       "    .dataframe tbody tr th:only-of-type {\n",
       "        vertical-align: middle;\n",
       "    }\n",
       "\n",
       "    .dataframe tbody tr th {\n",
       "        vertical-align: top;\n",
       "    }\n",
       "\n",
       "    .dataframe thead th {\n",
       "        text-align: right;\n",
       "    }\n",
       "</style>\n",
       "<table border=\"1\" class=\"dataframe\">\n",
       "  <thead>\n",
       "    <tr style=\"text-align: right;\">\n",
       "      <th></th>\n",
       "      <th>gre</th>\n",
       "      <th>gpa</th>\n",
       "      <th>rank</th>\n",
       "    </tr>\n",
       "  </thead>\n",
       "  <tbody>\n",
       "    <tr>\n",
       "      <th>0</th>\n",
       "      <td>380</td>\n",
       "      <td>3.61</td>\n",
       "      <td>3</td>\n",
       "    </tr>\n",
       "    <tr>\n",
       "      <th>1</th>\n",
       "      <td>660</td>\n",
       "      <td>3.67</td>\n",
       "      <td>3</td>\n",
       "    </tr>\n",
       "    <tr>\n",
       "      <th>2</th>\n",
       "      <td>800</td>\n",
       "      <td>4.00</td>\n",
       "      <td>1</td>\n",
       "    </tr>\n",
       "    <tr>\n",
       "      <th>3</th>\n",
       "      <td>640</td>\n",
       "      <td>3.19</td>\n",
       "      <td>4</td>\n",
       "    </tr>\n",
       "    <tr>\n",
       "      <th>4</th>\n",
       "      <td>520</td>\n",
       "      <td>2.93</td>\n",
       "      <td>4</td>\n",
       "    </tr>\n",
       "    <tr>\n",
       "      <th>...</th>\n",
       "      <td>...</td>\n",
       "      <td>...</td>\n",
       "      <td>...</td>\n",
       "    </tr>\n",
       "    <tr>\n",
       "      <th>395</th>\n",
       "      <td>620</td>\n",
       "      <td>4.00</td>\n",
       "      <td>2</td>\n",
       "    </tr>\n",
       "    <tr>\n",
       "      <th>396</th>\n",
       "      <td>560</td>\n",
       "      <td>3.04</td>\n",
       "      <td>3</td>\n",
       "    </tr>\n",
       "    <tr>\n",
       "      <th>397</th>\n",
       "      <td>460</td>\n",
       "      <td>2.63</td>\n",
       "      <td>2</td>\n",
       "    </tr>\n",
       "    <tr>\n",
       "      <th>398</th>\n",
       "      <td>700</td>\n",
       "      <td>3.65</td>\n",
       "      <td>2</td>\n",
       "    </tr>\n",
       "    <tr>\n",
       "      <th>399</th>\n",
       "      <td>600</td>\n",
       "      <td>3.89</td>\n",
       "      <td>3</td>\n",
       "    </tr>\n",
       "  </tbody>\n",
       "</table>\n",
       "<p>400 rows × 3 columns</p>\n",
       "</div>"
      ],
      "text/plain": [
       "     gre   gpa  rank\n",
       "0    380  3.61     3\n",
       "1    660  3.67     3\n",
       "2    800  4.00     1\n",
       "3    640  3.19     4\n",
       "4    520  2.93     4\n",
       "..   ...   ...   ...\n",
       "395  620  4.00     2\n",
       "396  560  3.04     3\n",
       "397  460  2.63     2\n",
       "398  700  3.65     2\n",
       "399  600  3.89     3\n",
       "\n",
       "[400 rows x 3 columns]"
      ]
     },
     "execution_count": 5,
     "metadata": {},
     "output_type": "execute_result"
    }
   ],
   "source": [
    "X = dataframe[['gre', 'gpa', 'rank']]\n",
    "\n",
    "X\n",
    "\n",
    "#<xml xmlns=\"https://developers.google.com/blockly/xml\"><variables><variable id=\"py,.kr!f9i=.v7I5_d+^\">X</variable><variable id=\"o69xDDO)6.5D2/bJqST?\">dataframe</variable></variables><block type=\"variables_set\" id=\"46~F|Y~BiXd|Vok0}p,p\" x=\"33\" y=\"69\"><field name=\"VAR\" id=\"py,.kr!f9i=.v7I5_d+^\">X</field><value name=\"VALUE\"><block type=\"indexer\" id=\"p,##xUo8Nj3`vpMVBjr8\"><field name=\"VAR\" id=\"o69xDDO)6.5D2/bJqST?\">dataframe</field><value name=\"INDEX\"><block type=\"lists_create_with\" id=\"a.wA7Xdx%GbQ)t#XDKvV\"><mutation items=\"3\"></mutation><value name=\"ADD0\"><block type=\"text\" id=\"aZG|GLqavO~,RXBOcuJ+\"><field name=\"TEXT\">gre</field></block></value><value name=\"ADD1\"><block type=\"text\" id=\"b/mW9(0w,rS.ny;Y(]5A\"><field name=\"TEXT\">gpa</field></block></value><value name=\"ADD2\"><block type=\"text\" id=\"4yc?!4pnBI1/rSBQ41!t\"><field name=\"TEXT\">rank</field></block></value></block></value></block></value></block><block type=\"variables_get\" id=\"W]bu*LAe{2;n#?+7WQ-[\" x=\"30\" y=\"219\"><field name=\"VAR\" id=\"py,.kr!f9i=.v7I5_d+^\">X</field></block></xml>"
   ]
  },
  {
   "cell_type": "markdown",
   "metadata": {},
   "source": [
    "To split the data into training and testing data, import `model_selection`."
   ]
  },
  {
   "cell_type": "code",
   "execution_count": 6,
   "metadata": {},
   "outputs": [],
   "source": [
    "import sklearn.model_selection as model_selection\n",
    "\n",
    "#<xml xmlns=\"https://developers.google.com/blockly/xml\"><variables><variable id=\"uASGz64Zb$AOvQyV4pRj\">model_selection</variable></variables><block type=\"importAs\" id=\"sN1YO5FEzpHyxb31@j,Z\" x=\"16\" y=\"10\"><field name=\"libraryName\">sklearn.model_selection</field><field name=\"libraryAlias\" id=\"uASGz64Zb$AOvQyV4pRj\">model_selection</field></block></xml>"
   ]
  },
  {
   "cell_type": "markdown",
   "metadata": {},
   "source": [
    "Now split the data into training and testing data, using `test_size` at `0.2` so we use 20% of the data for testing."
   ]
  },
  {
   "cell_type": "code",
   "execution_count": 7,
   "metadata": {},
   "outputs": [],
   "source": [
    "splits = model_selection.train_test_split(X, Y, test_size=0.2)\n",
    "\n",
    "#<xml xmlns=\"https://developers.google.com/blockly/xml\"><variables><variable id=\"_ut$e0PL4OMi4o1MXTpw\">splits</variable><variable id=\"uASGz64Zb$AOvQyV4pRj\">model_selection</variable><variable id=\"py,.kr!f9i=.v7I5_d+^\">X</variable><variable id=\"@83Gxqb{/h|%%9Yr?2q!\">Y</variable></variables><block type=\"variables_set\" id=\"oTGRJ#{R!U^we@Bl@pkT\" x=\"31\" y=\"224\"><field name=\"VAR\" id=\"_ut$e0PL4OMi4o1MXTpw\">splits</field><value name=\"VALUE\"><block type=\"varDoMethod\" id=\"f?j@ker(a#hJv;Nh)IGX\"><field name=\"VAR\" id=\"uASGz64Zb$AOvQyV4pRj\">model_selection</field><field name=\"MEMBER\">train_test_split</field><data>model_selection:train_test_split</data><value name=\"INPUT\"><block type=\"lists_create_with\" id=\"er6r2]}|nA;1;}VsM5I7\"><mutation items=\"3\"></mutation><value name=\"ADD0\"><block type=\"variables_get\" id=\".mm}`*H4)i%Eq5z={e-$\"><field name=\"VAR\" id=\"py,.kr!f9i=.v7I5_d+^\">X</field></block></value><value name=\"ADD1\"><block type=\"variables_get\" id=\"I3dOV;CPBf^~E%BvgthZ\"><field name=\"VAR\" id=\"@83Gxqb{/h|%%9Yr?2q!\">Y</field></block></value><value name=\"ADD2\"><block type=\"dummyOutputCodeBlock\" id=\"@Hg?ib/!8fH$;f3pWJy2\"><field name=\"CODE\">test_size=0.2</field></block></value></block></value></block></value></block></xml>"
   ]
  },
  {
   "cell_type": "markdown",
   "metadata": {},
   "source": [
    "## Train LDA\n",
    "\n",
    "First, import `discriminant_analysis`"
   ]
  },
  {
   "cell_type": "code",
   "execution_count": 9,
   "metadata": {},
   "outputs": [],
   "source": [
    "import sklearn.discriminant_analysis as da\n",
    "\n",
    "#<xml xmlns=\"https://developers.google.com/blockly/xml\"><variables><variable id=\"t#|IDvUc9z_$x]MRbwQb\">da</variable></variables><block type=\"importAs\" id=\":PRm%S%Z/GaCW^6TfKmk\" x=\"143\" y=\"258\"><field name=\"libraryName\">sklearn.discriminant_analysis</field><field name=\"libraryAlias\" id=\"t#|IDvUc9z_$x]MRbwQb\">da</field></block></xml>"
   ]
  },
  {
   "cell_type": "markdown",
   "metadata": {},
   "source": [
    "Next define the LDA model, e.g. using `create`."
   ]
  },
  {
   "cell_type": "code",
   "execution_count": 10,
   "metadata": {},
   "outputs": [],
   "source": [
    "lda = da.LinearDiscriminantAnalysis(n_components=1)\n",
    "\n",
    "#<xml xmlns=\"https://developers.google.com/blockly/xml\"><variables><variable id=\"U%}a9ac|TF?I@w$@u{j!\">lda</variable><variable id=\"t#|IDvUc9z_$x]MRbwQb\">da</variable></variables><block type=\"variables_set\" id=\"YKGK8q}oHC2L?9R.[4t!\" x=\"-58\" y=\"266\"><field name=\"VAR\" id=\"U%}a9ac|TF?I@w$@u{j!\">lda</field><value name=\"VALUE\"><block type=\"varCreateObject\" id=\"}QuzQLcR5iE|*j7`Cf;6\"><field name=\"VAR\" id=\"t#|IDvUc9z_$x]MRbwQb\">da</field><field name=\"MEMBER\">LinearDiscriminantAnalysis</field><data>da:LinearDiscriminantAnalysis</data><value name=\"INPUT\"><block type=\"lists_create_with\" id=\"Yjx!q**Yny(IJC9]60c#\"><mutation items=\"1\"></mutation><value name=\"ADD0\"><block type=\"dummyOutputCodeBlock\" id=\"4JrrM7#xYy=;S5F{s5Dk\"><field name=\"CODE\">n_components=1</field></block></value></block></value></block></value></block></xml>"
   ]
  },
  {
   "cell_type": "markdown",
   "metadata": {},
   "source": [
    "Now perform LDA.\n",
    "Because we need `ravel` to reformat the data for `sklearn`, go ahead and import `numpy`."
   ]
  },
  {
   "cell_type": "code",
   "execution_count": 12,
   "metadata": {},
   "outputs": [],
   "source": [
    "import numpy as np\n",
    "\n",
    "#<xml xmlns=\"https://developers.google.com/blockly/xml\"><variables><variable id=\"Zhzp)s*VL?V@ES3(j:*b\">np</variable></variables><block type=\"importAs\" id=\"6{E|A)Ya_2{hXV^n,QJP\" x=\"16\" y=\"10\"><field name=\"libraryName\">numpy</field><field name=\"libraryAlias\" id=\"Zhzp)s*VL?V@ES3(j:*b\">np</field></block></xml>"
   ]
  },
  {
   "cell_type": "markdown",
   "metadata": {},
   "source": [
    "Train LDA and do the predictions in one cell.\n",
    "Save the predictions in the variable `ldaPredictions`, and then show the predictions to make sure it worked."
   ]
  },
  {
   "cell_type": "code",
   "execution_count": 16,
   "metadata": {},
   "outputs": [
    {
     "data": {
      "text/plain": [
       "array([0, 0, 0, 0, 0, 0, 0, 0, 0, 0, 0, 1, 0, 0, 0, 0, 0, 0, 0, 0, 0, 0,\n",
       "       1, 0, 0, 0, 0, 0, 0, 0, 1, 0, 0, 0, 0, 0, 0, 0, 0, 0, 0, 0, 1, 1,\n",
       "       0, 0, 0, 0, 1, 0, 1, 0, 1, 0, 0, 0, 0, 0, 0, 0, 1, 0, 0, 0, 0, 0,\n",
       "       0, 1, 0, 0, 0, 0, 0, 1, 0, 0, 0, 0, 0, 1])"
      ]
     },
     "execution_count": 16,
     "metadata": {},
     "output_type": "execute_result"
    }
   ],
   "source": [
    "lda.fit(splits[0], np.ravel(splits[2]))\n",
    "\n",
    "ldaPredictions = lda.predict(splits[1])\n",
    "\n",
    "ldaPredictions\n",
    "\n",
    "#<xml xmlns=\"https://developers.google.com/blockly/xml\"><variables><variable id=\"U%}a9ac|TF?I@w$@u{j!\">lda</variable><variable id=\"oi3{Kz:y:^!,i1^jb/Ue\">ldaPredictions</variable><variable id=\"Zhzp)s*VL?V@ES3(j:*b\">np</variable><variable id=\"_ut$e0PL4OMi4o1MXTpw\">splits</variable></variables><block type=\"varDoMethod\" id=\"Z)$q-zn.KTC{+^l-wH6u\" x=\"259\" y=\"169\"><field name=\"VAR\" id=\"U%}a9ac|TF?I@w$@u{j!\">lda</field><field name=\"MEMBER\">fit</field><data>lda:fit</data><value name=\"INPUT\"><block type=\"lists_create_with\" id=\"e_B;36VOJ^lH70V=aWY}\"><mutation items=\"2\"></mutation><value name=\"ADD0\"><block type=\"lists_getIndex\" id=\"C#,#1*rEm+]qEx?L1x[L\"><mutation statement=\"false\" at=\"true\"></mutation><field name=\"MODE\">GET</field><field name=\"WHERE\">FROM_START</field><value name=\"VALUE\"><block type=\"variables_get\" id=\"b_Sz{9#d7d=ystO|k?l_\"><field name=\"VAR\" id=\"_ut$e0PL4OMi4o1MXTpw\">splits</field></block></value><value name=\"AT\"><block type=\"math_number\" id=\":s{r1~S,,@.CSh#9`$R;\"><field name=\"NUM\">1</field></block></value></block></value><value name=\"ADD1\"><block type=\"varDoMethod\" id=\"zYBlZ,!^P^%Ib5R@Ch.H\"><field name=\"VAR\" id=\"Zhzp)s*VL?V@ES3(j:*b\">np</field><field name=\"MEMBER\">ravel</field><data>np:ravel</data><value name=\"INPUT\"><block type=\"lists_create_with\" id=\"9s({WSn={~Ink.5O+6Cc\"><mutation items=\"1\"></mutation><value name=\"ADD0\"><block type=\"lists_getIndex\" id=\"^)UBt0jM;BnGmWeG7pw*\"><mutation statement=\"false\" at=\"true\"></mutation><field name=\"MODE\">GET</field><field name=\"WHERE\">FROM_START</field><value name=\"VALUE\"><block type=\"variables_get\" id=\"4Vo!*g]qQ=D}XtD2i39/\"><field name=\"VAR\" id=\"_ut$e0PL4OMi4o1MXTpw\">splits</field></block></value><value name=\"AT\"><block type=\"math_number\" id=\"RysCD3.C27sBxztz(T}2\"><field name=\"NUM\">3</field></block></value></block></value></block></value></block></value></block></value></block><block type=\"variables_set\" id=\"qn$V)Zc+x1,^]#ZWBu0;\" x=\"259\" y=\"295\"><field name=\"VAR\" id=\"oi3{Kz:y:^!,i1^jb/Ue\">ldaPredictions</field><value name=\"VALUE\"><block type=\"varDoMethod\" id=\"rq%)Cuo$S!Rv]]83[(OQ\"><field name=\"VAR\" id=\"U%}a9ac|TF?I@w$@u{j!\">lda</field><field name=\"MEMBER\">predict</field><data>lda:predict</data><value name=\"INPUT\"><block type=\"lists_create_with\" id=\"g!3rY4P1(W4]{2oU]dDb\"><mutation items=\"1\"></mutation><value name=\"ADD0\"><block type=\"lists_getIndex\" id=\"70_kQu*_lQfPL$)[E*]S\"><mutation statement=\"false\" at=\"true\"></mutation><field name=\"MODE\">GET</field><field name=\"WHERE\">FROM_START</field><value name=\"VALUE\"><block type=\"variables_get\" id=\"f8W4Kf.xz`3No$qQ@|16\"><field name=\"VAR\" id=\"_ut$e0PL4OMi4o1MXTpw\">splits</field></block></value><value name=\"AT\"><block type=\"math_number\" id=\"}:Kw6eCPs%6nW8FY_E!N\"><field name=\"NUM\">2</field></block></value></block></value></block></value></block></value></block><block type=\"variables_get\" id=\"l~QDDPzM@1QK#7dp~N~H\" x=\"264\" y=\"396\"><field name=\"VAR\" id=\"oi3{Kz:y:^!,i1^jb/Ue\">ldaPredictions</field></block></xml>"
   ]
  },
  {
   "cell_type": "markdown",
   "metadata": {},
   "source": [
    "You should see a mix of `1` and `0` in the predictions. \n",
    "\n",
    "## KNN\n",
    "\n",
    "First import `neighbors`."
   ]
  },
  {
   "cell_type": "code",
   "execution_count": 17,
   "metadata": {},
   "outputs": [],
   "source": [
    "import sklearn.neighbors as neighbors\n",
    "\n",
    "#<xml xmlns=\"https://developers.google.com/blockly/xml\"><variables><variable id=\"~%[Y}a{Syr+LrQ[I8?d(\">neighbors</variable></variables><block type=\"importAs\" id=\"ayw$B{(evWs,ynm/fP%g\" x=\"123\" y=\"313\"><field name=\"libraryName\">sklearn.neighbors</field><field name=\"libraryAlias\" id=\"~%[Y}a{Syr+LrQ[I8?d(\">neighbors</field></block></xml>"
   ]
  },
  {
   "cell_type": "markdown",
   "metadata": {},
   "source": [
    "Next define the KNN model, e.g. using `create`."
   ]
  },
  {
   "cell_type": "code",
   "execution_count": 19,
   "metadata": {},
   "outputs": [],
   "source": [
    "knn = neighbors.KNeighborsClassifier(n_neighbors=5)\n",
    "\n",
    "#<xml xmlns=\"https://developers.google.com/blockly/xml\"><variables><variable id=\"DOr#Z1+,_{KG18zR#G)4\">knn</variable><variable id=\"~%[Y}a{Syr+LrQ[I8?d(\">neighbors</variable></variables><block type=\"variables_set\" id=\"`z.|tb|jX$Y2a5;iN{pz\" x=\"-7\" y=\"283\"><field name=\"VAR\" id=\"DOr#Z1+,_{KG18zR#G)4\">knn</field><value name=\"VALUE\"><block type=\"varCreateObject\" id=\"9i7]OHHOnhf2~MjH^n+y\"><field name=\"VAR\" id=\"~%[Y}a{Syr+LrQ[I8?d(\">neighbors</field><field name=\"MEMBER\">KNeighborsClassifier</field><data>neighbors:KNeighborsClassifier</data><value name=\"INPUT\"><block type=\"lists_create_with\" id=\"`.s=9G`sj;R8,?u+OR9Y\"><mutation items=\"1\"></mutation><value name=\"ADD0\"><block type=\"dummyOutputCodeBlock\" id=\"R*)t!8POzxw3}@cy,{:]\"><field name=\"CODE\">n_neighbors=5</field></block></value></block></value></block></value></block></xml>"
   ]
  },
  {
   "cell_type": "markdown",
   "metadata": {},
   "source": [
    "Now train KNN and do the predictions in one cell.\n",
    "Save the predictions in the variable `knnPredictions`, and then show the predictions to make sure it worked."
   ]
  },
  {
   "cell_type": "code",
   "execution_count": 20,
   "metadata": {},
   "outputs": [
    {
     "data": {
      "text/plain": [
       "array([0, 0, 0, 0, 1, 0, 0, 0, 0, 0, 0, 1, 0, 0, 1, 1, 0, 0, 0, 0, 0, 0,\n",
       "       1, 0, 0, 0, 0, 0, 0, 0, 1, 0, 0, 0, 0, 0, 0, 1, 0, 0, 0, 0, 0, 0,\n",
       "       0, 0, 1, 0, 1, 0, 1, 0, 1, 1, 0, 0, 1, 0, 0, 0, 1, 1, 0, 1, 0, 0,\n",
       "       0, 1, 0, 0, 0, 0, 0, 1, 0, 0, 0, 0, 0, 0])"
      ]
     },
     "execution_count": 20,
     "metadata": {},
     "output_type": "execute_result"
    }
   ],
   "source": [
    "knn.fit(splits[0], np.ravel(splits[2]))\n",
    "\n",
    "knnPredictions = knn.predict(splits[1])\n",
    "\n",
    "knnPredictions\n",
    "\n",
    "#<xml xmlns=\"https://developers.google.com/blockly/xml\"><variables><variable id=\"DOr#Z1+,_{KG18zR#G)4\">knn</variable><variable id=\"vM0j[9C:2`MqdV2+),oH\">knnPredictions</variable><variable id=\"Zhzp)s*VL?V@ES3(j:*b\">np</variable><variable id=\"_ut$e0PL4OMi4o1MXTpw\">splits</variable></variables><block type=\"varDoMethod\" id=\"Z)$q-zn.KTC{+^l-wH6u\" x=\"259\" y=\"169\"><field name=\"VAR\" id=\"DOr#Z1+,_{KG18zR#G)4\">knn</field><field name=\"MEMBER\">fit</field><data>knn:fit</data><value name=\"INPUT\"><block type=\"lists_create_with\" id=\"e_B;36VOJ^lH70V=aWY}\"><mutation items=\"2\"></mutation><value name=\"ADD0\"><block type=\"lists_getIndex\" id=\"C#,#1*rEm+]qEx?L1x[L\"><mutation statement=\"false\" at=\"true\"></mutation><field name=\"MODE\">GET</field><field name=\"WHERE\">FROM_START</field><value name=\"VALUE\"><block type=\"variables_get\" id=\"b_Sz{9#d7d=ystO|k?l_\"><field name=\"VAR\" id=\"_ut$e0PL4OMi4o1MXTpw\">splits</field></block></value><value name=\"AT\"><block type=\"math_number\" id=\":s{r1~S,,@.CSh#9`$R;\"><field name=\"NUM\">1</field></block></value></block></value><value name=\"ADD1\"><block type=\"varDoMethod\" id=\"zYBlZ,!^P^%Ib5R@Ch.H\"><field name=\"VAR\" id=\"Zhzp)s*VL?V@ES3(j:*b\">np</field><field name=\"MEMBER\">ravel</field><data>np:ravel</data><value name=\"INPUT\"><block type=\"lists_create_with\" id=\"9s({WSn={~Ink.5O+6Cc\"><mutation items=\"1\"></mutation><value name=\"ADD0\"><block type=\"lists_getIndex\" id=\"^)UBt0jM;BnGmWeG7pw*\"><mutation statement=\"false\" at=\"true\"></mutation><field name=\"MODE\">GET</field><field name=\"WHERE\">FROM_START</field><value name=\"VALUE\"><block type=\"variables_get\" id=\"4Vo!*g]qQ=D}XtD2i39/\"><field name=\"VAR\" id=\"_ut$e0PL4OMi4o1MXTpw\">splits</field></block></value><value name=\"AT\"><block type=\"math_number\" id=\"RysCD3.C27sBxztz(T}2\"><field name=\"NUM\">3</field></block></value></block></value></block></value></block></value></block></value></block><block type=\"variables_set\" id=\"qn$V)Zc+x1,^]#ZWBu0;\" x=\"259\" y=\"295\"><field name=\"VAR\" id=\"vM0j[9C:2`MqdV2+),oH\">knnPredictions</field><value name=\"VALUE\"><block type=\"varDoMethod\" id=\"rq%)Cuo$S!Rv]]83[(OQ\"><field name=\"VAR\" id=\"DOr#Z1+,_{KG18zR#G)4\">knn</field><field name=\"MEMBER\">predict</field><data>knn:predict</data><value name=\"INPUT\"><block type=\"lists_create_with\" id=\"g!3rY4P1(W4]{2oU]dDb\"><mutation items=\"1\"></mutation><value name=\"ADD0\"><block type=\"lists_getIndex\" id=\"70_kQu*_lQfPL$)[E*]S\"><mutation statement=\"false\" at=\"true\"></mutation><field name=\"MODE\">GET</field><field name=\"WHERE\">FROM_START</field><value name=\"VALUE\"><block type=\"variables_get\" id=\"f8W4Kf.xz`3No$qQ@|16\"><field name=\"VAR\" id=\"_ut$e0PL4OMi4o1MXTpw\">splits</field></block></value><value name=\"AT\"><block type=\"math_number\" id=\"}:Kw6eCPs%6nW8FY_E!N\"><field name=\"NUM\">2</field></block></value></block></value></block></value></block></value></block><block type=\"variables_get\" id=\"l~QDDPzM@1QK#7dp~N~H\" x=\"264\" y=\"396\"><field name=\"VAR\" id=\"vM0j[9C:2`MqdV2+),oH\">knnPredictions</field></block></xml>"
   ]
  },
  {
   "cell_type": "markdown",
   "metadata": {},
   "source": [
    "## Classifier evaluation\n",
    "\n",
    "To see if the models are any good, do some evaluations.\n",
    "\n",
    "First import `metrics`."
   ]
  },
  {
   "cell_type": "code",
   "execution_count": 21,
   "metadata": {},
   "outputs": [],
   "source": [
    "import sklearn.metrics as metrics\n",
    "\n",
    "#<xml xmlns=\"https://developers.google.com/blockly/xml\"><variables><variable id=\"C8HQ^p):qDkQA/nhxe{{\">metrics</variable></variables><block type=\"importAs\" id=\"|1fEPj_#9:@0Qa@y|1F.\" x=\"135\" y=\"207\"><field name=\"libraryName\">sklearn.metrics</field><field name=\"libraryAlias\" id=\"C8HQ^p):qDkQA/nhxe{{\">metrics</field></block></xml>"
   ]
  },
  {
   "cell_type": "markdown",
   "metadata": {},
   "source": [
    "### Accuracy\n",
    "\n",
    "Calculate the LDA accuracy."
   ]
  },
  {
   "cell_type": "code",
   "execution_count": 23,
   "metadata": {},
   "outputs": [
    {
     "data": {
      "text/plain": [
       "0.7375"
      ]
     },
     "execution_count": 23,
     "metadata": {},
     "output_type": "execute_result"
    }
   ],
   "source": [
    "metrics.accuracy_score(splits[3], ldaPredictions)\n",
    "\n",
    "#<xml xmlns=\"https://developers.google.com/blockly/xml\"><variables><variable id=\"C8HQ^p):qDkQA/nhxe{{\">metrics</variable><variable id=\"oi3{Kz:y:^!,i1^jb/Ue\">ldaPredictions</variable><variable id=\"_ut$e0PL4OMi4o1MXTpw\">splits</variable></variables><block type=\"varDoMethod\" id=\"l,28Y;cf6Q.r-rTBWP4}\" x=\"8\" y=\"188\"><field name=\"VAR\" id=\"C8HQ^p):qDkQA/nhxe{{\">metrics</field><field name=\"MEMBER\">accuracy_score</field><data>metrics:accuracy_score</data><value name=\"INPUT\"><block type=\"lists_create_with\" id=\"`V^tbb51h?lxzH^Z,L0+\"><mutation items=\"2\"></mutation><value name=\"ADD0\"><block type=\"lists_getIndex\" id=\"6Nb!QUCs+zcSbgi2=8Jb\"><mutation statement=\"false\" at=\"true\"></mutation><field name=\"MODE\">GET</field><field name=\"WHERE\">FROM_START</field><value name=\"VALUE\"><block type=\"variables_get\" id=\"0SesC-O%M@-rqWgnWJ[q\"><field name=\"VAR\" id=\"_ut$e0PL4OMi4o1MXTpw\">splits</field></block></value><value name=\"AT\"><block type=\"math_number\" id=\"ZQBTZmCAMzn[;:irh:{@\"><field name=\"NUM\">4</field></block></value></block></value><value name=\"ADD1\"><block type=\"variables_get\" id=\":5r(/A;QY|,.0/gzcHi.\"><field name=\"VAR\" id=\"oi3{Kz:y:^!,i1^jb/Ue\">ldaPredictions</field></block></value></block></value></block></xml>"
   ]
  },
  {
   "cell_type": "markdown",
   "metadata": {},
   "source": [
    "And calculate the KNN accuracy."
   ]
  },
  {
   "cell_type": "code",
   "execution_count": 25,
   "metadata": {},
   "outputs": [
    {
     "data": {
      "text/plain": [
       "0.7125"
      ]
     },
     "execution_count": 25,
     "metadata": {},
     "output_type": "execute_result"
    }
   ],
   "source": [
    "metrics.accuracy_score(splits[3], knnPredictions)\n",
    "\n",
    "#<xml xmlns=\"https://developers.google.com/blockly/xml\"><variables><variable id=\"C8HQ^p):qDkQA/nhxe{{\">metrics</variable><variable id=\"vM0j[9C:2`MqdV2+),oH\">knnPredictions</variable><variable id=\"_ut$e0PL4OMi4o1MXTpw\">splits</variable></variables><block type=\"varDoMethod\" id=\"l,28Y;cf6Q.r-rTBWP4}\" x=\"8\" y=\"188\"><field name=\"VAR\" id=\"C8HQ^p):qDkQA/nhxe{{\">metrics</field><field name=\"MEMBER\">accuracy_score</field><data>metrics:accuracy_score</data><value name=\"INPUT\"><block type=\"lists_create_with\" id=\"`V^tbb51h?lxzH^Z,L0+\"><mutation items=\"2\"></mutation><value name=\"ADD0\"><block type=\"lists_getIndex\" id=\"6Nb!QUCs+zcSbgi2=8Jb\"><mutation statement=\"false\" at=\"true\"></mutation><field name=\"MODE\">GET</field><field name=\"WHERE\">FROM_START</field><value name=\"VALUE\"><block type=\"variables_get\" id=\"0SesC-O%M@-rqWgnWJ[q\"><field name=\"VAR\" id=\"_ut$e0PL4OMi4o1MXTpw\">splits</field></block></value><value name=\"AT\"><block type=\"math_number\" id=\"ZQBTZmCAMzn[;:irh:{@\"><field name=\"NUM\">4</field></block></value></block></value><value name=\"ADD1\"><block type=\"variables_get\" id=\":5r(/A;QY|,.0/gzcHi.\"><field name=\"VAR\" id=\"vM0j[9C:2`MqdV2+),oH\">knnPredictions</field></block></value></block></value></block></xml>"
   ]
  },
  {
   "cell_type": "markdown",
   "metadata": {},
   "source": [
    "### Recall/Precision per class\n",
    "\n",
    "Get the LDA `classification_report`."
   ]
  },
  {
   "cell_type": "code",
   "execution_count": 26,
   "metadata": {},
   "outputs": [
    {
     "name": "stdout",
     "output_type": "stream",
     "text": [
      "              precision    recall  f1-score   support\n",
      "\n",
      "           0       0.76      0.91      0.83        57\n",
      "           1       0.58      0.30      0.40        23\n",
      "\n",
      "    accuracy                           0.74        80\n",
      "   macro avg       0.67      0.61      0.62        80\n",
      "weighted avg       0.71      0.74      0.71        80\n",
      "\n"
     ]
    }
   ],
   "source": [
    "print(metrics.classification_report(splits[3], ldaPredictions))\n",
    "\n",
    "#<xml xmlns=\"https://developers.google.com/blockly/xml\"><variables><variable id=\"C8HQ^p):qDkQA/nhxe{{\">metrics</variable><variable id=\"oi3{Kz:y:^!,i1^jb/Ue\">ldaPredictions</variable><variable id=\"_ut$e0PL4OMi4o1MXTpw\">splits</variable></variables><block type=\"text_print\" id=\"Sx0uF}9IfzkucZiyR^1:\" x=\"196\" y=\"360\"><value name=\"TEXT\"><shadow type=\"text\" id=\"a=J{E!^,yE0MlS-rEKnT\"><field name=\"TEXT\">abc</field></shadow><block type=\"varDoMethod\" id=\"l,28Y;cf6Q.r-rTBWP4}\"><field name=\"VAR\" id=\"C8HQ^p):qDkQA/nhxe{{\">metrics</field><field name=\"MEMBER\">classification_report</field><data>metrics:classification_report</data><value name=\"INPUT\"><block type=\"lists_create_with\" id=\"`V^tbb51h?lxzH^Z,L0+\"><mutation items=\"2\"></mutation><value name=\"ADD0\"><block type=\"lists_getIndex\" id=\"6Nb!QUCs+zcSbgi2=8Jb\"><mutation statement=\"false\" at=\"true\"></mutation><field name=\"MODE\">GET</field><field name=\"WHERE\">FROM_START</field><value name=\"VALUE\"><block type=\"variables_get\" id=\"0SesC-O%M@-rqWgnWJ[q\"><field name=\"VAR\" id=\"_ut$e0PL4OMi4o1MXTpw\">splits</field></block></value><value name=\"AT\"><block type=\"math_number\" id=\"ZQBTZmCAMzn[;:irh:{@\"><field name=\"NUM\">4</field></block></value></block></value><value name=\"ADD1\"><block type=\"variables_get\" id=\":5r(/A;QY|,.0/gzcHi.\"><field name=\"VAR\" id=\"oi3{Kz:y:^!,i1^jb/Ue\">ldaPredictions</field></block></value></block></value></block></value></block></xml>"
   ]
  },
  {
   "cell_type": "markdown",
   "metadata": {},
   "source": [
    "And get the KNN `classification_report`."
   ]
  },
  {
   "cell_type": "code",
   "execution_count": 28,
   "metadata": {},
   "outputs": [
    {
     "name": "stdout",
     "output_type": "stream",
     "text": [
      "              precision    recall  f1-score   support\n",
      "\n",
      "           0       0.77      0.84      0.81        57\n",
      "           1       0.50      0.39      0.44        23\n",
      "\n",
      "    accuracy                           0.71        80\n",
      "   macro avg       0.64      0.62      0.62        80\n",
      "weighted avg       0.70      0.71      0.70        80\n",
      "\n"
     ]
    }
   ],
   "source": [
    "print(metrics.classification_report(splits[3], knnPredictions))\n",
    "\n",
    "#<xml xmlns=\"https://developers.google.com/blockly/xml\"><variables><variable id=\"C8HQ^p):qDkQA/nhxe{{\">metrics</variable><variable id=\"vM0j[9C:2`MqdV2+),oH\">knnPredictions</variable><variable id=\"_ut$e0PL4OMi4o1MXTpw\">splits</variable></variables><block type=\"text_print\" id=\"Sx0uF}9IfzkucZiyR^1:\" x=\"196\" y=\"360\"><value name=\"TEXT\"><shadow type=\"text\" id=\"a=J{E!^,yE0MlS-rEKnT\"><field name=\"TEXT\">abc</field></shadow><block type=\"varDoMethod\" id=\"l,28Y;cf6Q.r-rTBWP4}\"><field name=\"VAR\" id=\"C8HQ^p):qDkQA/nhxe{{\">metrics</field><field name=\"MEMBER\">classification_report</field><data>metrics:classification_report</data><value name=\"INPUT\"><block type=\"lists_create_with\" id=\"`V^tbb51h?lxzH^Z,L0+\"><mutation items=\"2\"></mutation><value name=\"ADD0\"><block type=\"lists_getIndex\" id=\"6Nb!QUCs+zcSbgi2=8Jb\"><mutation statement=\"false\" at=\"true\"></mutation><field name=\"MODE\">GET</field><field name=\"WHERE\">FROM_START</field><value name=\"VALUE\"><block type=\"variables_get\" id=\"0SesC-O%M@-rqWgnWJ[q\"><field name=\"VAR\" id=\"_ut$e0PL4OMi4o1MXTpw\">splits</field></block></value><value name=\"AT\"><block type=\"math_number\" id=\"ZQBTZmCAMzn[;:irh:{@\"><field name=\"NUM\">4</field></block></value></block></value><value name=\"ADD1\"><block type=\"variables_get\" id=\":5r(/A;QY|,.0/gzcHi.\"><field name=\"VAR\" id=\"vM0j[9C:2`MqdV2+),oH\">knnPredictions</field></block></value></block></value></block></value></block></xml>"
   ]
  },
  {
   "cell_type": "markdown",
   "metadata": {},
   "source": [
    "### Comparing classifiers\n",
    "\n",
    "There are several ways to compare classifiers, including using accuracy and the classification report.\n",
    "\n",
    "But it is also interesting to ask how much the classifiers *agree* with each other on both correct and incorrect answers.\n",
    "\n",
    "The easiest way to do this is to use `accuracy` again, but use `knnPredictions` and `ldaPredictions` instead of `Ytest`.\n",
    "\n",
    "Try it."
   ]
  },
  {
   "cell_type": "code",
   "execution_count": 29,
   "metadata": {},
   "outputs": [
    {
     "data": {
      "text/plain": [
       "0.85"
      ]
     },
     "execution_count": 29,
     "metadata": {},
     "output_type": "execute_result"
    }
   ],
   "source": [
    "metrics.accuracy_score(knnPredictions, ldaPredictions)\n",
    "\n",
    "#<xml xmlns=\"https://developers.google.com/blockly/xml\"><variables><variable id=\"C8HQ^p):qDkQA/nhxe{{\">metrics</variable><variable id=\"oi3{Kz:y:^!,i1^jb/Ue\">ldaPredictions</variable><variable id=\"vM0j[9C:2`MqdV2+),oH\">knnPredictions</variable></variables><block type=\"varDoMethod\" id=\"l,28Y;cf6Q.r-rTBWP4}\" x=\"8\" y=\"188\"><field name=\"VAR\" id=\"C8HQ^p):qDkQA/nhxe{{\">metrics</field><field name=\"MEMBER\">accuracy_score</field><data>metrics:accuracy_score</data><value name=\"INPUT\"><block type=\"lists_create_with\" id=\"`V^tbb51h?lxzH^Z,L0+\"><mutation items=\"2\"></mutation><value name=\"ADD0\"><block type=\"variables_get\" id=\"H]m:.G;[cFC!Mlp9-+xa\"><field name=\"VAR\" id=\"vM0j[9C:2`MqdV2+),oH\">knnPredictions</field></block></value><value name=\"ADD1\"><block type=\"variables_get\" id=\":5r(/A;QY|,.0/gzcHi.\"><field name=\"VAR\" id=\"oi3{Kz:y:^!,i1^jb/Ue\">ldaPredictions</field></block></value></block></value></block></xml>"
   ]
  },
  {
   "cell_type": "markdown",
   "metadata": {},
   "source": [
    "# COMMIT BEFORE CUTTING EVERYTHING BELOW THIS LINE AND ADDED REFLECTION QUESTIONS ABOVE\n",
    "\n",
    "The material below is great, but since I cut it from the original exercise, it's not fair to try to ask them to do it now.\n",
    "\n",
    "I would suggest adding these both back in to the original exercise but cutting LDA from that exercise.\n",
    "\n",
    "The ROC graph construction could probably be broken up into stages to make it easier to follow."
   ]
  },
  {
   "cell_type": "markdown",
   "metadata": {},
   "source": [
    "We are now interested in evaluating the ROC and AUC. To do that, import `roc_curve` and `roc_auc_score` from `sklearn.metrics`. "
   ]
  },
  {
   "cell_type": "code",
   "execution_count": 89,
   "metadata": {},
   "outputs": [],
   "source": [
    "from sklearn.metrics import roc_curve, roc_auc_score"
   ]
  },
  {
   "cell_type": "markdown",
   "metadata": {},
   "source": [
    "__FOR LDA__:"
   ]
  },
  {
   "cell_type": "markdown",
   "metadata": {},
   "source": [
    "Use the `roc_curve` function with the arguments `Y_test` and `lda_pred_admit_labels`. Name the object `fpr_lda, tpr_lda, thresholds_lda`. "
   ]
  },
  {
   "cell_type": "code",
   "execution_count": 91,
   "metadata": {},
   "outputs": [],
   "source": [
    "fpr_lda, tpr_lda, thresholds_lda = roc_curve(Y_test, lda_pred_admit_labels)"
   ]
  },
  {
   "cell_type": "markdown",
   "metadata": {},
   "source": [
    "Use `predict_proba` function on `lda_admit` with argument `X_test1`. Name the object  `lda_pred_admit_proba`. Select the probabilities for the positive outcome only using `[:,1]`."
   ]
  },
  {
   "cell_type": "code",
   "execution_count": 95,
   "metadata": {},
   "outputs": [],
   "source": [
    "lda_pred_admit_proba = lda_admit.predict_proba(X_test1)[:,1]"
   ]
  },
  {
   "cell_type": "markdown",
   "metadata": {},
   "source": [
    "Use the `roc_auc_score` function with the arguments `Y_test` and `lda_pred_admit_proba`. Name the object `auc_lda`. Use the function `print` to show `auc_lda`."
   ]
  },
  {
   "cell_type": "code",
   "execution_count": 97,
   "metadata": {},
   "outputs": [
    {
     "name": "stdout",
     "output_type": "stream",
     "text": [
      "0.6991210277214335\n"
     ]
    }
   ],
   "source": [
    "auc_lda = roc_auc_score(Y_test, lda_pred_admit_proba)\n",
    "print(auc_lda)"
   ]
  },
  {
   "cell_type": "markdown",
   "metadata": {},
   "source": [
    "The AUC is approximately 0.70 for the LDA performed on this data."
   ]
  },
  {
   "cell_type": "markdown",
   "metadata": {},
   "source": [
    "__FOR LDA__:"
   ]
  },
  {
   "cell_type": "markdown",
   "metadata": {},
   "source": [
    "To get the curve, we plot `fpr_lda` on the x-axis and `tpr_lda` on the y_axis. First, import `plotly.graph_objects` as `go`. "
   ]
  },
  {
   "cell_type": "markdown",
   "metadata": {},
   "source": [
    "Use the `roc_curve` function with the arguments `Y_test` and `knnclass_pred_admit_labels`. Name the object `fpr_knnclass, tpr_knnclass, thresholds_knnclass`. "
   ]
  },
  {
   "cell_type": "code",
   "execution_count": 132,
   "metadata": {},
   "outputs": [],
   "source": [
    "fpr_knnclass, tpr_knnclass, thresholds_knnclass = roc_curve(Y_test, knnclass_pred_admit_labels)"
   ]
  },
  {
   "cell_type": "markdown",
   "metadata": {},
   "source": [
    "Use `predict_proba` function on `knnclass_admit` with argument `X_test1`. Name the object  `knnclass_pred_admit_proba`. Select the probabilities for the positive outcome only using `[:,1]`."
   ]
  },
  {
   "cell_type": "code",
   "execution_count": 133,
   "metadata": {},
   "outputs": [],
   "source": [
    "knnclass_pred_admit_proba = knnclass_admit.predict_proba(X_test1)[:,1]"
   ]
  },
  {
   "cell_type": "markdown",
   "metadata": {},
   "source": [
    "Use the `roc_auc_score` function with the arguments `Y_test` and `knnclass_pred_admit_proba`. Name the object `auc_knnclass`. Use the function `print` to show `auc_knnclass`."
   ]
  },
  {
   "cell_type": "code",
   "execution_count": 134,
   "metadata": {},
   "outputs": [
    {
     "name": "stdout",
     "output_type": "stream",
     "text": [
      "0.5341446923597025\n"
     ]
    }
   ],
   "source": [
    "auc_knnclass = roc_auc_score(Y_test, knnclass_pred_admit_proba)\n",
    "print(auc_knnclass)"
   ]
  },
  {
   "cell_type": "markdown",
   "metadata": {},
   "source": [
    "The AUC is approximately 0.53 for the KNN classification performed on this data."
   ]
  },
  {
   "cell_type": "markdown",
   "metadata": {},
   "source": [
    "__ROC Curves__"
   ]
  },
  {
   "cell_type": "markdown",
   "metadata": {},
   "source": [
    "To get the ROC curves for random guessing, LDA, and KNN classification on one plot, use the code below:\n",
    "\n",
    "<blockquote><tt>\n",
    "<pre>import plotly.graph_objects as go\n",
    "fig = go.Figure()\n",
    "fig.add_trace(go.Scatter(x=fpr_lda, \n",
    "                         y=tpr_lda, \n",
    "                         name='LDA',\n",
    "                         line=dict(color='royalblue'))) \n",
    "fig.add_trace(go.Scatter(x=fpr_knnclass, \n",
    "                         y=tpr_knnclass, \n",
    "                         name='KNN classification',\n",
    "                         line=dict(color='red'))) \n",
    "fig.add_trace(go.Scatter(x=[0,1], \n",
    "                         y=[0,1], \n",
    "                         name='No classifier',\n",
    "                         line=dict(color='black', \n",
    "                                   dash='dash'))) \n",
    "\n",
    "fig.update_layout(\n",
    "    xaxis=dict(title_text=\"False Positive Rate\"),\n",
    "    yaxis=dict(title_text=\"True Positive Rate\"))\n",
    " \n",
    "fig.show()</pre>\n",
    "</tt></blockquote>"
   ]
  },
  {
   "cell_type": "code",
   "execution_count": 136,
   "metadata": {
    "scrolled": true
   },
   "outputs": [
    {
     "data": {
      "application/vnd.plotly.v1+json": {
       "config": {
        "plotlyServerURL": "https://plot.ly"
       },
       "data": [
        {
         "line": {
          "color": "royalblue"
         },
         "name": "LDA",
         "type": "scatter",
         "x": [
          0,
          0.0196078431372549,
          1
         ],
         "y": [
          0,
          0.3103448275862069,
          1
         ]
        },
        {
         "line": {
          "color": "red"
         },
         "name": "KNN classification",
         "type": "scatter",
         "x": [
          0,
          0.11764705882352941,
          1
         ],
         "y": [
          0,
          0.1724137931034483,
          1
         ]
        },
        {
         "line": {
          "color": "black",
          "dash": "dash"
         },
         "name": "No classifier",
         "type": "scatter",
         "x": [
          0,
          1
         ],
         "y": [
          0,
          1
         ]
        }
       ],
       "layout": {
        "autosize": true,
        "template": {
         "data": {
          "bar": [
           {
            "error_x": {
             "color": "#2a3f5f"
            },
            "error_y": {
             "color": "#2a3f5f"
            },
            "marker": {
             "line": {
              "color": "#E5ECF6",
              "width": 0.5
             }
            },
            "type": "bar"
           }
          ],
          "barpolar": [
           {
            "marker": {
             "line": {
              "color": "#E5ECF6",
              "width": 0.5
             }
            },
            "type": "barpolar"
           }
          ],
          "carpet": [
           {
            "aaxis": {
             "endlinecolor": "#2a3f5f",
             "gridcolor": "white",
             "linecolor": "white",
             "minorgridcolor": "white",
             "startlinecolor": "#2a3f5f"
            },
            "baxis": {
             "endlinecolor": "#2a3f5f",
             "gridcolor": "white",
             "linecolor": "white",
             "minorgridcolor": "white",
             "startlinecolor": "#2a3f5f"
            },
            "type": "carpet"
           }
          ],
          "choropleth": [
           {
            "colorbar": {
             "outlinewidth": 0,
             "ticks": ""
            },
            "type": "choropleth"
           }
          ],
          "contour": [
           {
            "colorbar": {
             "outlinewidth": 0,
             "ticks": ""
            },
            "colorscale": [
             [
              0,
              "#0d0887"
             ],
             [
              0.1111111111111111,
              "#46039f"
             ],
             [
              0.2222222222222222,
              "#7201a8"
             ],
             [
              0.3333333333333333,
              "#9c179e"
             ],
             [
              0.4444444444444444,
              "#bd3786"
             ],
             [
              0.5555555555555556,
              "#d8576b"
             ],
             [
              0.6666666666666666,
              "#ed7953"
             ],
             [
              0.7777777777777778,
              "#fb9f3a"
             ],
             [
              0.8888888888888888,
              "#fdca26"
             ],
             [
              1,
              "#f0f921"
             ]
            ],
            "type": "contour"
           }
          ],
          "contourcarpet": [
           {
            "colorbar": {
             "outlinewidth": 0,
             "ticks": ""
            },
            "type": "contourcarpet"
           }
          ],
          "heatmap": [
           {
            "colorbar": {
             "outlinewidth": 0,
             "ticks": ""
            },
            "colorscale": [
             [
              0,
              "#0d0887"
             ],
             [
              0.1111111111111111,
              "#46039f"
             ],
             [
              0.2222222222222222,
              "#7201a8"
             ],
             [
              0.3333333333333333,
              "#9c179e"
             ],
             [
              0.4444444444444444,
              "#bd3786"
             ],
             [
              0.5555555555555556,
              "#d8576b"
             ],
             [
              0.6666666666666666,
              "#ed7953"
             ],
             [
              0.7777777777777778,
              "#fb9f3a"
             ],
             [
              0.8888888888888888,
              "#fdca26"
             ],
             [
              1,
              "#f0f921"
             ]
            ],
            "type": "heatmap"
           }
          ],
          "heatmapgl": [
           {
            "colorbar": {
             "outlinewidth": 0,
             "ticks": ""
            },
            "colorscale": [
             [
              0,
              "#0d0887"
             ],
             [
              0.1111111111111111,
              "#46039f"
             ],
             [
              0.2222222222222222,
              "#7201a8"
             ],
             [
              0.3333333333333333,
              "#9c179e"
             ],
             [
              0.4444444444444444,
              "#bd3786"
             ],
             [
              0.5555555555555556,
              "#d8576b"
             ],
             [
              0.6666666666666666,
              "#ed7953"
             ],
             [
              0.7777777777777778,
              "#fb9f3a"
             ],
             [
              0.8888888888888888,
              "#fdca26"
             ],
             [
              1,
              "#f0f921"
             ]
            ],
            "type": "heatmapgl"
           }
          ],
          "histogram": [
           {
            "marker": {
             "colorbar": {
              "outlinewidth": 0,
              "ticks": ""
             }
            },
            "type": "histogram"
           }
          ],
          "histogram2d": [
           {
            "colorbar": {
             "outlinewidth": 0,
             "ticks": ""
            },
            "colorscale": [
             [
              0,
              "#0d0887"
             ],
             [
              0.1111111111111111,
              "#46039f"
             ],
             [
              0.2222222222222222,
              "#7201a8"
             ],
             [
              0.3333333333333333,
              "#9c179e"
             ],
             [
              0.4444444444444444,
              "#bd3786"
             ],
             [
              0.5555555555555556,
              "#d8576b"
             ],
             [
              0.6666666666666666,
              "#ed7953"
             ],
             [
              0.7777777777777778,
              "#fb9f3a"
             ],
             [
              0.8888888888888888,
              "#fdca26"
             ],
             [
              1,
              "#f0f921"
             ]
            ],
            "type": "histogram2d"
           }
          ],
          "histogram2dcontour": [
           {
            "colorbar": {
             "outlinewidth": 0,
             "ticks": ""
            },
            "colorscale": [
             [
              0,
              "#0d0887"
             ],
             [
              0.1111111111111111,
              "#46039f"
             ],
             [
              0.2222222222222222,
              "#7201a8"
             ],
             [
              0.3333333333333333,
              "#9c179e"
             ],
             [
              0.4444444444444444,
              "#bd3786"
             ],
             [
              0.5555555555555556,
              "#d8576b"
             ],
             [
              0.6666666666666666,
              "#ed7953"
             ],
             [
              0.7777777777777778,
              "#fb9f3a"
             ],
             [
              0.8888888888888888,
              "#fdca26"
             ],
             [
              1,
              "#f0f921"
             ]
            ],
            "type": "histogram2dcontour"
           }
          ],
          "mesh3d": [
           {
            "colorbar": {
             "outlinewidth": 0,
             "ticks": ""
            },
            "type": "mesh3d"
           }
          ],
          "parcoords": [
           {
            "line": {
             "colorbar": {
              "outlinewidth": 0,
              "ticks": ""
             }
            },
            "type": "parcoords"
           }
          ],
          "pie": [
           {
            "automargin": true,
            "type": "pie"
           }
          ],
          "scatter": [
           {
            "marker": {
             "colorbar": {
              "outlinewidth": 0,
              "ticks": ""
             }
            },
            "type": "scatter"
           }
          ],
          "scatter3d": [
           {
            "line": {
             "colorbar": {
              "outlinewidth": 0,
              "ticks": ""
             }
            },
            "marker": {
             "colorbar": {
              "outlinewidth": 0,
              "ticks": ""
             }
            },
            "type": "scatter3d"
           }
          ],
          "scattercarpet": [
           {
            "marker": {
             "colorbar": {
              "outlinewidth": 0,
              "ticks": ""
             }
            },
            "type": "scattercarpet"
           }
          ],
          "scattergeo": [
           {
            "marker": {
             "colorbar": {
              "outlinewidth": 0,
              "ticks": ""
             }
            },
            "type": "scattergeo"
           }
          ],
          "scattergl": [
           {
            "marker": {
             "colorbar": {
              "outlinewidth": 0,
              "ticks": ""
             }
            },
            "type": "scattergl"
           }
          ],
          "scattermapbox": [
           {
            "marker": {
             "colorbar": {
              "outlinewidth": 0,
              "ticks": ""
             }
            },
            "type": "scattermapbox"
           }
          ],
          "scatterpolar": [
           {
            "marker": {
             "colorbar": {
              "outlinewidth": 0,
              "ticks": ""
             }
            },
            "type": "scatterpolar"
           }
          ],
          "scatterpolargl": [
           {
            "marker": {
             "colorbar": {
              "outlinewidth": 0,
              "ticks": ""
             }
            },
            "type": "scatterpolargl"
           }
          ],
          "scatterternary": [
           {
            "marker": {
             "colorbar": {
              "outlinewidth": 0,
              "ticks": ""
             }
            },
            "type": "scatterternary"
           }
          ],
          "surface": [
           {
            "colorbar": {
             "outlinewidth": 0,
             "ticks": ""
            },
            "colorscale": [
             [
              0,
              "#0d0887"
             ],
             [
              0.1111111111111111,
              "#46039f"
             ],
             [
              0.2222222222222222,
              "#7201a8"
             ],
             [
              0.3333333333333333,
              "#9c179e"
             ],
             [
              0.4444444444444444,
              "#bd3786"
             ],
             [
              0.5555555555555556,
              "#d8576b"
             ],
             [
              0.6666666666666666,
              "#ed7953"
             ],
             [
              0.7777777777777778,
              "#fb9f3a"
             ],
             [
              0.8888888888888888,
              "#fdca26"
             ],
             [
              1,
              "#f0f921"
             ]
            ],
            "type": "surface"
           }
          ],
          "table": [
           {
            "cells": {
             "fill": {
              "color": "#EBF0F8"
             },
             "line": {
              "color": "white"
             }
            },
            "header": {
             "fill": {
              "color": "#C8D4E3"
             },
             "line": {
              "color": "white"
             }
            },
            "type": "table"
           }
          ]
         },
         "layout": {
          "annotationdefaults": {
           "arrowcolor": "#2a3f5f",
           "arrowhead": 0,
           "arrowwidth": 1
          },
          "coloraxis": {
           "colorbar": {
            "outlinewidth": 0,
            "ticks": ""
           }
          },
          "colorscale": {
           "diverging": [
            [
             0,
             "#8e0152"
            ],
            [
             0.1,
             "#c51b7d"
            ],
            [
             0.2,
             "#de77ae"
            ],
            [
             0.3,
             "#f1b6da"
            ],
            [
             0.4,
             "#fde0ef"
            ],
            [
             0.5,
             "#f7f7f7"
            ],
            [
             0.6,
             "#e6f5d0"
            ],
            [
             0.7,
             "#b8e186"
            ],
            [
             0.8,
             "#7fbc41"
            ],
            [
             0.9,
             "#4d9221"
            ],
            [
             1,
             "#276419"
            ]
           ],
           "sequential": [
            [
             0,
             "#0d0887"
            ],
            [
             0.1111111111111111,
             "#46039f"
            ],
            [
             0.2222222222222222,
             "#7201a8"
            ],
            [
             0.3333333333333333,
             "#9c179e"
            ],
            [
             0.4444444444444444,
             "#bd3786"
            ],
            [
             0.5555555555555556,
             "#d8576b"
            ],
            [
             0.6666666666666666,
             "#ed7953"
            ],
            [
             0.7777777777777778,
             "#fb9f3a"
            ],
            [
             0.8888888888888888,
             "#fdca26"
            ],
            [
             1,
             "#f0f921"
            ]
           ],
           "sequentialminus": [
            [
             0,
             "#0d0887"
            ],
            [
             0.1111111111111111,
             "#46039f"
            ],
            [
             0.2222222222222222,
             "#7201a8"
            ],
            [
             0.3333333333333333,
             "#9c179e"
            ],
            [
             0.4444444444444444,
             "#bd3786"
            ],
            [
             0.5555555555555556,
             "#d8576b"
            ],
            [
             0.6666666666666666,
             "#ed7953"
            ],
            [
             0.7777777777777778,
             "#fb9f3a"
            ],
            [
             0.8888888888888888,
             "#fdca26"
            ],
            [
             1,
             "#f0f921"
            ]
           ]
          },
          "colorway": [
           "#636efa",
           "#EF553B",
           "#00cc96",
           "#ab63fa",
           "#FFA15A",
           "#19d3f3",
           "#FF6692",
           "#B6E880",
           "#FF97FF",
           "#FECB52"
          ],
          "font": {
           "color": "#2a3f5f"
          },
          "geo": {
           "bgcolor": "white",
           "lakecolor": "white",
           "landcolor": "#E5ECF6",
           "showlakes": true,
           "showland": true,
           "subunitcolor": "white"
          },
          "hoverlabel": {
           "align": "left"
          },
          "hovermode": "closest",
          "mapbox": {
           "style": "light"
          },
          "paper_bgcolor": "white",
          "plot_bgcolor": "#E5ECF6",
          "polar": {
           "angularaxis": {
            "gridcolor": "white",
            "linecolor": "white",
            "ticks": ""
           },
           "bgcolor": "#E5ECF6",
           "radialaxis": {
            "gridcolor": "white",
            "linecolor": "white",
            "ticks": ""
           }
          },
          "scene": {
           "xaxis": {
            "backgroundcolor": "#E5ECF6",
            "gridcolor": "white",
            "gridwidth": 2,
            "linecolor": "white",
            "showbackground": true,
            "ticks": "",
            "zerolinecolor": "white"
           },
           "yaxis": {
            "backgroundcolor": "#E5ECF6",
            "gridcolor": "white",
            "gridwidth": 2,
            "linecolor": "white",
            "showbackground": true,
            "ticks": "",
            "zerolinecolor": "white"
           },
           "zaxis": {
            "backgroundcolor": "#E5ECF6",
            "gridcolor": "white",
            "gridwidth": 2,
            "linecolor": "white",
            "showbackground": true,
            "ticks": "",
            "zerolinecolor": "white"
           }
          },
          "shapedefaults": {
           "line": {
            "color": "#2a3f5f"
           }
          },
          "ternary": {
           "aaxis": {
            "gridcolor": "white",
            "linecolor": "white",
            "ticks": ""
           },
           "baxis": {
            "gridcolor": "white",
            "linecolor": "white",
            "ticks": ""
           },
           "bgcolor": "#E5ECF6",
           "caxis": {
            "gridcolor": "white",
            "linecolor": "white",
            "ticks": ""
           }
          },
          "title": {
           "x": 0.05
          },
          "xaxis": {
           "automargin": true,
           "gridcolor": "white",
           "linecolor": "white",
           "ticks": "",
           "title": {
            "standoff": 15
           },
           "zerolinecolor": "white",
           "zerolinewidth": 2
          },
          "yaxis": {
           "automargin": true,
           "gridcolor": "white",
           "linecolor": "white",
           "ticks": "",
           "title": {
            "standoff": 15
           },
           "zerolinecolor": "white",
           "zerolinewidth": 2
          }
         }
        },
        "xaxis": {
         "autorange": true,
         "range": [
          -0.06443024494142706,
          1.0644302449414271
         ],
         "title": {
          "text": "False Positive Rate"
         },
         "type": "linear"
        },
        "yaxis": {
         "autorange": true,
         "range": [
          -0.0732484076433121,
          1.0732484076433122
         ],
         "title": {
          "text": "True Positive Rate"
         },
         "type": "linear"
        }
       }
      },
      "image/png": "[encoded data removed]",
      "text/html": [
       "<div>\n",
       "        \n",
       "        \n",
       "            <div id=\"eef49b07-fa4c-4612-9fd4-091684f96bc3\" class=\"plotly-graph-div\" style=\"height:525px; width:100%;\"></div>\n",
       "            <script type=\"text/javascript\">\n",
       "                require([\"plotly\"], function(Plotly) {\n",
       "                    window.PLOTLYENV=window.PLOTLYENV || {};\n",
       "                    \n",
       "                if (document.getElementById(\"eef49b07-fa4c-4612-9fd4-091684f96bc3\")) {\n",
       "                    Plotly.newPlot(\n",
       "                        'eef49b07-fa4c-4612-9fd4-091684f96bc3',\n",
       "                        [{\"line\": {\"color\": \"royalblue\"}, \"name\": \"LDA\", \"type\": \"scatter\", \"x\": [0.0, 0.0196078431372549, 1.0], \"y\": [0.0, 0.3103448275862069, 1.0]}, {\"line\": {\"color\": \"red\"}, \"name\": \"KNN classification\", \"type\": \"scatter\", \"x\": [0.0, 0.11764705882352941, 1.0], \"y\": [0.0, 0.1724137931034483, 1.0]}, {\"line\": {\"color\": \"black\", \"dash\": \"dash\"}, \"name\": \"No classifier\", \"type\": \"scatter\", \"x\": [0, 1], \"y\": [0, 1]}],\n",
       "                        {\"template\": {\"data\": {\"bar\": [{\"error_x\": {\"color\": \"#2a3f5f\"}, \"error_y\": {\"color\": \"#2a3f5f\"}, \"marker\": {\"line\": {\"color\": \"#E5ECF6\", \"width\": 0.5}}, \"type\": \"bar\"}], \"barpolar\": [{\"marker\": {\"line\": {\"color\": \"#E5ECF6\", \"width\": 0.5}}, \"type\": \"barpolar\"}], \"carpet\": [{\"aaxis\": {\"endlinecolor\": \"#2a3f5f\", \"gridcolor\": \"white\", \"linecolor\": \"white\", \"minorgridcolor\": \"white\", \"startlinecolor\": \"#2a3f5f\"}, \"baxis\": {\"endlinecolor\": \"#2a3f5f\", \"gridcolor\": \"white\", \"linecolor\": \"white\", \"minorgridcolor\": \"white\", \"startlinecolor\": \"#2a3f5f\"}, \"type\": \"carpet\"}], \"choropleth\": [{\"colorbar\": {\"outlinewidth\": 0, \"ticks\": \"\"}, \"type\": \"choropleth\"}], \"contour\": [{\"colorbar\": {\"outlinewidth\": 0, \"ticks\": \"\"}, \"colorscale\": [[0.0, \"#0d0887\"], [0.1111111111111111, \"#46039f\"], [0.2222222222222222, \"#7201a8\"], [0.3333333333333333, \"#9c179e\"], [0.4444444444444444, \"#bd3786\"], [0.5555555555555556, \"#d8576b\"], [0.6666666666666666, \"#ed7953\"], [0.7777777777777778, \"#fb9f3a\"], [0.8888888888888888, \"#fdca26\"], [1.0, \"#f0f921\"]], \"type\": \"contour\"}], \"contourcarpet\": [{\"colorbar\": {\"outlinewidth\": 0, \"ticks\": \"\"}, \"type\": \"contourcarpet\"}], \"heatmap\": [{\"colorbar\": {\"outlinewidth\": 0, \"ticks\": \"\"}, \"colorscale\": [[0.0, \"#0d0887\"], [0.1111111111111111, \"#46039f\"], [0.2222222222222222, \"#7201a8\"], [0.3333333333333333, \"#9c179e\"], [0.4444444444444444, \"#bd3786\"], [0.5555555555555556, \"#d8576b\"], [0.6666666666666666, \"#ed7953\"], [0.7777777777777778, \"#fb9f3a\"], [0.8888888888888888, \"#fdca26\"], [1.0, \"#f0f921\"]], \"type\": \"heatmap\"}], \"heatmapgl\": [{\"colorbar\": {\"outlinewidth\": 0, \"ticks\": \"\"}, \"colorscale\": [[0.0, \"#0d0887\"], [0.1111111111111111, \"#46039f\"], [0.2222222222222222, \"#7201a8\"], [0.3333333333333333, \"#9c179e\"], [0.4444444444444444, \"#bd3786\"], [0.5555555555555556, \"#d8576b\"], [0.6666666666666666, \"#ed7953\"], [0.7777777777777778, \"#fb9f3a\"], [0.8888888888888888, \"#fdca26\"], [1.0, \"#f0f921\"]], \"type\": \"heatmapgl\"}], \"histogram\": [{\"marker\": {\"colorbar\": {\"outlinewidth\": 0, \"ticks\": \"\"}}, \"type\": \"histogram\"}], \"histogram2d\": [{\"colorbar\": {\"outlinewidth\": 0, \"ticks\": \"\"}, \"colorscale\": [[0.0, \"#0d0887\"], [0.1111111111111111, \"#46039f\"], [0.2222222222222222, \"#7201a8\"], [0.3333333333333333, \"#9c179e\"], [0.4444444444444444, \"#bd3786\"], [0.5555555555555556, \"#d8576b\"], [0.6666666666666666, \"#ed7953\"], [0.7777777777777778, \"#fb9f3a\"], [0.8888888888888888, \"#fdca26\"], [1.0, \"#f0f921\"]], \"type\": \"histogram2d\"}], \"histogram2dcontour\": [{\"colorbar\": {\"outlinewidth\": 0, \"ticks\": \"\"}, \"colorscale\": [[0.0, \"#0d0887\"], [0.1111111111111111, \"#46039f\"], [0.2222222222222222, \"#7201a8\"], [0.3333333333333333, \"#9c179e\"], [0.4444444444444444, \"#bd3786\"], [0.5555555555555556, \"#d8576b\"], [0.6666666666666666, \"#ed7953\"], [0.7777777777777778, \"#fb9f3a\"], [0.8888888888888888, \"#fdca26\"], [1.0, \"#f0f921\"]], \"type\": \"histogram2dcontour\"}], \"mesh3d\": [{\"colorbar\": {\"outlinewidth\": 0, \"ticks\": \"\"}, \"type\": \"mesh3d\"}], \"parcoords\": [{\"line\": {\"colorbar\": {\"outlinewidth\": 0, \"ticks\": \"\"}}, \"type\": \"parcoords\"}], \"pie\": [{\"automargin\": true, \"type\": \"pie\"}], \"scatter\": [{\"marker\": {\"colorbar\": {\"outlinewidth\": 0, \"ticks\": \"\"}}, \"type\": \"scatter\"}], \"scatter3d\": [{\"line\": {\"colorbar\": {\"outlinewidth\": 0, \"ticks\": \"\"}}, \"marker\": {\"colorbar\": {\"outlinewidth\": 0, \"ticks\": \"\"}}, \"type\": \"scatter3d\"}], \"scattercarpet\": [{\"marker\": {\"colorbar\": {\"outlinewidth\": 0, \"ticks\": \"\"}}, \"type\": \"scattercarpet\"}], \"scattergeo\": [{\"marker\": {\"colorbar\": {\"outlinewidth\": 0, \"ticks\": \"\"}}, \"type\": \"scattergeo\"}], \"scattergl\": [{\"marker\": {\"colorbar\": {\"outlinewidth\": 0, \"ticks\": \"\"}}, \"type\": \"scattergl\"}], \"scattermapbox\": [{\"marker\": {\"colorbar\": {\"outlinewidth\": 0, \"ticks\": \"\"}}, \"type\": \"scattermapbox\"}], \"scatterpolar\": [{\"marker\": {\"colorbar\": {\"outlinewidth\": 0, \"ticks\": \"\"}}, \"type\": \"scatterpolar\"}], \"scatterpolargl\": [{\"marker\": {\"colorbar\": {\"outlinewidth\": 0, \"ticks\": \"\"}}, \"type\": \"scatterpolargl\"}], \"scatterternary\": [{\"marker\": {\"colorbar\": {\"outlinewidth\": 0, \"ticks\": \"\"}}, \"type\": \"scatterternary\"}], \"surface\": [{\"colorbar\": {\"outlinewidth\": 0, \"ticks\": \"\"}, \"colorscale\": [[0.0, \"#0d0887\"], [0.1111111111111111, \"#46039f\"], [0.2222222222222222, \"#7201a8\"], [0.3333333333333333, \"#9c179e\"], [0.4444444444444444, \"#bd3786\"], [0.5555555555555556, \"#d8576b\"], [0.6666666666666666, \"#ed7953\"], [0.7777777777777778, \"#fb9f3a\"], [0.8888888888888888, \"#fdca26\"], [1.0, \"#f0f921\"]], \"type\": \"surface\"}], \"table\": [{\"cells\": {\"fill\": {\"color\": \"#EBF0F8\"}, \"line\": {\"color\": \"white\"}}, \"header\": {\"fill\": {\"color\": \"#C8D4E3\"}, \"line\": {\"color\": \"white\"}}, \"type\": \"table\"}]}, \"layout\": {\"annotationdefaults\": {\"arrowcolor\": \"#2a3f5f\", \"arrowhead\": 0, \"arrowwidth\": 1}, \"coloraxis\": {\"colorbar\": {\"outlinewidth\": 0, \"ticks\": \"\"}}, \"colorscale\": {\"diverging\": [[0, \"#8e0152\"], [0.1, \"#c51b7d\"], [0.2, \"#de77ae\"], [0.3, \"#f1b6da\"], [0.4, \"#fde0ef\"], [0.5, \"#f7f7f7\"], [0.6, \"#e6f5d0\"], [0.7, \"#b8e186\"], [0.8, \"#7fbc41\"], [0.9, \"#4d9221\"], [1, \"#276419\"]], \"sequential\": [[0.0, \"#0d0887\"], [0.1111111111111111, \"#46039f\"], [0.2222222222222222, \"#7201a8\"], [0.3333333333333333, \"#9c179e\"], [0.4444444444444444, \"#bd3786\"], [0.5555555555555556, \"#d8576b\"], [0.6666666666666666, \"#ed7953\"], [0.7777777777777778, \"#fb9f3a\"], [0.8888888888888888, \"#fdca26\"], [1.0, \"#f0f921\"]], \"sequentialminus\": [[0.0, \"#0d0887\"], [0.1111111111111111, \"#46039f\"], [0.2222222222222222, \"#7201a8\"], [0.3333333333333333, \"#9c179e\"], [0.4444444444444444, \"#bd3786\"], [0.5555555555555556, \"#d8576b\"], [0.6666666666666666, \"#ed7953\"], [0.7777777777777778, \"#fb9f3a\"], [0.8888888888888888, \"#fdca26\"], [1.0, \"#f0f921\"]]}, \"colorway\": [\"#636efa\", \"#EF553B\", \"#00cc96\", \"#ab63fa\", \"#FFA15A\", \"#19d3f3\", \"#FF6692\", \"#B6E880\", \"#FF97FF\", \"#FECB52\"], \"font\": {\"color\": \"#2a3f5f\"}, \"geo\": {\"bgcolor\": \"white\", \"lakecolor\": \"white\", \"landcolor\": \"#E5ECF6\", \"showlakes\": true, \"showland\": true, \"subunitcolor\": \"white\"}, \"hoverlabel\": {\"align\": \"left\"}, \"hovermode\": \"closest\", \"mapbox\": {\"style\": \"light\"}, \"paper_bgcolor\": \"white\", \"plot_bgcolor\": \"#E5ECF6\", \"polar\": {\"angularaxis\": {\"gridcolor\": \"white\", \"linecolor\": \"white\", \"ticks\": \"\"}, \"bgcolor\": \"#E5ECF6\", \"radialaxis\": {\"gridcolor\": \"white\", \"linecolor\": \"white\", \"ticks\": \"\"}}, \"scene\": {\"xaxis\": {\"backgroundcolor\": \"#E5ECF6\", \"gridcolor\": \"white\", \"gridwidth\": 2, \"linecolor\": \"white\", \"showbackground\": true, \"ticks\": \"\", \"zerolinecolor\": \"white\"}, \"yaxis\": {\"backgroundcolor\": \"#E5ECF6\", \"gridcolor\": \"white\", \"gridwidth\": 2, \"linecolor\": \"white\", \"showbackground\": true, \"ticks\": \"\", \"zerolinecolor\": \"white\"}, \"zaxis\": {\"backgroundcolor\": \"#E5ECF6\", \"gridcolor\": \"white\", \"gridwidth\": 2, \"linecolor\": \"white\", \"showbackground\": true, \"ticks\": \"\", \"zerolinecolor\": \"white\"}}, \"shapedefaults\": {\"line\": {\"color\": \"#2a3f5f\"}}, \"ternary\": {\"aaxis\": {\"gridcolor\": \"white\", \"linecolor\": \"white\", \"ticks\": \"\"}, \"baxis\": {\"gridcolor\": \"white\", \"linecolor\": \"white\", \"ticks\": \"\"}, \"bgcolor\": \"#E5ECF6\", \"caxis\": {\"gridcolor\": \"white\", \"linecolor\": \"white\", \"ticks\": \"\"}}, \"title\": {\"x\": 0.05}, \"xaxis\": {\"automargin\": true, \"gridcolor\": \"white\", \"linecolor\": \"white\", \"ticks\": \"\", \"title\": {\"standoff\": 15}, \"zerolinecolor\": \"white\", \"zerolinewidth\": 2}, \"yaxis\": {\"automargin\": true, \"gridcolor\": \"white\", \"linecolor\": \"white\", \"ticks\": \"\", \"title\": {\"standoff\": 15}, \"zerolinecolor\": \"white\", \"zerolinewidth\": 2}}}, \"xaxis\": {\"title\": {\"text\": \"False Positive Rate\"}}, \"yaxis\": {\"title\": {\"text\": \"True Positive Rate\"}}},\n",
       "                        {\"responsive\": true}\n",
       "                    ).then(function(){\n",
       "                            \n",
       "var gd = document.getElementById('eef49b07-fa4c-4612-9fd4-091684f96bc3');\n",
       "var x = new MutationObserver(function (mutations, observer) {{\n",
       "        var display = window.getComputedStyle(gd).display;\n",
       "        if (!display || display === 'none') {{\n",
       "            console.log([gd, 'removed!']);\n",
       "            Plotly.purge(gd);\n",
       "            observer.disconnect();\n",
       "        }}\n",
       "}});\n",
       "\n",
       "// Listen for the removal of the full notebook cells\n",
       "var notebookContainer = gd.closest('#notebook-container');\n",
       "if (notebookContainer) {{\n",
       "    x.observe(notebookContainer, {childList: true});\n",
       "}}\n",
       "\n",
       "// Listen for the clearing of the current output cell\n",
       "var outputEl = gd.closest('.output');\n",
       "if (outputEl) {{\n",
       "    x.observe(outputEl, {childList: true});\n",
       "}}\n",
       "\n",
       "                        })\n",
       "                };\n",
       "                });\n",
       "            </script>\n",
       "        </div>"
      ]
     },
     "metadata": {},
     "output_type": "display_data"
    }
   ],
   "source": [
    "import plotly.graph_objects as go\n",
    "fig = go.Figure()\n",
    "fig.add_trace(go.Scatter(x=fpr_lda, \n",
    "                         y=tpr_lda, \n",
    "                         name='LDA',\n",
    "                         line=dict(color='royalblue'))) \n",
    "fig.add_trace(go.Scatter(x=fpr_knnclass, \n",
    "                         y=tpr_knnclass, \n",
    "                         name='KNN classification',\n",
    "                         line=dict(color='red'))) \n",
    "fig.add_trace(go.Scatter(x=[0,1], \n",
    "                         y=[0,1], \n",
    "                         name='No classifier',\n",
    "                         line=dict(color='black', \n",
    "                                   dash='dash'))) \n",
    "\n",
    "fig.update_layout(\n",
    "    xaxis=dict(title_text=\"False Positive Rate\"),\n",
    "    yaxis=dict(title_text=\"True Positive Rate\"))\n",
    " \n",
    "fig.show()"
   ]
  }
 ],
 "metadata": {
  "kernelspec": {
   "display_name": "xpython",
   "language": "python",
   "name": "xpython"
  },
  "language_info": {
   "file_extension": ".py",
   "mimetype": "text/x-python",
   "name": "python",
   "version": "3.7.6"
  }
 },
 "nbformat": 4,
 "nbformat_minor": 4
}
