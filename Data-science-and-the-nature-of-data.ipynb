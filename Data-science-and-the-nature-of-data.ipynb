{
 "cells": [
  {
   "cell_type": "markdown",
   "metadata": {},
   "source": [
    "# Data Science and the Nature of Data\n",
    "\n",
    "\n",
    "## Load data"
   ]
  },
  {
   "cell_type": "code",
   "execution_count": 14,
   "metadata": {},
   "outputs": [],
   "source": [
    "import seaborn as sns\n",
    "\n",
    "#<xml xmlns=\"https://developers.google.com/blockly/xml\"><variables><variable id=\"Y;QqMX.ksfqmJ/K~J)#:\">sns</variable></variables><block type=\"importAs\" id=\"06NQsrer?lqIYDz:Kf.]\" x=\"20\" y=\"123\"><field name=\"libraryName\">seaborn</field><field name=\"libraryAlias\" id=\"Y;QqMX.ksfqmJ/K~J)#:\">sns</field></block></xml>"
   ]
  },
  {
   "cell_type": "code",
   "execution_count": 15,
   "metadata": {},
   "outputs": [],
   "source": [
    "iris = sns.load_dataset('iris')\n",
    "\n",
    "#<xml xmlns=\"https://developers.google.com/blockly/xml\"><variables><variable id=\"w{XYwzJID?zQ##dG@5_m\">iris</variable><variable id=\"Y;QqMX.ksfqmJ/K~J)#:\">sns</variable></variables><block type=\"variables_set\" id=\"Pi,H0EUCG1(j*bt,,-mX\" x=\"-10\" y=\"191\"><field name=\"VAR\" id=\"w{XYwzJID?zQ##dG@5_m\">iris</field><value name=\"VALUE\"><block type=\"varDoMethod\" id=\":a.t3e,-8!dipmT*odVw\"><field name=\"VAR\" id=\"Y;QqMX.ksfqmJ/K~J)#:\">sns</field><field name=\"MEMBER\">load_dataset</field><data>sns:load_dataset</data><value name=\"INPUT\"><block type=\"text\" id=\"N0eSFcX:_Xobqs9/vr)X\"><field name=\"TEXT\">iris</field></block></value></block></value></block></xml>"
   ]
  },
  {
   "cell_type": "markdown",
   "metadata": {},
   "source": [
    "## Display data\n",
    "\n",
    "### Tabular"
   ]
  },
  {
   "cell_type": "code",
   "execution_count": 16,
   "metadata": {},
   "outputs": [
    {
     "data": {
      "text/html": [
       "<div>\n",
       "<style scoped>\n",
       "    .dataframe tbody tr th:only-of-type {\n",
       "        vertical-align: middle;\n",
       "    }\n",
       "\n",
       "    .dataframe tbody tr th {\n",
       "        vertical-align: top;\n",
       "    }\n",
       "\n",
       "    .dataframe thead th {\n",
       "        text-align: right;\n",
       "    }\n",
       "</style>\n",
       "<table border=\"1\" class=\"dataframe\">\n",
       "  <thead>\n",
       "    <tr style=\"text-align: right;\">\n",
       "      <th></th>\n",
       "      <th>sepal_length</th>\n",
       "      <th>sepal_width</th>\n",
       "      <th>petal_length</th>\n",
       "      <th>petal_width</th>\n",
       "      <th>species</th>\n",
       "    </tr>\n",
       "  </thead>\n",
       "  <tbody>\n",
       "    <tr>\n",
       "      <th>0</th>\n",
       "      <td>5.1</td>\n",
       "      <td>3.5</td>\n",
       "      <td>1.4</td>\n",
       "      <td>0.2</td>\n",
       "      <td>setosa</td>\n",
       "    </tr>\n",
       "    <tr>\n",
       "      <th>1</th>\n",
       "      <td>4.9</td>\n",
       "      <td>3.0</td>\n",
       "      <td>1.4</td>\n",
       "      <td>0.2</td>\n",
       "      <td>setosa</td>\n",
       "    </tr>\n",
       "    <tr>\n",
       "      <th>2</th>\n",
       "      <td>4.7</td>\n",
       "      <td>3.2</td>\n",
       "      <td>1.3</td>\n",
       "      <td>0.2</td>\n",
       "      <td>setosa</td>\n",
       "    </tr>\n",
       "    <tr>\n",
       "      <th>3</th>\n",
       "      <td>4.6</td>\n",
       "      <td>3.1</td>\n",
       "      <td>1.5</td>\n",
       "      <td>0.2</td>\n",
       "      <td>setosa</td>\n",
       "    </tr>\n",
       "    <tr>\n",
       "      <th>4</th>\n",
       "      <td>5.0</td>\n",
       "      <td>3.6</td>\n",
       "      <td>1.4</td>\n",
       "      <td>0.2</td>\n",
       "      <td>setosa</td>\n",
       "    </tr>\n",
       "  </tbody>\n",
       "</table>\n",
       "</div>"
      ],
      "text/latex": [
       "None"
      ],
      "text/plain": [
       "   sepal_length  sepal_width  petal_length  petal_width species\n",
       "0           5.1          3.5           1.4          0.2  setosa\n",
       "1           4.9          3.0           1.4          0.2  setosa\n",
       "2           4.7          3.2           1.3          0.2  setosa\n",
       "3           4.6          3.1           1.5          0.2  setosa\n",
       "4           5.0          3.6           1.4          0.2  setosa"
      ]
     },
     "execution_count": 16,
     "metadata": {},
     "output_type": "execute_result"
    }
   ],
   "source": [
    "iris.head()\n",
    "\n",
    "#<xml xmlns=\"https://developers.google.com/blockly/xml\"><block type=\"dummyNoOutputCodeBlock\" id=\"R61;nGuKUL|ZiG:V#e^w\" x=\"21\" y=\"231\"><field name=\"CODE\">iris.head()</field></block></xml>"
   ]
  },
  {
   "cell_type": "markdown",
   "metadata": {},
   "source": [
    "### Plot"
   ]
  },
  {
   "cell_type": "code",
   "execution_count": 17,
   "metadata": {},
   "outputs": [],
   "source": [
    "import sys as sys\n",
    "import matplotlib.pyplot as plt\n",
    "\n",
    "#<xml xmlns=\"https://developers.google.com/blockly/xml\"><variables><variable id=\"=si]EbR0d9ShbUQb`O+p\">sys</variable><variable id=\"iA,io$x96FNVF5[yEN6#\">plt</variable></variables><block type=\"importAs\" id=\"vic31uv^(7//EJgTgnpM\" x=\"14\" y=\"45\"><field name=\"libraryName\">sys</field><field name=\"libraryAlias\" id=\"=si]EbR0d9ShbUQb`O+p\">sys</field><next><block type=\"importAs\" id=\"jgI/;Ji{c[Sh!yR=pvO%\"><field name=\"libraryName\">matplotlib.pyplot</field><field name=\"libraryAlias\" id=\"iA,io$x96FNVF5[yEN6#\">plt</field></block></next></block></xml>"
   ]
  },
  {
   "cell_type": "code",
   "execution_count": 18,
   "metadata": {},
   "outputs": [],
   "source": [
    "sys.argv = ['']\n",
    "\n",
    "sns.set()\n",
    "\n",
    "sns.pairplot(iris, hue=\"species\", height=1.5)\n",
    "\n",
    "plt.show()\n",
    "\n",
    "#<xml xmlns=\"https://developers.google.com/blockly/xml\"><variables><variable id=\"Y;QqMX.ksfqmJ/K~J)#:\">sns</variable><variable id=\"iA,io$x96FNVF5[yEN6#\">plt</variable><variable id=\"w{XYwzJID?zQ##dG@5_m\">iris</variable></variables><block type=\"valueNoOutputCodeBlock\" id=\"N1H#P_m2^Q:)@uegpu0I\" x=\"-42\" y=\"216\"><field name=\"CODE\">sys.argv =</field><value name=\"INPUT\"><block type=\"lists_create_with\" id=\"d7i)mFtQNMJK7!?*Snr;\"><mutation items=\"1\"/><value name=\"ADD0\"><block type=\"text\" id=\"20+{B@er=VxRt$lC7F|+\"><field name=\"TEXT\"/></block></value></block></value></block><block type=\"varDoMethod\" id=\"3lpLk3u!%!oe|sJ9?wrM\" x=\"-38\" y=\"254\"><field name=\"VAR\" id=\"Y;QqMX.ksfqmJ/K~J)#:\">sns</field><field name=\"MEMBER\">set</field><data>sns:set</data></block><block type=\"varDoMethod\" id=\"9fv{gJeg,H$p62dYa}}5\" x=\"-40\" y=\"294\"><field name=\"VAR\" id=\"Y;QqMX.ksfqmJ/K~J)#:\">sns</field><field name=\"MEMBER\">pairplot</field><data>sns:pairplot</data><value name=\"INPUT\"><block type=\"lists_create_with\" id=\"G)r/$1Y=eQit224#/Fu1\"><mutation items=\"3\"/><value name=\"ADD0\"><block type=\"variables_get\" id=\"RDO:r55L0H=cCYIt9*fB\"><field name=\"VAR\" id=\"w{XYwzJID?zQ##dG@5_m\">iris</field></block></value><value name=\"ADD1\"><block type=\"dummyOutputCodeBlock\" id=\"XL!63t)F7l_1mttWsxu=\"><field name=\"CODE\">hue=\"species\"</field></block></value><value name=\"ADD2\"><block type=\"dummyOutputCodeBlock\" id=\"[pY#G%b8ej`B*W$j[Zj0\"><field name=\"CODE\">height=1.5</field></block></value></block></value></block><block type=\"varDoMethod\" id=\"Q)3TF7gPY?kY+.;Be^Pw\" x=\"-42\" y=\"386\"><field name=\"VAR\" id=\"iA,io$x96FNVF5[yEN6#\">plt</field><field name=\"MEMBER\">show</field><data>plt:show</data></block></xml>"
   ]
  },
  {
   "cell_type": "markdown",
   "metadata": {},
   "source": [
    "## Model\n",
    "\n",
    "### Prepare data"
   ]
  },
  {
   "cell_type": "code",
   "execution_count": 19,
   "metadata": {},
   "outputs": [],
   "source": [
    "X_iris = iris.drop(\"species\", axis=1)\n",
    "y_iris = iris[\"species\"]\n",
    "\n",
    "#<xml xmlns=\"https://developers.google.com/blockly/xml\"><variables><variable id=\"7Vne2RZ!8Ca*bD2Ac5=:\">X_iris</variable><variable id=\"VC2Q)I0Ee6?e5pwe{ro3\">y_iris</variable></variables><block type=\"variables_set\" id=\"V:1jp`My12h}hp=DATuk\" x=\"-61\" y=\"121\"><field name=\"VAR\" id=\"7Vne2RZ!8Ca*bD2Ac5=:\">X_iris</field><value name=\"VALUE\"><block type=\"dummyOutputCodeBlock\" id=\"1axNyysVGEit7+/MlC%q\"><field name=\"CODE\">iris.drop(\"species\", axis=1)</field></block></value><next><block type=\"variables_set\" id=\"(n?=sYhyyNz9|XhMS1y1\"><field name=\"VAR\" id=\"VC2Q)I0Ee6?e5pwe{ro3\">y_iris</field><value name=\"VALUE\"><block type=\"dummyOutputCodeBlock\" id=\"FR0ZOb$3{Ll%ky#HD8l8\"><field name=\"CODE\">iris[\"species\"]</field></block></value></block></next></block></xml>"
   ]
  },
  {
   "cell_type": "code",
   "execution_count": 20,
   "metadata": {},
   "outputs": [],
   "source": [
    "import sklearn.model_selection as model_selection\n",
    "\n",
    "#<xml xmlns=\"https://developers.google.com/blockly/xml\"><variables><variable id=\"-q~R*yx.VGQ@%!0Q+!gh\">model_selection</variable></variables><block type=\"importAs\" id=\"E{QJ$O@lc8u.;OTWdVgf\" x=\"-89\" y=\"168\"><field name=\"libraryName\">sklearn.model_selection</field><field name=\"libraryAlias\" id=\"-q~R*yx.VGQ@%!0Q+!gh\">model_selection</field></block></xml>"
   ]
  },
  {
   "cell_type": "code",
   "execution_count": 21,
   "metadata": {},
   "outputs": [],
   "source": [
    "trainTest = model_selection.train_test_split(X_iris, y_iris, random_state=1)\n",
    "\n",
    "#<xml xmlns=\"https://developers.google.com/blockly/xml\"><variables><variable id=\"}*.K9TP5ezgV@5qVZ;sQ\">trainTest</variable><variable id=\"-q~R*yx.VGQ@%!0Q+!gh\">model_selection</variable><variable id=\"7Vne2RZ!8Ca*bD2Ac5=:\">X_iris</variable><variable id=\"VC2Q)I0Ee6?e5pwe{ro3\">y_iris</variable></variables><block type=\"variables_set\" id=\"HpD!.HSC`PPRg]21i*7c\" x=\"-102\" y=\"134\"><field name=\"VAR\" id=\"}*.K9TP5ezgV@5qVZ;sQ\">trainTest</field><value name=\"VALUE\"><block type=\"varDoMethod\" id=\"fUetl3$Ak=SI~T6T5!6c\"><field name=\"VAR\" id=\"-q~R*yx.VGQ@%!0Q+!gh\">model_selection</field><field name=\"MEMBER\">train_test_split</field><data>model_selection:train_test_split</data><value name=\"INPUT\"><block type=\"lists_create_with\" id=\"uUY%r2L/7acQcS/KbQvx\"><mutation items=\"3\"/><value name=\"ADD0\"><block type=\"variables_get\" id=\"jN^;NIVaV%22*W_^|!uK\"><field name=\"VAR\" id=\"7Vne2RZ!8Ca*bD2Ac5=:\">X_iris</field></block></value><value name=\"ADD1\"><block type=\"variables_get\" id=\"OOZSj;YDm{T6q%{~5?B1\"><field name=\"VAR\" id=\"VC2Q)I0Ee6?e5pwe{ro3\">y_iris</field></block></value><value name=\"ADD2\"><block type=\"dummyOutputCodeBlock\" id=\"Gg*^%q4qIJwc*of,V|rb\"><field name=\"CODE\">random_state=1</field></block></value></block></value></block></value></block></xml>"
   ]
  },
  {
   "cell_type": "markdown",
   "metadata": {},
   "source": [
    "### Fit model"
   ]
  },
  {
   "cell_type": "code",
   "execution_count": 22,
   "metadata": {},
   "outputs": [],
   "source": [
    "import sklearn.naive_bayes as naive_bayes\n",
    "\n",
    "#<xml xmlns=\"https://developers.google.com/blockly/xml\"><variables><variable id=\"C~I3L77Oey`%`B19v@mV\">naive_bayes</variable></variables><block type=\"importAs\" id=\"YBlm]aPWC@],I)QF,3g.\" x=\"-63\" y=\"204\"><field name=\"libraryName\">sklearn.naive_bayes</field><field name=\"libraryAlias\" id=\"C~I3L77Oey`%`B19v@mV\">naive_bayes</field></block></xml>"
   ]
  },
  {
   "cell_type": "code",
   "execution_count": 23,
   "metadata": {},
   "outputs": [],
   "source": [
    "model = naive_bayes.GaussianNB()\n",
    "\n",
    "#<xml xmlns=\"https://developers.google.com/blockly/xml\"><variables><variable id=\"[O_:X3*|N1e--mn_rl;j\">model</variable><variable id=\"C~I3L77Oey`%`B19v@mV\">naive_bayes</variable></variables><block type=\"variables_set\" id=\"0{MIimjRn(`+`5M$0_U7\" x=\"-90\" y=\"132\"><field name=\"VAR\" id=\"[O_:X3*|N1e--mn_rl;j\">model</field><value name=\"VALUE\"><block type=\"varCreateObject\" id=\"?`dwaKnOBjnrd}`doxhF\"><field name=\"VAR\" id=\"C~I3L77Oey`%`B19v@mV\">naive_bayes</field><field name=\"MEMBER\">GaussianNB</field><data>naive_bayes:GaussianNB</data></block></value></block></xml>"
   ]
  },
  {
   "cell_type": "code",
   "execution_count": 24,
   "metadata": {},
   "outputs": [],
   "source": [
    "model.fit(trainTest[0], trainTest[2])\n",
    "\n",
    "y_model = model.predict(trainTest[1])\n",
    "\n",
    "#<xml xmlns=\"https://developers.google.com/blockly/xml\"><variables><variable id=\"[O_:X3*|N1e--mn_rl;j\">model</variable><variable id=\"R.yRgDyMK6)/O9S-XUci\">y_model</variable><variable id=\"}*.K9TP5ezgV@5qVZ;sQ\">trainTest</variable></variables><block type=\"varDoMethod\" id=\"-@fm,911cJiCu@jkys%R\" x=\"-94\" y=\"192\"><field name=\"VAR\" id=\"[O_:X3*|N1e--mn_rl;j\">model</field><field name=\"MEMBER\">fit</field><data>model:</data><value name=\"INPUT\"><block type=\"lists_create_with\" id=\"qj[~!aNmN}=v;xQ.=$%L\"><mutation items=\"2\"/><value name=\"ADD0\"><block type=\"lists_getIndex\" id=\"W~.ZU([-)(,-i3=bTsB|\"><mutation statement=\"false\" at=\"true\"/><field name=\"MODE\">GET</field><field name=\"WHERE\">FROM_START</field><value name=\"VALUE\"><block type=\"variables_get\" id=\"GIJn[jpD_~wa}#7IO!1K\"><field name=\"VAR\" id=\"}*.K9TP5ezgV@5qVZ;sQ\">trainTest</field></block></value><value name=\"AT\"><block type=\"math_number\" id=\"Rh[;nrMLN$[cFFsZC~T|\"><field name=\"NUM\">1</field></block></value></block></value><value name=\"ADD1\"><block type=\"lists_getIndex\" id=\"YkCD57xF*SSN3[`_op{u\"><mutation statement=\"false\" at=\"true\"/><field name=\"MODE\">GET</field><field name=\"WHERE\">FROM_START</field><value name=\"VALUE\"><block type=\"variables_get\" id=\"M@?wn}aoHxJYan0=AE3$\"><field name=\"VAR\" id=\"}*.K9TP5ezgV@5qVZ;sQ\">trainTest</field></block></value><value name=\"AT\"><block type=\"math_number\" id=\"jNUa2BdXPG?H8|.br*@e\"><field name=\"NUM\">3</field></block></value></block></value></block></value></block><block type=\"variables_set\" id=\"W2#bH~%cZ$JYTYX@t`OJ\" x=\"-89\" y=\"291\"><field name=\"VAR\" id=\"R.yRgDyMK6)/O9S-XUci\">y_model</field><value name=\"VALUE\"><block type=\"varDoMethod\" id=\"uF}tgd}f*m!CoCE6Vnfc\"><field name=\"VAR\" id=\"[O_:X3*|N1e--mn_rl;j\">model</field><field name=\"MEMBER\">predict</field><data>model:predict</data><value name=\"INPUT\"><block type=\"lists_create_with\" id=\"g4~yox0A5a]I|VUV:ff9\"><mutation items=\"1\"/><value name=\"ADD0\"><block type=\"lists_getIndex\" id=\"D[QG~pcCO~@%*GRtEXGC\"><mutation statement=\"false\" at=\"true\"/><field name=\"MODE\">GET</field><field name=\"WHERE\">FROM_START</field><value name=\"VALUE\"><block type=\"variables_get\" id=\"k]*6kE_B2NOcRC4T2DMa\"><field name=\"VAR\" id=\"}*.K9TP5ezgV@5qVZ;sQ\">trainTest</field></block></value><value name=\"AT\"><block type=\"math_number\" id=\"nwBf+AnSmiv.DN_wSPy(\"><field name=\"NUM\">2</field></block></value></block></value></block></value></block></value></block></xml>"
   ]
  },
  {
   "cell_type": "markdown",
   "metadata": {},
   "source": [
    "### Measure performance"
   ]
  },
  {
   "cell_type": "code",
   "execution_count": 25,
   "metadata": {},
   "outputs": [],
   "source": [
    "import sklearn.metrics as metrics\n",
    "\n",
    "#<xml xmlns=\"https://developers.google.com/blockly/xml\"><variables><variable id=\"jpz]0=,hLYv~rN^#0dFO\">metrics</variable></variables><block type=\"importAs\" id=\"CEkPf]fPOl]|@Gl1lho[\" x=\"-101\" y=\"139\"><field name=\"libraryName\">sklearn.metrics</field><field name=\"libraryAlias\" id=\"jpz]0=,hLYv~rN^#0dFO\">metrics</field></block></xml>"
   ]
  },
  {
   "cell_type": "code",
   "execution_count": 26,
   "metadata": {},
   "outputs": [
    {
     "name": "stdout",
     "output_type": "stream",
     "text": [
      "0.9736842105263158\n"
     ]
    }
   ],
   "source": [
    "print(metrics.accuracy_score(trainTest[3], y_model))\n",
    "\n",
    "#<xml xmlns=\"https://developers.google.com/blockly/xml\"><variables><variable id=\"jpz]0=,hLYv~rN^#0dFO\">metrics</variable><variable id=\"R.yRgDyMK6)/O9S-XUci\">y_model</variable><variable id=\"}*.K9TP5ezgV@5qVZ;sQ\">trainTest</variable></variables><block type=\"text_print\" id=\"u8M]eo-vRBhX!L/a@4+J\" x=\"-102\" y=\"208\"><value name=\"TEXT\"><shadow type=\"text\" id=\")gVsrXo+bq|?9m0cIU/Y\"><field name=\"TEXT\">abc</field></shadow><block type=\"varDoMethod\" id=\"0B;?~qgT4?Xe8I|O=P)%\"><field name=\"VAR\" id=\"jpz]0=,hLYv~rN^#0dFO\">metrics</field><field name=\"MEMBER\">accuracy_score</field><data>metrics:</data><value name=\"INPUT\"><block type=\"lists_create_with\" id=\"qe7YbU#WU/F|Iuks0C:c\"><mutation items=\"2\"/><value name=\"ADD0\"><block type=\"lists_getIndex\" id=\"13J^-{z`P=,aau/j:VF~\"><mutation statement=\"false\" at=\"true\"/><field name=\"MODE\">GET</field><field name=\"WHERE\">FROM_START</field><value name=\"VALUE\"><block type=\"variables_get\" id=\"m^Z6y-8@L:s!oS)`%iJW\"><field name=\"VAR\" id=\"}*.K9TP5ezgV@5qVZ;sQ\">trainTest</field></block></value><value name=\"AT\"><block type=\"math_number\" id=\"u}VxLP~*Dbl0g4[AO,bL\"><field name=\"NUM\">4</field></block></value></block></value><value name=\"ADD1\"><block type=\"variables_get\" id=\"|3h,TPit9wg+a;bR[r$P\"><field name=\"VAR\" id=\"R.yRgDyMK6)/O9S-XUci\">y_model</field></block></value></block></value></block></value></block></xml>"
   ]
  },
  {
   "cell_type": "code",
   "execution_count": null,
   "metadata": {},
   "outputs": [],
   "source": []
  }
 ],
 "metadata": {
  "kernelspec": {
   "display_name": "xpython",
   "language": "python",
   "name": "xpython"
  },
  "language_info": {
   "file_extension": ".py",
   "mimetype": "text/x-python",
   "name": "python",
   "version": "3.7.6"
  }
 },
 "nbformat": 4,
 "nbformat_minor": 4
}
