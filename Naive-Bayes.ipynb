{
 "cells": [
  {
   "cell_type": "markdown",
   "metadata": {},
   "source": [
    "# Naive Bayes\n",
    "\n",
    "*Author: Dr. Vasile Rus (vrus@memphis.edu)*\n",
    "\n",
    "Naive Bayes is a supervised Data Science method typically used for **classification/categorization** tasks as exemplified before in, for instance, the Logistic Regression notebook. For that reason,\n",
    "it can be viewed as estimating the probabilities of a number of outcome variable values, e.g., the probabilities of categories in classification. To classify a particular object or instance the class with the highest probability among all possible classes $1$ to $C$ is taken as shown below:\n",
    "\n",
    "$$class (X) = argmax_{c \\in (1..C)} P(c_i|X)$$\n",
    "        \n",
    "While quite successful in classification tasks, the actual estimated probabilities for each class are not very reliable.\n",
    "\n",
    "In this notebook, we focus on multinomial, hard classification tasks.\n",
    "\n",
    "## Mathematical Foundations of Naive Bayes for Binary, Hard Classification\n",
    "\n",
    "We briefly review in this section the mathematical formulation of the Naive Bayes method for multinomial, hard classification problems. That is, we assume the outcome for one instance or object can be one and only one category out $C$ possible categories.\n",
    "\n",
    "The Naive Bayes method relies on Bayes' Theorem shown below:\n",
    "\n",
    "$$P (Y|X) = \\frac{P(Y)P(X|Y)}{P(X)}$$\n",
    "\n",
    "The term $P (Y|X) $ is called the posterior, the term $P(Y)$ is called the prior, and the term $P(X|Y)$ is called the likelihood.\n",
    "\n",
    "In a classification case, Y can take as value any of the classes $c \\in (1..C)$ and X is described as a set of features/predictors $X=(x_1,..,x_P)$. The Bayes' Theorem becomes:\n",
    "\n",
    "$$P (Y=c_i| (x_1,..,x_P)) = \\frac{P(Y=c_i)P(x_1,..,x_P|Y=c_i)}{P(x_1,..,x_P)}$$\n",
    "\n",
    "The Naive Bayes method takes this theorem and based on the naive assumption of the predictors $x_i$ being independent, i.e., meaning $P(x_1,..,x_P|Y=c_i)$ is approximated by $\\prod \\limits _{j=1} ^P P(x_j|c_i)$, it re-writes the theorem in the following form:\n",
    "\n",
    "$$P (Y=c_i| (x_1,..,x_P)) = \\frac{P(Y=c_i) \\prod \\limits _{j=1} ^P P(x_j|c_i)}{P(x_1,..,x_P)}$$\n",
    "\n",
    "This naive formulation of the theorem is more manageable in terms of estimating the parameters of the distrubtions involved and in particular of the likelihood probability.\n",
    "\n",
    "## Training a Naive Bayes Classifier\n",
    "\n",
    "Training a Naive Bayes classifier implies deriving the prior and likelihood distributions from training data based on the naive formulation of Bayes' Theorem.\n",
    "\n",
    "The prior $P(c_i)$ is derived using the following expression:\n",
    "\n",
    "$$ P(c_i)= \\frac{{\\#} c_i}{N}$$\n",
    "\n",
    "where ${\\#} c_i$ is the number of training instances labeled with class $i$ and $N$ is the total number of training instances.\n",
    "\n",
    "The likelihood $P (X | Y) = \\prod _{j=1} ^P P(x_j|c_i) = \\prod P(x_1|c_i)P(x_2|c_i)... P(x_P|c_i)$ is derived by multiplying each individual conditional distributions for each predictor $x_i$ as shown below:\n",
    "\n",
    "$$ P(x_i|c_i) = \\frac{{\\#} x_{ci}}{{\\#} c_i}$$\n",
    "\n",
    "Once the prior and likelihood distributions derived, to predict the most likely class for a new instance $X=(x_i, ..., x_P)$ we apply the Naive Bayes formula:\n",
    "\n",
    "$$class (X) = argmax_{c \\in (1..C)} {P(c_i|X)} = argmax_{c \\in (1..C)} P (Y=c_i| (x_1,..,x_P)) = argmax_{c \\in (1..C)} \\frac{P(Y=c_i) P(x_1|c_i)P(x_2|c_i)... P(x_P|c_i)}{P(x_1,..,x_P)} $$\n",
    "\n",
    "Since the denominator does not depend on $c_i$, the argument of argmax, the most likely class can be simply obtained using this formula:\n",
    "\n",
    "$$class (X) = argmax_{c \\in (1..C)} P(c_i|X) = argmax_{c \\in (1..C)} P(Y=c_i) P(x_1|c_i) P(x_2|c_i) ... P(x_P|c_i)$$ \n",
    "\n",
    "That is, the most likely class is the class correspond to the posterior probability estimated based on the above naive formulation of the Bayes Theorem.\n",
    "\n",
    "# Peformance Evaluation for Classification Methods including Naive Bayes\n",
    "\n",
    "The typical performance metrics for classifiers are accuracy, precision, and recall. These are typical derived by compared the predicted output to the golden or actual output/categories in the expert labelled dataset.\n",
    "\n",
    "For a binary classification case, we denote the category 1 as the positive category and category 0 as the negative category. Using this new terminology, When comparing the predicted categories to the actual categories we may end up with the following cases:\n",
    "* True Positives (TP): instances predicted as belonging to the positive category and which in fact do belong to the positive category\n",
    "* True Negatives (TN): instances predicted as belonging to the negative category and which in fact do belong to the negative category\n",
    "* False Positives (FP): instances predicted as belonging to the positive category and which in fact do belong to the negative category\n",
    "* False Negatives (FN): instances predicted as belonging to the negative category and which in fact do belong to the positive category\n",
    "\n",
    "From these categories, we define the following metrics:\n",
    "\n",
    "$Accuracy = \\frac{TP + TN}{TP + TN + FP + FN}$\n",
    "\n",
    "$Precision = \\frac{TP}{TP + FP}$\n",
    "\n",
    "$Recall = \\frac{TP}{TP + FN}$\n",
    "\n",
    "Classfication methods that have a high accuracy are preferred in general although in some case maximizing precision or recall may be preferred. For instance, a high recall is highly recommended when making medical diagnosis since it is preferrable to err on mis-diagnosing someone as having cancer as opposed to missing someone who indeed has cancer, i.e., the method should try not to miss anyone who may indeed have cancer. \n",
    "\n",
    "In general, there is a trade-off between precision and recall. If precision is high then recall is low and viceversa. Total recall (100% recall) is achievable by always predicting the positive class, i.e., label all instances as positive, in which case precision will be very low.\n"
   ]
  },
  {
   "cell_type": "markdown",
   "metadata": {},
   "source": [
    "# DataWhys Example - Iris Classifier\n",
    "\n",
    "The purpose of this notebook is to demonstrate `Blockly` integration using `scikit-learn` and the `iris` dataset.\n",
    "\n",
    "## Load data"
   ]
  },
  {
   "cell_type": "code",
   "execution_count": 19,
   "metadata": {},
   "outputs": [],
   "source": [
    "import seaborn as sns\n",
    "\n",
    "#<xml xmlns=\"https://developers.google.com/blockly/xml\"><variables><variable id=\"Y;QqMX.ksfqmJ/K~J)#:\">sns</variable></variables><block type=\"importAs\" id=\"06NQsrer?lqIYDz:Kf.]\" x=\"20\" y=\"123\"><field name=\"libraryName\">seaborn</field><field name=\"libraryAlias\" id=\"Y;QqMX.ksfqmJ/K~J)#:\">sns</field></block></xml>"
   ]
  },
  {
   "cell_type": "code",
   "execution_count": 20,
   "metadata": {},
   "outputs": [],
   "source": [
    "iris = sns.load_dataset('iris')\n",
    "\n",
    "#<xml xmlns=\"https://developers.google.com/blockly/xml\"><variables><variable id=\"w{XYwzJID?zQ##dG@5_m\">iris</variable><variable id=\"Y;QqMX.ksfqmJ/K~J)#:\">sns</variable></variables><block type=\"variables_set\" id=\"Pi,H0EUCG1(j*bt,,-mX\" x=\"-10\" y=\"191\"><field name=\"VAR\" id=\"w{XYwzJID?zQ##dG@5_m\">iris</field><value name=\"VALUE\"><block type=\"varDoMethod\" id=\":a.t3e,-8!dipmT*odVw\"><field name=\"VAR\" id=\"Y;QqMX.ksfqmJ/K~J)#:\">sns</field><field name=\"MEMBER\">load_dataset</field><data>sns:load_dataset</data><value name=\"INPUT\"><block type=\"text\" id=\"N0eSFcX:_Xobqs9/vr)X\"><field name=\"TEXT\">iris</field></block></value></block></value></block></xml>"
   ]
  },
  {
   "cell_type": "markdown",
   "metadata": {},
   "source": [
    "## Display data\n",
    "\n",
    "### Tabular"
   ]
  },
  {
   "cell_type": "code",
   "execution_count": 21,
   "metadata": {},
   "outputs": [
    {
     "data": {
      "text/html": [
       "<div>\n",
       "<style scoped>\n",
       "    .dataframe tbody tr th:only-of-type {\n",
       "        vertical-align: middle;\n",
       "    }\n",
       "\n",
       "    .dataframe tbody tr th {\n",
       "        vertical-align: top;\n",
       "    }\n",
       "\n",
       "    .dataframe thead th {\n",
       "        text-align: right;\n",
       "    }\n",
       "</style>\n",
       "<table border=\"1\" class=\"dataframe\">\n",
       "  <thead>\n",
       "    <tr style=\"text-align: right;\">\n",
       "      <th></th>\n",
       "      <th>sepal_length</th>\n",
       "      <th>sepal_width</th>\n",
       "      <th>petal_length</th>\n",
       "      <th>petal_width</th>\n",
       "      <th>species</th>\n",
       "    </tr>\n",
       "  </thead>\n",
       "  <tbody>\n",
       "    <tr>\n",
       "      <th>0</th>\n",
       "      <td>5.1</td>\n",
       "      <td>3.5</td>\n",
       "      <td>1.4</td>\n",
       "      <td>0.2</td>\n",
       "      <td>setosa</td>\n",
       "    </tr>\n",
       "    <tr>\n",
       "      <th>1</th>\n",
       "      <td>4.9</td>\n",
       "      <td>3.0</td>\n",
       "      <td>1.4</td>\n",
       "      <td>0.2</td>\n",
       "      <td>setosa</td>\n",
       "    </tr>\n",
       "    <tr>\n",
       "      <th>2</th>\n",
       "      <td>4.7</td>\n",
       "      <td>3.2</td>\n",
       "      <td>1.3</td>\n",
       "      <td>0.2</td>\n",
       "      <td>setosa</td>\n",
       "    </tr>\n",
       "    <tr>\n",
       "      <th>3</th>\n",
       "      <td>4.6</td>\n",
       "      <td>3.1</td>\n",
       "      <td>1.5</td>\n",
       "      <td>0.2</td>\n",
       "      <td>setosa</td>\n",
       "    </tr>\n",
       "    <tr>\n",
       "      <th>4</th>\n",
       "      <td>5.0</td>\n",
       "      <td>3.6</td>\n",
       "      <td>1.4</td>\n",
       "      <td>0.2</td>\n",
       "      <td>setosa</td>\n",
       "    </tr>\n",
       "    <tr>\n",
       "      <th>...</th>\n",
       "      <td>...</td>\n",
       "      <td>...</td>\n",
       "      <td>...</td>\n",
       "      <td>...</td>\n",
       "      <td>...</td>\n",
       "    </tr>\n",
       "    <tr>\n",
       "      <th>95</th>\n",
       "      <td>5.7</td>\n",
       "      <td>3.0</td>\n",
       "      <td>4.2</td>\n",
       "      <td>1.2</td>\n",
       "      <td>versicolor</td>\n",
       "    </tr>\n",
       "    <tr>\n",
       "      <th>96</th>\n",
       "      <td>5.7</td>\n",
       "      <td>2.9</td>\n",
       "      <td>4.2</td>\n",
       "      <td>1.3</td>\n",
       "      <td>versicolor</td>\n",
       "    </tr>\n",
       "    <tr>\n",
       "      <th>97</th>\n",
       "      <td>6.2</td>\n",
       "      <td>2.9</td>\n",
       "      <td>4.3</td>\n",
       "      <td>1.3</td>\n",
       "      <td>versicolor</td>\n",
       "    </tr>\n",
       "    <tr>\n",
       "      <th>98</th>\n",
       "      <td>5.1</td>\n",
       "      <td>2.5</td>\n",
       "      <td>3.0</td>\n",
       "      <td>1.1</td>\n",
       "      <td>versicolor</td>\n",
       "    </tr>\n",
       "    <tr>\n",
       "      <th>99</th>\n",
       "      <td>5.7</td>\n",
       "      <td>2.8</td>\n",
       "      <td>4.1</td>\n",
       "      <td>1.3</td>\n",
       "      <td>versicolor</td>\n",
       "    </tr>\n",
       "  </tbody>\n",
       "</table>\n",
       "<p>100 rows × 5 columns</p>\n",
       "</div>"
      ],
      "text/plain": [
       "    sepal_length  sepal_width  petal_length  petal_width     species\n",
       "0            5.1          3.5           1.4          0.2      setosa\n",
       "1            4.9          3.0           1.4          0.2      setosa\n",
       "2            4.7          3.2           1.3          0.2      setosa\n",
       "3            4.6          3.1           1.5          0.2      setosa\n",
       "4            5.0          3.6           1.4          0.2      setosa\n",
       "..           ...          ...           ...          ...         ...\n",
       "95           5.7          3.0           4.2          1.2  versicolor\n",
       "96           5.7          2.9           4.2          1.3  versicolor\n",
       "97           6.2          2.9           4.3          1.3  versicolor\n",
       "98           5.1          2.5           3.0          1.1  versicolor\n",
       "99           5.7          2.8           4.1          1.3  versicolor\n",
       "\n",
       "[100 rows x 5 columns]"
      ]
     },
     "execution_count": 21,
     "metadata": {},
     "output_type": "execute_result"
    }
   ],
   "source": [
    "iris.head(100)\n",
    "\n",
    "#<xml xmlns=\"https://developers.google.com/blockly/xml\"><block type=\"dummyNoOutputCodeBlock\" id=\"R61;nGuKUL|ZiG:V#e^w\" x=\"21\" y=\"231\"><field name=\"CODE\">iris.head()</field></block></xml>"
   ]
  },
  {
   "cell_type": "markdown",
   "metadata": {},
   "source": [
    "### Plot"
   ]
  },
  {
   "cell_type": "code",
   "execution_count": null,
   "metadata": {},
   "outputs": [],
   "source": [
    "# import sys as sys\n",
    "# import matplotlib.pyplot as plt\n",
    "\n",
    "#<xml xmlns=\"https://developers.google.com/blockly/xml\"><variables><variable id=\"=si]EbR0d9ShbUQb`O+p\">sys</variable><variable id=\"iA,io$x96FNVF5[yEN6#\">plt</variable></variables><block type=\"importAs\" id=\"vic31uv^(7//EJgTgnpM\" x=\"14\" y=\"45\"><field name=\"libraryName\">sys</field><field name=\"libraryAlias\" id=\"=si]EbR0d9ShbUQb`O+p\">sys</field><next><block type=\"importAs\" id=\"jgI/;Ji{c[Sh!yR=pvO%\"><field name=\"libraryName\">matplotlib.pyplot</field><field name=\"libraryAlias\" id=\"iA,io$x96FNVF5[yEN6#\">plt</field></block></next></block></xml>"
   ]
  },
  {
   "cell_type": "code",
   "execution_count": 23,
   "metadata": {},
   "outputs": [],
   "source": [
    "# sys.argv = ['']\n",
    "\n",
    "sns.set(style=\"ticks\", color_codes=True)\n",
    "\n",
    "# sns.pairplot(iris, hue=\"species\", height=1.5)\n",
    "\n",
    "g = sns.pairplot(iris)\n",
    "# g = sns.pairplot(iris, hue=\"species\")\n",
    "\n",
    "#<xml xmlns=\"https://developers.google.com/blockly/xml\"><variables><variable id=\"Y;QqMX.ksfqmJ/K~J)#:\">sns</variable><variable id=\"iA,io$x96FNVF5[yEN6#\">plt</variable><variable id=\"w{XYwzJID?zQ##dG@5_m\">iris</variable></variables><block type=\"valueNoOutputCodeBlock\" id=\"N1H#P_m2^Q:)@uegpu0I\" x=\"-42\" y=\"216\"><field name=\"CODE\">sys.argv =</field><value name=\"INPUT\"><block type=\"lists_create_with\" id=\"d7i)mFtQNMJK7!?*Snr;\"><mutation items=\"1\"/><value name=\"ADD0\"><block type=\"text\" id=\"20+{B@er=VxRt$lC7F|+\"><field name=\"TEXT\"/></block></value></block></value></block><block type=\"varDoMethod\" id=\"3lpLk3u!%!oe|sJ9?wrM\" x=\"-38\" y=\"254\"><field name=\"VAR\" id=\"Y;QqMX.ksfqmJ/K~J)#:\">sns</field><field name=\"MEMBER\">set</field><data>sns:set</data></block><block type=\"varDoMethod\" id=\"9fv{gJeg,H$p62dYa}}5\" x=\"-40\" y=\"294\"><field name=\"VAR\" id=\"Y;QqMX.ksfqmJ/K~J)#:\">sns</field><field name=\"MEMBER\">pairplot</field><data>sns:pairplot</data><value name=\"INPUT\"><block type=\"lists_create_with\" id=\"G)r/$1Y=eQit224#/Fu1\"><mutation items=\"3\"/><value name=\"ADD0\"><block type=\"variables_get\" id=\"RDO:r55L0H=cCYIt9*fB\"><field name=\"VAR\" id=\"w{XYwzJID?zQ##dG@5_m\">iris</field></block></value><value name=\"ADD1\"><block type=\"dummyOutputCodeBlock\" id=\"XL!63t)F7l_1mttWsxu=\"><field name=\"CODE\">hue=\"species\"</field></block></value><value name=\"ADD2\"><block type=\"dummyOutputCodeBlock\" id=\"[pY#G%b8ej`B*W$j[Zj0\"><field name=\"CODE\">height=1.5</field></block></value></block></value></block><block type=\"varDoMethod\" id=\"Q)3TF7gPY?kY+.;Be^Pw\" x=\"-42\" y=\"386\"><field name=\"VAR\" id=\"iA,io$x96FNVF5[yEN6#\">plt</field><field name=\"MEMBER\">show</field><data>plt:show</data></block></xml>"
   ]
  },
  {
   "cell_type": "code",
   "execution_count": 24,
   "metadata": {},
   "outputs": [],
   "source": [
    "# import seaborn as sns; \n",
    "sns.set(style=\"ticks\", color_codes=True)\n",
    "iris = sns.load_dataset(\"iris\")\n",
    "g = sns.pairplot(iris)"
   ]
  },
  {
   "cell_type": "markdown",
   "metadata": {},
   "source": [
    "## Model\n",
    "\n",
    "### Prepare data"
   ]
  },
  {
   "cell_type": "code",
   "execution_count": 25,
   "metadata": {},
   "outputs": [
    {
     "data": {
      "text/html": [
       "<div>\n",
       "<style scoped>\n",
       "    .dataframe tbody tr th:only-of-type {\n",
       "        vertical-align: middle;\n",
       "    }\n",
       "\n",
       "    .dataframe tbody tr th {\n",
       "        vertical-align: top;\n",
       "    }\n",
       "\n",
       "    .dataframe thead th {\n",
       "        text-align: right;\n",
       "    }\n",
       "</style>\n",
       "<table border=\"1\" class=\"dataframe\">\n",
       "  <thead>\n",
       "    <tr style=\"text-align: right;\">\n",
       "      <th></th>\n",
       "      <th>sepal_length</th>\n",
       "      <th>sepal_width</th>\n",
       "      <th>petal_length</th>\n",
       "      <th>petal_width</th>\n",
       "      <th>species</th>\n",
       "    </tr>\n",
       "  </thead>\n",
       "  <tbody>\n",
       "    <tr>\n",
       "      <th>0</th>\n",
       "      <td>5.1</td>\n",
       "      <td>3.5</td>\n",
       "      <td>1.4</td>\n",
       "      <td>0.2</td>\n",
       "      <td>setosa</td>\n",
       "    </tr>\n",
       "    <tr>\n",
       "      <th>1</th>\n",
       "      <td>4.9</td>\n",
       "      <td>3.0</td>\n",
       "      <td>1.4</td>\n",
       "      <td>0.2</td>\n",
       "      <td>setosa</td>\n",
       "    </tr>\n",
       "    <tr>\n",
       "      <th>2</th>\n",
       "      <td>4.7</td>\n",
       "      <td>3.2</td>\n",
       "      <td>1.3</td>\n",
       "      <td>0.2</td>\n",
       "      <td>setosa</td>\n",
       "    </tr>\n",
       "    <tr>\n",
       "      <th>3</th>\n",
       "      <td>4.6</td>\n",
       "      <td>3.1</td>\n",
       "      <td>1.5</td>\n",
       "      <td>0.2</td>\n",
       "      <td>setosa</td>\n",
       "    </tr>\n",
       "    <tr>\n",
       "      <th>4</th>\n",
       "      <td>5.0</td>\n",
       "      <td>3.6</td>\n",
       "      <td>1.4</td>\n",
       "      <td>0.2</td>\n",
       "      <td>setosa</td>\n",
       "    </tr>\n",
       "    <tr>\n",
       "      <th>...</th>\n",
       "      <td>...</td>\n",
       "      <td>...</td>\n",
       "      <td>...</td>\n",
       "      <td>...</td>\n",
       "      <td>...</td>\n",
       "    </tr>\n",
       "    <tr>\n",
       "      <th>95</th>\n",
       "      <td>5.7</td>\n",
       "      <td>3.0</td>\n",
       "      <td>4.2</td>\n",
       "      <td>1.2</td>\n",
       "      <td>versicolor</td>\n",
       "    </tr>\n",
       "    <tr>\n",
       "      <th>96</th>\n",
       "      <td>5.7</td>\n",
       "      <td>2.9</td>\n",
       "      <td>4.2</td>\n",
       "      <td>1.3</td>\n",
       "      <td>versicolor</td>\n",
       "    </tr>\n",
       "    <tr>\n",
       "      <th>97</th>\n",
       "      <td>6.2</td>\n",
       "      <td>2.9</td>\n",
       "      <td>4.3</td>\n",
       "      <td>1.3</td>\n",
       "      <td>versicolor</td>\n",
       "    </tr>\n",
       "    <tr>\n",
       "      <th>98</th>\n",
       "      <td>5.1</td>\n",
       "      <td>2.5</td>\n",
       "      <td>3.0</td>\n",
       "      <td>1.1</td>\n",
       "      <td>versicolor</td>\n",
       "    </tr>\n",
       "    <tr>\n",
       "      <th>99</th>\n",
       "      <td>5.7</td>\n",
       "      <td>2.8</td>\n",
       "      <td>4.1</td>\n",
       "      <td>1.3</td>\n",
       "      <td>versicolor</td>\n",
       "    </tr>\n",
       "  </tbody>\n",
       "</table>\n",
       "<p>100 rows × 5 columns</p>\n",
       "</div>"
      ],
      "text/plain": [
       "    sepal_length  sepal_width  petal_length  petal_width     species\n",
       "0            5.1          3.5           1.4          0.2      setosa\n",
       "1            4.9          3.0           1.4          0.2      setosa\n",
       "2            4.7          3.2           1.3          0.2      setosa\n",
       "3            4.6          3.1           1.5          0.2      setosa\n",
       "4            5.0          3.6           1.4          0.2      setosa\n",
       "..           ...          ...           ...          ...         ...\n",
       "95           5.7          3.0           4.2          1.2  versicolor\n",
       "96           5.7          2.9           4.2          1.3  versicolor\n",
       "97           6.2          2.9           4.3          1.3  versicolor\n",
       "98           5.1          2.5           3.0          1.1  versicolor\n",
       "99           5.7          2.8           4.1          1.3  versicolor\n",
       "\n",
       "[100 rows x 5 columns]"
      ]
     },
     "execution_count": 25,
     "metadata": {},
     "output_type": "execute_result"
    }
   ],
   "source": [
    "import seaborn as sns; sns.set(style=\"ticks\", color_codes=True)\n",
    "iris = sns.load_dataset(\"iris\")\n",
    "iris.head(100)"
   ]
  },
  {
   "cell_type": "code",
   "execution_count": 26,
   "metadata": {},
   "outputs": [],
   "source": [
    "g = sns.pairplot(iris)"
   ]
  },
  {
   "cell_type": "code",
   "execution_count": 27,
   "metadata": {},
   "outputs": [],
   "source": [
    "X_iris = iris.drop(\"species\", axis=1)\n",
    "y_iris = iris[\"species\"]"
   ]
  },
  {
   "cell_type": "markdown",
   "metadata": {},
   "source": [
    "## Fitting the Model"
   ]
  },
  {
   "cell_type": "code",
   "execution_count": 28,
   "metadata": {},
   "outputs": [],
   "source": [
    "import sklearn.model_selection as model_selection\n",
    "\n",
    "X_train, X_test, y_train, y_test = model_selection.train_test_split(X_iris, y_iris, random_state=1)\n",
    "\n"
   ]
  },
  {
   "cell_type": "code",
   "execution_count": 34,
   "metadata": {},
   "outputs": [
    {
     "data": {
      "text/plain": [
       "array(['setosa', 'versicolor', 'versicolor', 'setosa', 'virginica',\n",
       "       'versicolor', 'virginica', 'setosa', 'setosa', 'virginica',\n",
       "       'versicolor', 'setosa', 'virginica', 'versicolor', 'versicolor',\n",
       "       'setosa', 'versicolor', 'versicolor', 'setosa', 'setosa',\n",
       "       'versicolor', 'versicolor', 'virginica', 'setosa', 'virginica',\n",
       "       'versicolor', 'setosa', 'setosa', 'versicolor', 'virginica',\n",
       "       'versicolor', 'virginica', 'versicolor', 'virginica', 'virginica',\n",
       "       'setosa', 'versicolor', 'setosa'], dtype='<U10')"
      ]
     },
     "execution_count": 34,
     "metadata": {},
     "output_type": "execute_result"
    }
   ],
   "source": [
    "import sklearn.naive_bayes as naive_bayes\n",
    "\n",
    "model = naive_bayes.GaussianNB()\n",
    "model.fit(X_train, y_train)\n",
    "\n",
    "y_model = model.predict(X_test)\n",
    "\n",
    "y_model"
   ]
  },
  {
   "cell_type": "markdown",
   "metadata": {},
   "source": [
    "## Model Evaluation"
   ]
  },
  {
   "cell_type": "code",
   "execution_count": 30,
   "metadata": {},
   "outputs": [
    {
     "name": "stdout",
     "output_type": "stream",
     "text": [
      "0.9736842105263158\n"
     ]
    }
   ],
   "source": [
    "import sklearn.metrics as metrics\n",
    "print(metrics.accuracy_score(y_test, y_model))\n"
   ]
  },
  {
   "cell_type": "markdown",
   "metadata": {},
   "source": [
    "## Make Predictions"
   ]
  },
  {
   "cell_type": "code",
   "execution_count": 36,
   "metadata": {},
   "outputs": [
    {
     "name": "stdout",
     "output_type": "stream",
     "text": [
      "['virginica']\n"
     ]
    }
   ],
   "source": [
    "predicted_label = model.predict([[-1.62 , 1.35, -1.73, -1.45]])\n",
    "print(predicted_label)"
   ]
  }
 ],
 "metadata": {
  "kernelspec": {
   "display_name": "xpython",
   "language": "python",
   "name": "xpython"
  },
  "language_info": {
   "file_extension": ".py",
   "mimetype": "text/x-python",
   "name": "python",
   "version": "3.7.6"
  }
 },
 "nbformat": 4,
 "nbformat_minor": 4
}
