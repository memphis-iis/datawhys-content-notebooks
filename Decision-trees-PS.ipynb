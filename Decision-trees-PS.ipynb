{
 "cells": [
  {
   "cell_type": "markdown",
   "metadata": {},
   "source": [
    "# Decision trees: Problem solving\n",
    "\n",
    "We previously looked at predicting whether or not  a candy is popular based on its other properties using logistic regression.\n",
    "\n",
    "This gave us an idea of how  different properties **add** together to make a candy popular, but it didn't give us as much of an idea of how the properties act on each other.\n",
    "\n",
    "In this session, you will predict whether or not is popular using decision trees.\n",
    "\n",
    "This dataset [was collected](http://fivethirtyeight.com/features/the-ultimate-halloween-candy-power-ranking/) to discover the most popular Halloween candy.\n",
    "\n",
    "| Variable         | Type              | Description                                                  |\n",
    "|:-----------------|:------------------|:--------------------------------------------------------------|\n",
    "| chocolate        | Numeric (binary)  | Does it contain chocolate?                                   |\n",
    "| fruity           | Numeric (binary)  | Is it fruit flavored?                                        |\n",
    "| caramel          | Numeric (binary)  | Is there caramel in the candy?                               |\n",
    "| peanutalmondy    | Numeric (binary)  | Does it contain peanuts, peanut butter or almonds?           |\n",
    "| nougat           | Numeric (binary)  | Does it contain nougat?                                      |\n",
    "| crispedricewafer | Numeric (binary)  | Does it contain crisped rice, wafers, or a cookie component? |\n",
    "| hard             | Numeric (binary)  | Is it a hard candy?                                          |\n",
    "| bar              | Numeric (binary)  | Is it a candy bar?                                           |\n",
    "| pluribus         | Numeric (binary)  | Is it one of many candies in a bag or box?                   |\n",
    "| sugarpercent     | Numeric (0 to 1)  | The percentile of sugar it falls under within the data set.  |\n",
    "| pricepercent     | Numeric (0 to 1)  | The unit price percentile compared to the rest of the set.   |\n",
    "| winpercent       | Numeric (percent) | The overall win percentage according to 269,000 matchups     |\n",
    "| popular | Numeric (binary) | 1 if win percentage is over 50% and 0 otherwise |\n",
    "\n",
    "**Acknowledgements:**\n",
    "\n",
    "This dataset is Copyright (c) 2014 ESPN Internet Ventures and distributed under an MIT license."
   ]
  },
  {
   "cell_type": "markdown",
   "metadata": {
    "slideshow": {
     "slide_type": "slide"
    }
   },
   "source": [
    "## Load the data\n",
    "\n",
    "First import `pandas`."
   ]
  },
  {
   "cell_type": "code",
   "execution_count": 49,
   "metadata": {},
   "outputs": [],
   "source": [
    "import pandas as pd\n",
    "\n",
    "#<xml xmlns=\"https://developers.google.com/blockly/xml\"><variables><variable id=\"lfN=$uzFcxs-6^)2j+oc\">pd</variable></variables><block type=\"importAs\" id=\"^+Nghe{{_uq{G7tc)sr/\" x=\"130\" y=\"233\"><field name=\"libraryName\">pandas</field><field name=\"libraryAlias\" id=\"lfN=$uzFcxs-6^)2j+oc\">pd</field></block></xml>"
   ]
  },
  {
   "cell_type": "markdown",
   "metadata": {},
   "source": [
    "Load a dataframe with `\"datasets/candy-data.csv\"` but use `index_col=\"competitorname\"` to make `competitorname` an ID instead of a variable.\n",
    "Then display the dataframe."
   ]
  },
  {
   "cell_type": "code",
   "execution_count": 50,
   "metadata": {},
   "outputs": [
    {
     "data": {
      "text/html": [
       "<div>\n",
       "<style scoped>\n",
       "    .dataframe tbody tr th:only-of-type {\n",
       "        vertical-align: middle;\n",
       "    }\n",
       "\n",
       "    .dataframe tbody tr th {\n",
       "        vertical-align: top;\n",
       "    }\n",
       "\n",
       "    .dataframe thead th {\n",
       "        text-align: right;\n",
       "    }\n",
       "</style>\n",
       "<table border=\"1\" class=\"dataframe\">\n",
       "  <thead>\n",
       "    <tr style=\"text-align: right;\">\n",
       "      <th></th>\n",
       "      <th>chocolate</th>\n",
       "      <th>fruity</th>\n",
       "      <th>caramel</th>\n",
       "      <th>peanutyalmondy</th>\n",
       "      <th>nougat</th>\n",
       "      <th>crispedricewafer</th>\n",
       "      <th>hard</th>\n",
       "      <th>bar</th>\n",
       "      <th>pluribus</th>\n",
       "      <th>sugarpercent</th>\n",
       "      <th>pricepercent</th>\n",
       "      <th>winpercent</th>\n",
       "      <th>popular</th>\n",
       "    </tr>\n",
       "    <tr>\n",
       "      <th>competitorname</th>\n",
       "      <th></th>\n",
       "      <th></th>\n",
       "      <th></th>\n",
       "      <th></th>\n",
       "      <th></th>\n",
       "      <th></th>\n",
       "      <th></th>\n",
       "      <th></th>\n",
       "      <th></th>\n",
       "      <th></th>\n",
       "      <th></th>\n",
       "      <th></th>\n",
       "      <th></th>\n",
       "    </tr>\n",
       "  </thead>\n",
       "  <tbody>\n",
       "    <tr>\n",
       "      <th>100 Grand</th>\n",
       "      <td>1</td>\n",
       "      <td>0</td>\n",
       "      <td>1</td>\n",
       "      <td>0</td>\n",
       "      <td>0</td>\n",
       "      <td>1</td>\n",
       "      <td>0</td>\n",
       "      <td>1</td>\n",
       "      <td>0</td>\n",
       "      <td>0.732</td>\n",
       "      <td>0.860</td>\n",
       "      <td>66.971725</td>\n",
       "      <td>1</td>\n",
       "    </tr>\n",
       "    <tr>\n",
       "      <th>3 Musketeers</th>\n",
       "      <td>1</td>\n",
       "      <td>0</td>\n",
       "      <td>0</td>\n",
       "      <td>0</td>\n",
       "      <td>1</td>\n",
       "      <td>0</td>\n",
       "      <td>0</td>\n",
       "      <td>1</td>\n",
       "      <td>0</td>\n",
       "      <td>0.604</td>\n",
       "      <td>0.511</td>\n",
       "      <td>67.602936</td>\n",
       "      <td>1</td>\n",
       "    </tr>\n",
       "    <tr>\n",
       "      <th>One dime</th>\n",
       "      <td>0</td>\n",
       "      <td>0</td>\n",
       "      <td>0</td>\n",
       "      <td>0</td>\n",
       "      <td>0</td>\n",
       "      <td>0</td>\n",
       "      <td>0</td>\n",
       "      <td>0</td>\n",
       "      <td>0</td>\n",
       "      <td>0.011</td>\n",
       "      <td>0.116</td>\n",
       "      <td>32.261086</td>\n",
       "      <td>0</td>\n",
       "    </tr>\n",
       "    <tr>\n",
       "      <th>One quarter</th>\n",
       "      <td>0</td>\n",
       "      <td>0</td>\n",
       "      <td>0</td>\n",
       "      <td>0</td>\n",
       "      <td>0</td>\n",
       "      <td>0</td>\n",
       "      <td>0</td>\n",
       "      <td>0</td>\n",
       "      <td>0</td>\n",
       "      <td>0.011</td>\n",
       "      <td>0.511</td>\n",
       "      <td>46.116505</td>\n",
       "      <td>0</td>\n",
       "    </tr>\n",
       "    <tr>\n",
       "      <th>Air Heads</th>\n",
       "      <td>0</td>\n",
       "      <td>1</td>\n",
       "      <td>0</td>\n",
       "      <td>0</td>\n",
       "      <td>0</td>\n",
       "      <td>0</td>\n",
       "      <td>0</td>\n",
       "      <td>0</td>\n",
       "      <td>0</td>\n",
       "      <td>0.906</td>\n",
       "      <td>0.511</td>\n",
       "      <td>52.341465</td>\n",
       "      <td>1</td>\n",
       "    </tr>\n",
       "    <tr>\n",
       "      <th>...</th>\n",
       "      <td>...</td>\n",
       "      <td>...</td>\n",
       "      <td>...</td>\n",
       "      <td>...</td>\n",
       "      <td>...</td>\n",
       "      <td>...</td>\n",
       "      <td>...</td>\n",
       "      <td>...</td>\n",
       "      <td>...</td>\n",
       "      <td>...</td>\n",
       "      <td>...</td>\n",
       "      <td>...</td>\n",
       "      <td>...</td>\n",
       "    </tr>\n",
       "    <tr>\n",
       "      <th>Twizzlers</th>\n",
       "      <td>0</td>\n",
       "      <td>1</td>\n",
       "      <td>0</td>\n",
       "      <td>0</td>\n",
       "      <td>0</td>\n",
       "      <td>0</td>\n",
       "      <td>0</td>\n",
       "      <td>0</td>\n",
       "      <td>0</td>\n",
       "      <td>0.220</td>\n",
       "      <td>0.116</td>\n",
       "      <td>45.466282</td>\n",
       "      <td>0</td>\n",
       "    </tr>\n",
       "    <tr>\n",
       "      <th>Warheads</th>\n",
       "      <td>0</td>\n",
       "      <td>1</td>\n",
       "      <td>0</td>\n",
       "      <td>0</td>\n",
       "      <td>0</td>\n",
       "      <td>0</td>\n",
       "      <td>1</td>\n",
       "      <td>0</td>\n",
       "      <td>0</td>\n",
       "      <td>0.093</td>\n",
       "      <td>0.116</td>\n",
       "      <td>39.011898</td>\n",
       "      <td>0</td>\n",
       "    </tr>\n",
       "    <tr>\n",
       "      <th>WelchÕs Fruit Snacks</th>\n",
       "      <td>0</td>\n",
       "      <td>1</td>\n",
       "      <td>0</td>\n",
       "      <td>0</td>\n",
       "      <td>0</td>\n",
       "      <td>0</td>\n",
       "      <td>0</td>\n",
       "      <td>0</td>\n",
       "      <td>1</td>\n",
       "      <td>0.313</td>\n",
       "      <td>0.313</td>\n",
       "      <td>44.375519</td>\n",
       "      <td>0</td>\n",
       "    </tr>\n",
       "    <tr>\n",
       "      <th>WertherÕs Original Caramel</th>\n",
       "      <td>0</td>\n",
       "      <td>0</td>\n",
       "      <td>1</td>\n",
       "      <td>0</td>\n",
       "      <td>0</td>\n",
       "      <td>0</td>\n",
       "      <td>1</td>\n",
       "      <td>0</td>\n",
       "      <td>0</td>\n",
       "      <td>0.186</td>\n",
       "      <td>0.267</td>\n",
       "      <td>41.904308</td>\n",
       "      <td>0</td>\n",
       "    </tr>\n",
       "    <tr>\n",
       "      <th>Whoppers</th>\n",
       "      <td>1</td>\n",
       "      <td>0</td>\n",
       "      <td>0</td>\n",
       "      <td>0</td>\n",
       "      <td>0</td>\n",
       "      <td>1</td>\n",
       "      <td>0</td>\n",
       "      <td>0</td>\n",
       "      <td>1</td>\n",
       "      <td>0.872</td>\n",
       "      <td>0.848</td>\n",
       "      <td>49.524113</td>\n",
       "      <td>0</td>\n",
       "    </tr>\n",
       "  </tbody>\n",
       "</table>\n",
       "<p>85 rows × 13 columns</p>\n",
       "</div>"
      ],
      "text/plain": [
       "                            chocolate  fruity  ...  winpercent  popular\n",
       "competitorname                                 ...                     \n",
       "100 Grand                           1       0  ...   66.971725        1\n",
       "3 Musketeers                        1       0  ...   67.602936        1\n",
       "One dime                            0       0  ...   32.261086        0\n",
       "One quarter                         0       0  ...   46.116505        0\n",
       "Air Heads                           0       1  ...   52.341465        1\n",
       "...                               ...     ...  ...         ...      ...\n",
       "Twizzlers                           0       1  ...   45.466282        0\n",
       "Warheads                            0       1  ...   39.011898        0\n",
       "WelchÕs Fruit Snacks                0       1  ...   44.375519        0\n",
       "WertherÕs Original Caramel          0       0  ...   41.904308        0\n",
       "Whoppers                            1       0  ...   49.524113        0\n",
       "\n",
       "[85 rows x 13 columns]"
      ]
     },
     "execution_count": 50,
     "metadata": {},
     "output_type": "execute_result"
    }
   ],
   "source": [
    "dataframe = pd.read_csv('datasets/candy-data.csv', index_col=\"competitorname\")\n",
    "\n",
    "dataframe\n",
    "\n",
    "#<xml xmlns=\"https://developers.google.com/blockly/xml\"><variables><variable id=\"-(zD`=)|+6ZJe1eZ)t2_\">dataframe</variable><variable id=\"lfN=$uzFcxs-6^)2j+oc\">pd</variable></variables><block type=\"variables_set\" id=\"fF~/UXvqG^U(f~JGIDy`\" x=\"80\" y=\"398\"><field name=\"VAR\" id=\"-(zD`=)|+6ZJe1eZ)t2_\">dataframe</field><value name=\"VALUE\"><block type=\"varDoMethod\" id=\"!;Ht!#J?fh-20leIrwzD\"><field name=\"VAR\" id=\"lfN=$uzFcxs-6^)2j+oc\">pd</field><field name=\"MEMBER\">read_csv</field><data>pd:read_csv</data><value name=\"INPUT\"><block type=\"lists_create_with\" id=\"TrI}GSSE8V$xub^riM5u\"><mutation items=\"2\"></mutation><value name=\"ADD0\"><block type=\"text\" id=\"l*avp11qT(YO1^[}vhMQ\"><field name=\"TEXT\">datasets/candy-data.csv</field></block></value><value name=\"ADD1\"><block type=\"dummyOutputCodeBlock\" id=\"T!2=Rsgm?2MK$m(1gSoc\"><field name=\"CODE\">index_col=\"competitorname\"</field></block></value></block></value></block></value></block><block type=\"variables_get\" id=\"QrXVu@{ddyF~%Ex(x?D+\" x=\"77\" y=\"525\"><field name=\"VAR\" id=\"-(zD`=)|+6ZJe1eZ)t2_\">dataframe</field></block></xml>"
   ]
  },
  {
   "cell_type": "markdown",
   "metadata": {},
   "source": [
    "## Explore the data\n",
    "\n",
    "Since this is a dataset you've looked at before, just make a correlation heatmap to show how the variables are related to each other.\n",
    "\n",
    "Start by importing `plotly.express`."
   ]
  },
  {
   "cell_type": "code",
   "execution_count": 51,
   "metadata": {},
   "outputs": [],
   "source": [
    "import plotly.express as px\n",
    "\n",
    "#<xml xmlns=\"https://developers.google.com/blockly/xml\"><variables><variable id=\"+yh,Zg{hON]zy6D~.rH#\">px</variable></variables><block type=\"importAs\" id=\"JKd}DIrGfV*IelKZ!4ls\" x=\"129\" y=\"219\"><field name=\"libraryName\">plotly.express</field><field name=\"libraryAlias\" id=\"+yh,Zg{hON]zy6D~.rH#\">px</field></block></xml>"
   ]
  },
  {
   "cell_type": "markdown",
   "metadata": {},
   "source": [
    "And create and show the heatmap figure in one line."
   ]
  },
  {
   "cell_type": "code",
   "execution_count": 52,
   "metadata": {},
   "outputs": [
    {
     "data": {
      "application/vnd.plotly.v1+json": {
       "config": {
        "plotlyServerURL": "https://plot.ly"
       },
       "data": [
        {
         "coloraxis": "coloraxis",
         "hovertemplate": "x: %{x}<br>y: %{y}<br>color: %{z}<extra></extra>",
         "type": "heatmap",
         "z": [
          [
           1,
           -0.7417210588438842,
           0.24987534731992408,
           0.377823567333138,
           0.2548918323914008,
           0.3412097835996446,
           -0.3441769072116021,
           0.5974211396032371,
           -0.3396751938697572,
           0.10416906216053162,
           0.5046753529576843,
           0.6365167485397073,
           0.5249366444834329
          ],
          [
           -0.7417210588438842,
           1,
           -0.33548538363601493,
           -0.3992801433878301,
           -0.26936712313630995,
           -0.2693671231363101,
           0.3906775047367074,
           -0.5150655814471488,
           0.29972521595814366,
           -0.034392958923751014,
           -0.43096853466253265,
           -0.38093813706014334,
           -0.3055873551705299
          ],
          [
           0.24987534731992408,
           -0.33548538363601493,
           1,
           0.05935613682092561,
           0.32849279804935544,
           0.2131130962551609,
           -0.12235512675491647,
           0.3339600197875756,
           -0.26958501190685297,
           0.22193334584888952,
           0.2543270858812676,
           0.2134162955676798,
           0.22765079540363992
          ],
          [
           0.377823567333138,
           -0.3992801433878301,
           0.05935613682092561,
           1,
           0.2131130962551606,
           -0.01764630733322978,
           -0.20555661294825958,
           0.26041960092243605,
           -0.20610931658252468,
           0.08788926974217448,
           0.30915323317923704,
           0.4061922021809829,
           0.3549555165175173
          ],
          [
           0.2548918323914008,
           -0.26936712313630995,
           0.32849279804935544,
           0.2131130962551606,
           1,
           -0.08974358974358947,
           -0.13867504905630712,
           0.5229763603684909,
           -0.31033883719439576,
           0.123081352957002,
           0.15319643056757926,
           0.19937529880156651,
           0.15358048942095281
          ],
          [
           0.3412097835996446,
           -0.2693671231363101,
           0.2131130962551609,
           -0.01764630733322978,
           -0.08974358974358947,
           1,
           -0.13867504905630731,
           0.4237509348521473,
           -0.22469337887776067,
           0.06994968732783279,
           0.3282653911819203,
           0.3246796513766843,
           0.23946431574188062
          ],
          [
           -0.3441769072116021,
           0.3906775047367074,
           -0.12235512675491647,
           -0.20555661294825958,
           -0.13867504905630712,
           -0.13867504905630731,
           1,
           -0.2651650429449552,
           0.014531721951587884,
           0.09180974787393913,
           -0.24436534093921275,
           -0.3103815753572283,
           -0.36430416415664535
          ],
          [
           0.5974211396032371,
           -0.5150655814471488,
           0.3339600197875756,
           0.26041960092243605,
           0.5229763603684909,
           0.4237509348521473,
           -0.2651650429449552,
           1,
           -0.5934089200049686,
           0.09998515821887237,
           0.5184065372702471,
           0.4299293281893483,
           0.40314704375231863
          ],
          [
           -0.3396751938697572,
           0.29972521595814366,
           -0.26958501190685297,
           -0.20610931658252468,
           -0.31033883719439576,
           -0.22469337887776067,
           0.014531721951587884,
           -0.5934089200049686,
           1,
           0.04552282303429513,
           -0.2207936320321068,
           -0.24744786760290396,
           -0.15063982584403474
          ],
          [
           0.10416906216053162,
           -0.034392958923751014,
           0.22193334584888952,
           0.08788926974217448,
           0.123081352957002,
           0.06994968732783279,
           0.09180974787393913,
           0.09998515821887237,
           0.04552282303429513,
           1,
           0.3297063875889551,
           0.22915065712800656,
           0.1823164800638733
          ],
          [
           0.5046753529576843,
           -0.43096853466253265,
           0.2543270858812676,
           0.30915323317923704,
           0.15319643056757926,
           0.3282653911819203,
           -0.24436534093921275,
           0.5184065372702471,
           -0.2207936320321068,
           0.3297063875889551,
           1,
           0.345325409967685,
           0.3613570734339526
          ],
          [
           0.6365167485397073,
           -0.38093813706014334,
           0.2134162955676798,
           0.4061922021809829,
           0.19937529880156651,
           0.3246796513766843,
           -0.3103815753572283,
           0.4299293281893483,
           -0.24744786760290396,
           0.22915065712800656,
           0.345325409967685,
           1,
           0.8349155839043557
          ],
          [
           0.5249366444834329,
           -0.3055873551705299,
           0.22765079540363992,
           0.3549555165175173,
           0.15358048942095281,
           0.23946431574188062,
           -0.36430416415664535,
           0.40314704375231863,
           -0.15063982584403474,
           0.1823164800638733,
           0.3613570734339526,
           0.8349155839043557,
           1
          ]
         ]
        }
       ],
       "layout": {
        "autosize": true,
        "coloraxis": {
         "colorscale": [
          [
           0,
           "#0d0887"
          ],
          [
           0.1111111111111111,
           "#46039f"
          ],
          [
           0.2222222222222222,
           "#7201a8"
          ],
          [
           0.3333333333333333,
           "#9c179e"
          ],
          [
           0.4444444444444444,
           "#bd3786"
          ],
          [
           0.5555555555555556,
           "#d8576b"
          ],
          [
           0.6666666666666666,
           "#ed7953"
          ],
          [
           0.7777777777777778,
           "#fb9f3a"
          ],
          [
           0.8888888888888888,
           "#fdca26"
          ],
          [
           1,
           "#f0f921"
          ]
         ]
        },
        "margin": {
         "t": 60
        },
        "template": {
         "data": {
          "bar": [
           {
            "error_x": {
             "color": "#2a3f5f"
            },
            "error_y": {
             "color": "#2a3f5f"
            },
            "marker": {
             "line": {
              "color": "#E5ECF6",
              "width": 0.5
             }
            },
            "type": "bar"
           }
          ],
          "barpolar": [
           {
            "marker": {
             "line": {
              "color": "#E5ECF6",
              "width": 0.5
             }
            },
            "type": "barpolar"
           }
          ],
          "carpet": [
           {
            "aaxis": {
             "endlinecolor": "#2a3f5f",
             "gridcolor": "white",
             "linecolor": "white",
             "minorgridcolor": "white",
             "startlinecolor": "#2a3f5f"
            },
            "baxis": {
             "endlinecolor": "#2a3f5f",
             "gridcolor": "white",
             "linecolor": "white",
             "minorgridcolor": "white",
             "startlinecolor": "#2a3f5f"
            },
            "type": "carpet"
           }
          ],
          "choropleth": [
           {
            "colorbar": {
             "outlinewidth": 0,
             "ticks": ""
            },
            "type": "choropleth"
           }
          ],
          "contour": [
           {
            "colorbar": {
             "outlinewidth": 0,
             "ticks": ""
            },
            "colorscale": [
             [
              0,
              "#0d0887"
             ],
             [
              0.1111111111111111,
              "#46039f"
             ],
             [
              0.2222222222222222,
              "#7201a8"
             ],
             [
              0.3333333333333333,
              "#9c179e"
             ],
             [
              0.4444444444444444,
              "#bd3786"
             ],
             [
              0.5555555555555556,
              "#d8576b"
             ],
             [
              0.6666666666666666,
              "#ed7953"
             ],
             [
              0.7777777777777778,
              "#fb9f3a"
             ],
             [
              0.8888888888888888,
              "#fdca26"
             ],
             [
              1,
              "#f0f921"
             ]
            ],
            "type": "contour"
           }
          ],
          "contourcarpet": [
           {
            "colorbar": {
             "outlinewidth": 0,
             "ticks": ""
            },
            "type": "contourcarpet"
           }
          ],
          "heatmap": [
           {
            "colorbar": {
             "outlinewidth": 0,
             "ticks": ""
            },
            "colorscale": [
             [
              0,
              "#0d0887"
             ],
             [
              0.1111111111111111,
              "#46039f"
             ],
             [
              0.2222222222222222,
              "#7201a8"
             ],
             [
              0.3333333333333333,
              "#9c179e"
             ],
             [
              0.4444444444444444,
              "#bd3786"
             ],
             [
              0.5555555555555556,
              "#d8576b"
             ],
             [
              0.6666666666666666,
              "#ed7953"
             ],
             [
              0.7777777777777778,
              "#fb9f3a"
             ],
             [
              0.8888888888888888,
              "#fdca26"
             ],
             [
              1,
              "#f0f921"
             ]
            ],
            "type": "heatmap"
           }
          ],
          "heatmapgl": [
           {
            "colorbar": {
             "outlinewidth": 0,
             "ticks": ""
            },
            "colorscale": [
             [
              0,
              "#0d0887"
             ],
             [
              0.1111111111111111,
              "#46039f"
             ],
             [
              0.2222222222222222,
              "#7201a8"
             ],
             [
              0.3333333333333333,
              "#9c179e"
             ],
             [
              0.4444444444444444,
              "#bd3786"
             ],
             [
              0.5555555555555556,
              "#d8576b"
             ],
             [
              0.6666666666666666,
              "#ed7953"
             ],
             [
              0.7777777777777778,
              "#fb9f3a"
             ],
             [
              0.8888888888888888,
              "#fdca26"
             ],
             [
              1,
              "#f0f921"
             ]
            ],
            "type": "heatmapgl"
           }
          ],
          "histogram": [
           {
            "marker": {
             "colorbar": {
              "outlinewidth": 0,
              "ticks": ""
             }
            },
            "type": "histogram"
           }
          ],
          "histogram2d": [
           {
            "colorbar": {
             "outlinewidth": 0,
             "ticks": ""
            },
            "colorscale": [
             [
              0,
              "#0d0887"
             ],
             [
              0.1111111111111111,
              "#46039f"
             ],
             [
              0.2222222222222222,
              "#7201a8"
             ],
             [
              0.3333333333333333,
              "#9c179e"
             ],
             [
              0.4444444444444444,
              "#bd3786"
             ],
             [
              0.5555555555555556,
              "#d8576b"
             ],
             [
              0.6666666666666666,
              "#ed7953"
             ],
             [
              0.7777777777777778,
              "#fb9f3a"
             ],
             [
              0.8888888888888888,
              "#fdca26"
             ],
             [
              1,
              "#f0f921"
             ]
            ],
            "type": "histogram2d"
           }
          ],
          "histogram2dcontour": [
           {
            "colorbar": {
             "outlinewidth": 0,
             "ticks": ""
            },
            "colorscale": [
             [
              0,
              "#0d0887"
             ],
             [
              0.1111111111111111,
              "#46039f"
             ],
             [
              0.2222222222222222,
              "#7201a8"
             ],
             [
              0.3333333333333333,
              "#9c179e"
             ],
             [
              0.4444444444444444,
              "#bd3786"
             ],
             [
              0.5555555555555556,
              "#d8576b"
             ],
             [
              0.6666666666666666,
              "#ed7953"
             ],
             [
              0.7777777777777778,
              "#fb9f3a"
             ],
             [
              0.8888888888888888,
              "#fdca26"
             ],
             [
              1,
              "#f0f921"
             ]
            ],
            "type": "histogram2dcontour"
           }
          ],
          "mesh3d": [
           {
            "colorbar": {
             "outlinewidth": 0,
             "ticks": ""
            },
            "type": "mesh3d"
           }
          ],
          "parcoords": [
           {
            "line": {
             "colorbar": {
              "outlinewidth": 0,
              "ticks": ""
             }
            },
            "type": "parcoords"
           }
          ],
          "pie": [
           {
            "automargin": true,
            "type": "pie"
           }
          ],
          "scatter": [
           {
            "marker": {
             "colorbar": {
              "outlinewidth": 0,
              "ticks": ""
             }
            },
            "type": "scatter"
           }
          ],
          "scatter3d": [
           {
            "line": {
             "colorbar": {
              "outlinewidth": 0,
              "ticks": ""
             }
            },
            "marker": {
             "colorbar": {
              "outlinewidth": 0,
              "ticks": ""
             }
            },
            "type": "scatter3d"
           }
          ],
          "scattercarpet": [
           {
            "marker": {
             "colorbar": {
              "outlinewidth": 0,
              "ticks": ""
             }
            },
            "type": "scattercarpet"
           }
          ],
          "scattergeo": [
           {
            "marker": {
             "colorbar": {
              "outlinewidth": 0,
              "ticks": ""
             }
            },
            "type": "scattergeo"
           }
          ],
          "scattergl": [
           {
            "marker": {
             "colorbar": {
              "outlinewidth": 0,
              "ticks": ""
             }
            },
            "type": "scattergl"
           }
          ],
          "scattermapbox": [
           {
            "marker": {
             "colorbar": {
              "outlinewidth": 0,
              "ticks": ""
             }
            },
            "type": "scattermapbox"
           }
          ],
          "scatterpolar": [
           {
            "marker": {
             "colorbar": {
              "outlinewidth": 0,
              "ticks": ""
             }
            },
            "type": "scatterpolar"
           }
          ],
          "scatterpolargl": [
           {
            "marker": {
             "colorbar": {
              "outlinewidth": 0,
              "ticks": ""
             }
            },
            "type": "scatterpolargl"
           }
          ],
          "scatterternary": [
           {
            "marker": {
             "colorbar": {
              "outlinewidth": 0,
              "ticks": ""
             }
            },
            "type": "scatterternary"
           }
          ],
          "surface": [
           {
            "colorbar": {
             "outlinewidth": 0,
             "ticks": ""
            },
            "colorscale": [
             [
              0,
              "#0d0887"
             ],
             [
              0.1111111111111111,
              "#46039f"
             ],
             [
              0.2222222222222222,
              "#7201a8"
             ],
             [
              0.3333333333333333,
              "#9c179e"
             ],
             [
              0.4444444444444444,
              "#bd3786"
             ],
             [
              0.5555555555555556,
              "#d8576b"
             ],
             [
              0.6666666666666666,
              "#ed7953"
             ],
             [
              0.7777777777777778,
              "#fb9f3a"
             ],
             [
              0.8888888888888888,
              "#fdca26"
             ],
             [
              1,
              "#f0f921"
             ]
            ],
            "type": "surface"
           }
          ],
          "table": [
           {
            "cells": {
             "fill": {
              "color": "#EBF0F8"
             },
             "line": {
              "color": "white"
             }
            },
            "header": {
             "fill": {
              "color": "#C8D4E3"
             },
             "line": {
              "color": "white"
             }
            },
            "type": "table"
           }
          ]
         },
         "layout": {
          "annotationdefaults": {
           "arrowcolor": "#2a3f5f",
           "arrowhead": 0,
           "arrowwidth": 1
          },
          "coloraxis": {
           "colorbar": {
            "outlinewidth": 0,
            "ticks": ""
           }
          },
          "colorscale": {
           "diverging": [
            [
             0,
             "#8e0152"
            ],
            [
             0.1,
             "#c51b7d"
            ],
            [
             0.2,
             "#de77ae"
            ],
            [
             0.3,
             "#f1b6da"
            ],
            [
             0.4,
             "#fde0ef"
            ],
            [
             0.5,
             "#f7f7f7"
            ],
            [
             0.6,
             "#e6f5d0"
            ],
            [
             0.7,
             "#b8e186"
            ],
            [
             0.8,
             "#7fbc41"
            ],
            [
             0.9,
             "#4d9221"
            ],
            [
             1,
             "#276419"
            ]
           ],
           "sequential": [
            [
             0,
             "#0d0887"
            ],
            [
             0.1111111111111111,
             "#46039f"
            ],
            [
             0.2222222222222222,
             "#7201a8"
            ],
            [
             0.3333333333333333,
             "#9c179e"
            ],
            [
             0.4444444444444444,
             "#bd3786"
            ],
            [
             0.5555555555555556,
             "#d8576b"
            ],
            [
             0.6666666666666666,
             "#ed7953"
            ],
            [
             0.7777777777777778,
             "#fb9f3a"
            ],
            [
             0.8888888888888888,
             "#fdca26"
            ],
            [
             1,
             "#f0f921"
            ]
           ],
           "sequentialminus": [
            [
             0,
             "#0d0887"
            ],
            [
             0.1111111111111111,
             "#46039f"
            ],
            [
             0.2222222222222222,
             "#7201a8"
            ],
            [
             0.3333333333333333,
             "#9c179e"
            ],
            [
             0.4444444444444444,
             "#bd3786"
            ],
            [
             0.5555555555555556,
             "#d8576b"
            ],
            [
             0.6666666666666666,
             "#ed7953"
            ],
            [
             0.7777777777777778,
             "#fb9f3a"
            ],
            [
             0.8888888888888888,
             "#fdca26"
            ],
            [
             1,
             "#f0f921"
            ]
           ]
          },
          "colorway": [
           "#636efa",
           "#EF553B",
           "#00cc96",
           "#ab63fa",
           "#FFA15A",
           "#19d3f3",
           "#FF6692",
           "#B6E880",
           "#FF97FF",
           "#FECB52"
          ],
          "font": {
           "color": "#2a3f5f"
          },
          "geo": {
           "bgcolor": "white",
           "lakecolor": "white",
           "landcolor": "#E5ECF6",
           "showlakes": true,
           "showland": true,
           "subunitcolor": "white"
          },
          "hoverlabel": {
           "align": "left"
          },
          "hovermode": "closest",
          "mapbox": {
           "style": "light"
          },
          "paper_bgcolor": "white",
          "plot_bgcolor": "#E5ECF6",
          "polar": {
           "angularaxis": {
            "gridcolor": "white",
            "linecolor": "white",
            "ticks": ""
           },
           "bgcolor": "#E5ECF6",
           "radialaxis": {
            "gridcolor": "white",
            "linecolor": "white",
            "ticks": ""
           }
          },
          "scene": {
           "xaxis": {
            "backgroundcolor": "#E5ECF6",
            "gridcolor": "white",
            "gridwidth": 2,
            "linecolor": "white",
            "showbackground": true,
            "ticks": "",
            "zerolinecolor": "white"
           },
           "yaxis": {
            "backgroundcolor": "#E5ECF6",
            "gridcolor": "white",
            "gridwidth": 2,
            "linecolor": "white",
            "showbackground": true,
            "ticks": "",
            "zerolinecolor": "white"
           },
           "zaxis": {
            "backgroundcolor": "#E5ECF6",
            "gridcolor": "white",
            "gridwidth": 2,
            "linecolor": "white",
            "showbackground": true,
            "ticks": "",
            "zerolinecolor": "white"
           }
          },
          "shapedefaults": {
           "line": {
            "color": "#2a3f5f"
           }
          },
          "ternary": {
           "aaxis": {
            "gridcolor": "white",
            "linecolor": "white",
            "ticks": ""
           },
           "baxis": {
            "gridcolor": "white",
            "linecolor": "white",
            "ticks": ""
           },
           "bgcolor": "#E5ECF6",
           "caxis": {
            "gridcolor": "white",
            "linecolor": "white",
            "ticks": ""
           }
          },
          "title": {
           "x": 0.05
          },
          "xaxis": {
           "automargin": true,
           "gridcolor": "white",
           "linecolor": "white",
           "ticks": "",
           "title": {
            "standoff": 15
           },
           "zerolinecolor": "white",
           "zerolinewidth": 2
          },
          "yaxis": {
           "automargin": true,
           "gridcolor": "white",
           "linecolor": "white",
           "ticks": "",
           "title": {
            "standoff": 15
           },
           "zerolinecolor": "white",
           "zerolinewidth": 2
          }
         }
        },
        "xaxis": {
         "autorange": true,
         "constrain": "domain",
         "domain": [
          0.3440643863179075,
          0.6559356136820925
         ],
         "range": [
          -0.5,
          12.5
         ],
         "scaleanchor": "y"
        },
        "yaxis": {
         "autorange": true,
         "constrain": "domain",
         "domain": [
          0,
          1
         ],
         "range": [
          12.5,
          -0.5
         ]
        }
       }
      },
      "image/png": "[encoded data removed]",
      "text/html": [
       "<div>\n",
       "        \n",
       "        \n",
       "            <div id=\"2afb1523-7c39-46ed-a8e2-d25b3cb26b13\" class=\"plotly-graph-div\" style=\"height:525px; width:100%;\"></div>\n",
       "            <script type=\"text/javascript\">\n",
       "                require([\"plotly\"], function(Plotly) {\n",
       "                    window.PLOTLYENV=window.PLOTLYENV || {};\n",
       "                    \n",
       "                if (document.getElementById(\"2afb1523-7c39-46ed-a8e2-d25b3cb26b13\")) {\n",
       "                    Plotly.newPlot(\n",
       "                        '2afb1523-7c39-46ed-a8e2-d25b3cb26b13',\n",
       "                        [{\"coloraxis\": \"coloraxis\", \"hovertemplate\": \"x: %{x}<br>y: %{y}<br>color: %{z}<extra></extra>\", \"type\": \"heatmap\", \"z\": [[1.0, -0.7417210588438842, 0.24987534731992408, 0.377823567333138, 0.2548918323914008, 0.3412097835996446, -0.3441769072116021, 0.5974211396032371, -0.3396751938697572, 0.10416906216053162, 0.5046753529576843, 0.6365167485397073, 0.5249366444834329], [-0.7417210588438842, 1.0, -0.33548538363601493, -0.3992801433878301, -0.26936712313630995, -0.2693671231363101, 0.3906775047367074, -0.5150655814471488, 0.29972521595814366, -0.034392958923751014, -0.43096853466253265, -0.38093813706014334, -0.3055873551705299], [0.24987534731992408, -0.33548538363601493, 1.0, 0.05935613682092561, 0.32849279804935544, 0.2131130962551609, -0.12235512675491647, 0.3339600197875756, -0.26958501190685297, 0.22193334584888952, 0.2543270858812676, 0.2134162955676798, 0.22765079540363992], [0.377823567333138, -0.3992801433878301, 0.05935613682092561, 1.0, 0.2131130962551606, -0.01764630733322978, -0.20555661294825958, 0.26041960092243605, -0.20610931658252468, 0.08788926974217448, 0.30915323317923704, 0.4061922021809829, 0.3549555165175173], [0.2548918323914008, -0.26936712313630995, 0.32849279804935544, 0.2131130962551606, 1.0, -0.08974358974358947, -0.13867504905630712, 0.5229763603684909, -0.31033883719439576, 0.123081352957002, 0.15319643056757926, 0.19937529880156651, 0.15358048942095281], [0.3412097835996446, -0.2693671231363101, 0.2131130962551609, -0.01764630733322978, -0.08974358974358947, 1.0, -0.13867504905630731, 0.4237509348521473, -0.22469337887776067, 0.06994968732783279, 0.3282653911819203, 0.3246796513766843, 0.23946431574188062], [-0.3441769072116021, 0.3906775047367074, -0.12235512675491647, -0.20555661294825958, -0.13867504905630712, -0.13867504905630731, 1.0, -0.2651650429449552, 0.014531721951587884, 0.09180974787393913, -0.24436534093921275, -0.3103815753572283, -0.36430416415664535], [0.5974211396032371, -0.5150655814471488, 0.3339600197875756, 0.26041960092243605, 0.5229763603684909, 0.4237509348521473, -0.2651650429449552, 1.0, -0.5934089200049686, 0.09998515821887237, 0.5184065372702471, 0.4299293281893483, 0.40314704375231863], [-0.3396751938697572, 0.29972521595814366, -0.26958501190685297, -0.20610931658252468, -0.31033883719439576, -0.22469337887776067, 0.014531721951587884, -0.5934089200049686, 1.0, 0.04552282303429513, -0.2207936320321068, -0.24744786760290396, -0.15063982584403474], [0.10416906216053162, -0.034392958923751014, 0.22193334584888952, 0.08788926974217448, 0.123081352957002, 0.06994968732783279, 0.09180974787393913, 0.09998515821887237, 0.04552282303429513, 1.0, 0.3297063875889551, 0.22915065712800656, 0.1823164800638733], [0.5046753529576843, -0.43096853466253265, 0.2543270858812676, 0.30915323317923704, 0.15319643056757926, 0.3282653911819203, -0.24436534093921275, 0.5184065372702471, -0.2207936320321068, 0.3297063875889551, 1.0, 0.345325409967685, 0.3613570734339526], [0.6365167485397073, -0.38093813706014334, 0.2134162955676798, 0.4061922021809829, 0.19937529880156651, 0.3246796513766843, -0.3103815753572283, 0.4299293281893483, -0.24744786760290396, 0.22915065712800656, 0.345325409967685, 1.0, 0.8349155839043557], [0.5249366444834329, -0.3055873551705299, 0.22765079540363992, 0.3549555165175173, 0.15358048942095281, 0.23946431574188062, -0.36430416415664535, 0.40314704375231863, -0.15063982584403474, 0.1823164800638733, 0.3613570734339526, 0.8349155839043557, 1.0]]}],\n",
       "                        {\"coloraxis\": {\"colorscale\": [[0.0, \"#0d0887\"], [0.1111111111111111, \"#46039f\"], [0.2222222222222222, \"#7201a8\"], [0.3333333333333333, \"#9c179e\"], [0.4444444444444444, \"#bd3786\"], [0.5555555555555556, \"#d8576b\"], [0.6666666666666666, \"#ed7953\"], [0.7777777777777778, \"#fb9f3a\"], [0.8888888888888888, \"#fdca26\"], [1.0, \"#f0f921\"]]}, \"margin\": {\"t\": 60}, \"template\": {\"data\": {\"bar\": [{\"error_x\": {\"color\": \"#2a3f5f\"}, \"error_y\": {\"color\": \"#2a3f5f\"}, \"marker\": {\"line\": {\"color\": \"#E5ECF6\", \"width\": 0.5}}, \"type\": \"bar\"}], \"barpolar\": [{\"marker\": {\"line\": {\"color\": \"#E5ECF6\", \"width\": 0.5}}, \"type\": \"barpolar\"}], \"carpet\": [{\"aaxis\": {\"endlinecolor\": \"#2a3f5f\", \"gridcolor\": \"white\", \"linecolor\": \"white\", \"minorgridcolor\": \"white\", \"startlinecolor\": \"#2a3f5f\"}, \"baxis\": {\"endlinecolor\": \"#2a3f5f\", \"gridcolor\": \"white\", \"linecolor\": \"white\", \"minorgridcolor\": \"white\", \"startlinecolor\": \"#2a3f5f\"}, \"type\": \"carpet\"}], \"choropleth\": [{\"colorbar\": {\"outlinewidth\": 0, \"ticks\": \"\"}, \"type\": \"choropleth\"}], \"contour\": [{\"colorbar\": {\"outlinewidth\": 0, \"ticks\": \"\"}, \"colorscale\": [[0.0, \"#0d0887\"], [0.1111111111111111, \"#46039f\"], [0.2222222222222222, \"#7201a8\"], [0.3333333333333333, \"#9c179e\"], [0.4444444444444444, \"#bd3786\"], [0.5555555555555556, \"#d8576b\"], [0.6666666666666666, \"#ed7953\"], [0.7777777777777778, \"#fb9f3a\"], [0.8888888888888888, \"#fdca26\"], [1.0, \"#f0f921\"]], \"type\": \"contour\"}], \"contourcarpet\": [{\"colorbar\": {\"outlinewidth\": 0, \"ticks\": \"\"}, \"type\": \"contourcarpet\"}], \"heatmap\": [{\"colorbar\": {\"outlinewidth\": 0, \"ticks\": \"\"}, \"colorscale\": [[0.0, \"#0d0887\"], [0.1111111111111111, \"#46039f\"], [0.2222222222222222, \"#7201a8\"], [0.3333333333333333, \"#9c179e\"], [0.4444444444444444, \"#bd3786\"], [0.5555555555555556, \"#d8576b\"], [0.6666666666666666, \"#ed7953\"], [0.7777777777777778, \"#fb9f3a\"], [0.8888888888888888, \"#fdca26\"], [1.0, \"#f0f921\"]], \"type\": \"heatmap\"}], \"heatmapgl\": [{\"colorbar\": {\"outlinewidth\": 0, \"ticks\": \"\"}, \"colorscale\": [[0.0, \"#0d0887\"], [0.1111111111111111, \"#46039f\"], [0.2222222222222222, \"#7201a8\"], [0.3333333333333333, \"#9c179e\"], [0.4444444444444444, \"#bd3786\"], [0.5555555555555556, \"#d8576b\"], [0.6666666666666666, \"#ed7953\"], [0.7777777777777778, \"#fb9f3a\"], [0.8888888888888888, \"#fdca26\"], [1.0, \"#f0f921\"]], \"type\": \"heatmapgl\"}], \"histogram\": [{\"marker\": {\"colorbar\": {\"outlinewidth\": 0, \"ticks\": \"\"}}, \"type\": \"histogram\"}], \"histogram2d\": [{\"colorbar\": {\"outlinewidth\": 0, \"ticks\": \"\"}, \"colorscale\": [[0.0, \"#0d0887\"], [0.1111111111111111, \"#46039f\"], [0.2222222222222222, \"#7201a8\"], [0.3333333333333333, \"#9c179e\"], [0.4444444444444444, \"#bd3786\"], [0.5555555555555556, \"#d8576b\"], [0.6666666666666666, \"#ed7953\"], [0.7777777777777778, \"#fb9f3a\"], [0.8888888888888888, \"#fdca26\"], [1.0, \"#f0f921\"]], \"type\": \"histogram2d\"}], \"histogram2dcontour\": [{\"colorbar\": {\"outlinewidth\": 0, \"ticks\": \"\"}, \"colorscale\": [[0.0, \"#0d0887\"], [0.1111111111111111, \"#46039f\"], [0.2222222222222222, \"#7201a8\"], [0.3333333333333333, \"#9c179e\"], [0.4444444444444444, \"#bd3786\"], [0.5555555555555556, \"#d8576b\"], [0.6666666666666666, \"#ed7953\"], [0.7777777777777778, \"#fb9f3a\"], [0.8888888888888888, \"#fdca26\"], [1.0, \"#f0f921\"]], \"type\": \"histogram2dcontour\"}], \"mesh3d\": [{\"colorbar\": {\"outlinewidth\": 0, \"ticks\": \"\"}, \"type\": \"mesh3d\"}], \"parcoords\": [{\"line\": {\"colorbar\": {\"outlinewidth\": 0, \"ticks\": \"\"}}, \"type\": \"parcoords\"}], \"pie\": [{\"automargin\": true, \"type\": \"pie\"}], \"scatter\": [{\"marker\": {\"colorbar\": {\"outlinewidth\": 0, \"ticks\": \"\"}}, \"type\": \"scatter\"}], \"scatter3d\": [{\"line\": {\"colorbar\": {\"outlinewidth\": 0, \"ticks\": \"\"}}, \"marker\": {\"colorbar\": {\"outlinewidth\": 0, \"ticks\": \"\"}}, \"type\": \"scatter3d\"}], \"scattercarpet\": [{\"marker\": {\"colorbar\": {\"outlinewidth\": 0, \"ticks\": \"\"}}, \"type\": \"scattercarpet\"}], \"scattergeo\": [{\"marker\": {\"colorbar\": {\"outlinewidth\": 0, \"ticks\": \"\"}}, \"type\": \"scattergeo\"}], \"scattergl\": [{\"marker\": {\"colorbar\": {\"outlinewidth\": 0, \"ticks\": \"\"}}, \"type\": \"scattergl\"}], \"scattermapbox\": [{\"marker\": {\"colorbar\": {\"outlinewidth\": 0, \"ticks\": \"\"}}, \"type\": \"scattermapbox\"}], \"scatterpolar\": [{\"marker\": {\"colorbar\": {\"outlinewidth\": 0, \"ticks\": \"\"}}, \"type\": \"scatterpolar\"}], \"scatterpolargl\": [{\"marker\": {\"colorbar\": {\"outlinewidth\": 0, \"ticks\": \"\"}}, \"type\": \"scatterpolargl\"}], \"scatterternary\": [{\"marker\": {\"colorbar\": {\"outlinewidth\": 0, \"ticks\": \"\"}}, \"type\": \"scatterternary\"}], \"surface\": [{\"colorbar\": {\"outlinewidth\": 0, \"ticks\": \"\"}, \"colorscale\": [[0.0, \"#0d0887\"], [0.1111111111111111, \"#46039f\"], [0.2222222222222222, \"#7201a8\"], [0.3333333333333333, \"#9c179e\"], [0.4444444444444444, \"#bd3786\"], [0.5555555555555556, \"#d8576b\"], [0.6666666666666666, \"#ed7953\"], [0.7777777777777778, \"#fb9f3a\"], [0.8888888888888888, \"#fdca26\"], [1.0, \"#f0f921\"]], \"type\": \"surface\"}], \"table\": [{\"cells\": {\"fill\": {\"color\": \"#EBF0F8\"}, \"line\": {\"color\": \"white\"}}, \"header\": {\"fill\": {\"color\": \"#C8D4E3\"}, \"line\": {\"color\": \"white\"}}, \"type\": \"table\"}]}, \"layout\": {\"annotationdefaults\": {\"arrowcolor\": \"#2a3f5f\", \"arrowhead\": 0, \"arrowwidth\": 1}, \"coloraxis\": {\"colorbar\": {\"outlinewidth\": 0, \"ticks\": \"\"}}, \"colorscale\": {\"diverging\": [[0, \"#8e0152\"], [0.1, \"#c51b7d\"], [0.2, \"#de77ae\"], [0.3, \"#f1b6da\"], [0.4, \"#fde0ef\"], [0.5, \"#f7f7f7\"], [0.6, \"#e6f5d0\"], [0.7, \"#b8e186\"], [0.8, \"#7fbc41\"], [0.9, \"#4d9221\"], [1, \"#276419\"]], \"sequential\": [[0.0, \"#0d0887\"], [0.1111111111111111, \"#46039f\"], [0.2222222222222222, \"#7201a8\"], [0.3333333333333333, \"#9c179e\"], [0.4444444444444444, \"#bd3786\"], [0.5555555555555556, \"#d8576b\"], [0.6666666666666666, \"#ed7953\"], [0.7777777777777778, \"#fb9f3a\"], [0.8888888888888888, \"#fdca26\"], [1.0, \"#f0f921\"]], \"sequentialminus\": [[0.0, \"#0d0887\"], [0.1111111111111111, \"#46039f\"], [0.2222222222222222, \"#7201a8\"], [0.3333333333333333, \"#9c179e\"], [0.4444444444444444, \"#bd3786\"], [0.5555555555555556, \"#d8576b\"], [0.6666666666666666, \"#ed7953\"], [0.7777777777777778, \"#fb9f3a\"], [0.8888888888888888, \"#fdca26\"], [1.0, \"#f0f921\"]]}, \"colorway\": [\"#636efa\", \"#EF553B\", \"#00cc96\", \"#ab63fa\", \"#FFA15A\", \"#19d3f3\", \"#FF6692\", \"#B6E880\", \"#FF97FF\", \"#FECB52\"], \"font\": {\"color\": \"#2a3f5f\"}, \"geo\": {\"bgcolor\": \"white\", \"lakecolor\": \"white\", \"landcolor\": \"#E5ECF6\", \"showlakes\": true, \"showland\": true, \"subunitcolor\": \"white\"}, \"hoverlabel\": {\"align\": \"left\"}, \"hovermode\": \"closest\", \"mapbox\": {\"style\": \"light\"}, \"paper_bgcolor\": \"white\", \"plot_bgcolor\": \"#E5ECF6\", \"polar\": {\"angularaxis\": {\"gridcolor\": \"white\", \"linecolor\": \"white\", \"ticks\": \"\"}, \"bgcolor\": \"#E5ECF6\", \"radialaxis\": {\"gridcolor\": \"white\", \"linecolor\": \"white\", \"ticks\": \"\"}}, \"scene\": {\"xaxis\": {\"backgroundcolor\": \"#E5ECF6\", \"gridcolor\": \"white\", \"gridwidth\": 2, \"linecolor\": \"white\", \"showbackground\": true, \"ticks\": \"\", \"zerolinecolor\": \"white\"}, \"yaxis\": {\"backgroundcolor\": \"#E5ECF6\", \"gridcolor\": \"white\", \"gridwidth\": 2, \"linecolor\": \"white\", \"showbackground\": true, \"ticks\": \"\", \"zerolinecolor\": \"white\"}, \"zaxis\": {\"backgroundcolor\": \"#E5ECF6\", \"gridcolor\": \"white\", \"gridwidth\": 2, \"linecolor\": \"white\", \"showbackground\": true, \"ticks\": \"\", \"zerolinecolor\": \"white\"}}, \"shapedefaults\": {\"line\": {\"color\": \"#2a3f5f\"}}, \"ternary\": {\"aaxis\": {\"gridcolor\": \"white\", \"linecolor\": \"white\", \"ticks\": \"\"}, \"baxis\": {\"gridcolor\": \"white\", \"linecolor\": \"white\", \"ticks\": \"\"}, \"bgcolor\": \"#E5ECF6\", \"caxis\": {\"gridcolor\": \"white\", \"linecolor\": \"white\", \"ticks\": \"\"}}, \"title\": {\"x\": 0.05}, \"xaxis\": {\"automargin\": true, \"gridcolor\": \"white\", \"linecolor\": \"white\", \"ticks\": \"\", \"title\": {\"standoff\": 15}, \"zerolinecolor\": \"white\", \"zerolinewidth\": 2}, \"yaxis\": {\"automargin\": true, \"gridcolor\": \"white\", \"linecolor\": \"white\", \"ticks\": \"\", \"title\": {\"standoff\": 15}, \"zerolinecolor\": \"white\", \"zerolinewidth\": 2}}}, \"xaxis\": {\"constrain\": \"domain\", \"scaleanchor\": \"y\"}, \"yaxis\": {\"autorange\": \"reversed\", \"constrain\": \"domain\"}},\n",
       "                        {\"responsive\": true}\n",
       "                    ).then(function(){\n",
       "                            \n",
       "var gd = document.getElementById('2afb1523-7c39-46ed-a8e2-d25b3cb26b13');\n",
       "var x = new MutationObserver(function (mutations, observer) {{\n",
       "        var display = window.getComputedStyle(gd).display;\n",
       "        if (!display || display === 'none') {{\n",
       "            console.log([gd, 'removed!']);\n",
       "            Plotly.purge(gd);\n",
       "            observer.disconnect();\n",
       "        }}\n",
       "}});\n",
       "\n",
       "// Listen for the removal of the full notebook cells\n",
       "var notebookContainer = gd.closest('#notebook-container');\n",
       "if (notebookContainer) {{\n",
       "    x.observe(notebookContainer, {childList: true});\n",
       "}}\n",
       "\n",
       "// Listen for the clearing of the current output cell\n",
       "var outputEl = gd.closest('.output');\n",
       "if (outputEl) {{\n",
       "    x.observe(outputEl, {childList: true});\n",
       "}}\n",
       "\n",
       "                        })\n",
       "                };\n",
       "                });\n",
       "            </script>\n",
       "        </div>"
      ]
     },
     "metadata": {},
     "output_type": "display_data"
    }
   ],
   "source": [
    "px.imshow(dataframe.corr())\n",
    "\n",
    "#<xml xmlns=\"https://developers.google.com/blockly/xml\"><variables><variable id=\"+yh,Zg{hON]zy6D~.rH#\">px</variable><variable id=\"-(zD`=)|+6ZJe1eZ)t2_\">dataframe</variable></variables><block type=\"varDoMethod\" id=\"7PkTI5@+A6#C}J7CTmyF\" x=\"9\" y=\"390\"><field name=\"VAR\" id=\"+yh,Zg{hON]zy6D~.rH#\">px</field><field name=\"MEMBER\">imshow</field><data>px:imshow</data><value name=\"INPUT\"><block type=\"lists_create_with\" id=\"g^2EaX(wo6etoMYs:5}O\"><mutation items=\"1\"></mutation><value name=\"ADD0\"><block type=\"varDoMethod\" id=\"?iaY9MJ88^K?_+|.(F,c\"><field name=\"VAR\" id=\"-(zD`=)|+6ZJe1eZ)t2_\">dataframe</field><field name=\"MEMBER\">corr</field><data>dataframe:corr</data></block></value></block></value></block></xml>"
   ]
  },
  {
   "cell_type": "markdown",
   "metadata": {},
   "source": [
    "----------------------------\n",
    "**QUESTION:**\n",
    "\n",
    "Look at the first two columns.\n",
    "What variables do these correspond to?"
   ]
  },
  {
   "cell_type": "markdown",
   "metadata": {},
   "source": [
    "**ANSWER: (click here to edit)**\n",
    "\n",
    "*Chocolate and fruity*\n",
    "\n",
    "----------------------------"
   ]
  },
  {
   "cell_type": "markdown",
   "metadata": {},
   "source": [
    "**QUESTION:**\n",
    "\n",
    "How would you decribe their pattern of correlation with other variables?"
   ]
  },
  {
   "cell_type": "markdown",
   "metadata": {},
   "source": [
    "**ANSWER: (click here to edit)**\n",
    "\n",
    "*They appear to correlate with other variables in opposite ways: where one is positive, the other is negative*\n",
    "\n",
    "----------------------------"
   ]
  },
  {
   "cell_type": "markdown",
   "metadata": {},
   "source": [
    "## Prepare train/test sets\n",
    "\n",
    "You need to split the dataframe into training data and testing data, and also separate the predictors from the class labels.\n",
    "\n",
    "Start by dropping the label, `popular`, and its counterpart, `winpercent`, to make a new dataframe called `X`."
   ]
  },
  {
   "cell_type": "code",
   "execution_count": 53,
   "metadata": {},
   "outputs": [
    {
     "data": {
      "text/html": [
       "<div>\n",
       "<style scoped>\n",
       "    .dataframe tbody tr th:only-of-type {\n",
       "        vertical-align: middle;\n",
       "    }\n",
       "\n",
       "    .dataframe tbody tr th {\n",
       "        vertical-align: top;\n",
       "    }\n",
       "\n",
       "    .dataframe thead th {\n",
       "        text-align: right;\n",
       "    }\n",
       "</style>\n",
       "<table border=\"1\" class=\"dataframe\">\n",
       "  <thead>\n",
       "    <tr style=\"text-align: right;\">\n",
       "      <th></th>\n",
       "      <th>chocolate</th>\n",
       "      <th>fruity</th>\n",
       "      <th>caramel</th>\n",
       "      <th>peanutyalmondy</th>\n",
       "      <th>nougat</th>\n",
       "      <th>crispedricewafer</th>\n",
       "      <th>hard</th>\n",
       "      <th>bar</th>\n",
       "      <th>pluribus</th>\n",
       "      <th>sugarpercent</th>\n",
       "      <th>pricepercent</th>\n",
       "    </tr>\n",
       "    <tr>\n",
       "      <th>competitorname</th>\n",
       "      <th></th>\n",
       "      <th></th>\n",
       "      <th></th>\n",
       "      <th></th>\n",
       "      <th></th>\n",
       "      <th></th>\n",
       "      <th></th>\n",
       "      <th></th>\n",
       "      <th></th>\n",
       "      <th></th>\n",
       "      <th></th>\n",
       "    </tr>\n",
       "  </thead>\n",
       "  <tbody>\n",
       "    <tr>\n",
       "      <th>100 Grand</th>\n",
       "      <td>1</td>\n",
       "      <td>0</td>\n",
       "      <td>1</td>\n",
       "      <td>0</td>\n",
       "      <td>0</td>\n",
       "      <td>1</td>\n",
       "      <td>0</td>\n",
       "      <td>1</td>\n",
       "      <td>0</td>\n",
       "      <td>0.732</td>\n",
       "      <td>0.860</td>\n",
       "    </tr>\n",
       "    <tr>\n",
       "      <th>3 Musketeers</th>\n",
       "      <td>1</td>\n",
       "      <td>0</td>\n",
       "      <td>0</td>\n",
       "      <td>0</td>\n",
       "      <td>1</td>\n",
       "      <td>0</td>\n",
       "      <td>0</td>\n",
       "      <td>1</td>\n",
       "      <td>0</td>\n",
       "      <td>0.604</td>\n",
       "      <td>0.511</td>\n",
       "    </tr>\n",
       "    <tr>\n",
       "      <th>One dime</th>\n",
       "      <td>0</td>\n",
       "      <td>0</td>\n",
       "      <td>0</td>\n",
       "      <td>0</td>\n",
       "      <td>0</td>\n",
       "      <td>0</td>\n",
       "      <td>0</td>\n",
       "      <td>0</td>\n",
       "      <td>0</td>\n",
       "      <td>0.011</td>\n",
       "      <td>0.116</td>\n",
       "    </tr>\n",
       "    <tr>\n",
       "      <th>One quarter</th>\n",
       "      <td>0</td>\n",
       "      <td>0</td>\n",
       "      <td>0</td>\n",
       "      <td>0</td>\n",
       "      <td>0</td>\n",
       "      <td>0</td>\n",
       "      <td>0</td>\n",
       "      <td>0</td>\n",
       "      <td>0</td>\n",
       "      <td>0.011</td>\n",
       "      <td>0.511</td>\n",
       "    </tr>\n",
       "    <tr>\n",
       "      <th>Air Heads</th>\n",
       "      <td>0</td>\n",
       "      <td>1</td>\n",
       "      <td>0</td>\n",
       "      <td>0</td>\n",
       "      <td>0</td>\n",
       "      <td>0</td>\n",
       "      <td>0</td>\n",
       "      <td>0</td>\n",
       "      <td>0</td>\n",
       "      <td>0.906</td>\n",
       "      <td>0.511</td>\n",
       "    </tr>\n",
       "    <tr>\n",
       "      <th>...</th>\n",
       "      <td>...</td>\n",
       "      <td>...</td>\n",
       "      <td>...</td>\n",
       "      <td>...</td>\n",
       "      <td>...</td>\n",
       "      <td>...</td>\n",
       "      <td>...</td>\n",
       "      <td>...</td>\n",
       "      <td>...</td>\n",
       "      <td>...</td>\n",
       "      <td>...</td>\n",
       "    </tr>\n",
       "    <tr>\n",
       "      <th>Twizzlers</th>\n",
       "      <td>0</td>\n",
       "      <td>1</td>\n",
       "      <td>0</td>\n",
       "      <td>0</td>\n",
       "      <td>0</td>\n",
       "      <td>0</td>\n",
       "      <td>0</td>\n",
       "      <td>0</td>\n",
       "      <td>0</td>\n",
       "      <td>0.220</td>\n",
       "      <td>0.116</td>\n",
       "    </tr>\n",
       "    <tr>\n",
       "      <th>Warheads</th>\n",
       "      <td>0</td>\n",
       "      <td>1</td>\n",
       "      <td>0</td>\n",
       "      <td>0</td>\n",
       "      <td>0</td>\n",
       "      <td>0</td>\n",
       "      <td>1</td>\n",
       "      <td>0</td>\n",
       "      <td>0</td>\n",
       "      <td>0.093</td>\n",
       "      <td>0.116</td>\n",
       "    </tr>\n",
       "    <tr>\n",
       "      <th>WelchÕs Fruit Snacks</th>\n",
       "      <td>0</td>\n",
       "      <td>1</td>\n",
       "      <td>0</td>\n",
       "      <td>0</td>\n",
       "      <td>0</td>\n",
       "      <td>0</td>\n",
       "      <td>0</td>\n",
       "      <td>0</td>\n",
       "      <td>1</td>\n",
       "      <td>0.313</td>\n",
       "      <td>0.313</td>\n",
       "    </tr>\n",
       "    <tr>\n",
       "      <th>WertherÕs Original Caramel</th>\n",
       "      <td>0</td>\n",
       "      <td>0</td>\n",
       "      <td>1</td>\n",
       "      <td>0</td>\n",
       "      <td>0</td>\n",
       "      <td>0</td>\n",
       "      <td>1</td>\n",
       "      <td>0</td>\n",
       "      <td>0</td>\n",
       "      <td>0.186</td>\n",
       "      <td>0.267</td>\n",
       "    </tr>\n",
       "    <tr>\n",
       "      <th>Whoppers</th>\n",
       "      <td>1</td>\n",
       "      <td>0</td>\n",
       "      <td>0</td>\n",
       "      <td>0</td>\n",
       "      <td>0</td>\n",
       "      <td>1</td>\n",
       "      <td>0</td>\n",
       "      <td>0</td>\n",
       "      <td>1</td>\n",
       "      <td>0.872</td>\n",
       "      <td>0.848</td>\n",
       "    </tr>\n",
       "  </tbody>\n",
       "</table>\n",
       "<p>85 rows × 11 columns</p>\n",
       "</div>"
      ],
      "text/plain": [
       "                            chocolate  fruity  ...  sugarpercent  pricepercent\n",
       "competitorname                                 ...                            \n",
       "100 Grand                           1       0  ...         0.732         0.860\n",
       "3 Musketeers                        1       0  ...         0.604         0.511\n",
       "One dime                            0       0  ...         0.011         0.116\n",
       "One quarter                         0       0  ...         0.011         0.511\n",
       "Air Heads                           0       1  ...         0.906         0.511\n",
       "...                               ...     ...  ...           ...           ...\n",
       "Twizzlers                           0       1  ...         0.220         0.116\n",
       "Warheads                            0       1  ...         0.093         0.116\n",
       "WelchÕs Fruit Snacks                0       1  ...         0.313         0.313\n",
       "WertherÕs Original Caramel          0       0  ...         0.186         0.267\n",
       "Whoppers                            1       0  ...         0.872         0.848\n",
       "\n",
       "[85 rows x 11 columns]"
      ]
     },
     "execution_count": 53,
     "metadata": {},
     "output_type": "execute_result"
    }
   ],
   "source": [
    "X = dataframe.drop(columns=[\"popular\",\"winpercent\"])\n",
    "\n",
    "X\n",
    "\n",
    "#<xml xmlns=\"https://developers.google.com/blockly/xml\"><variables><variable id=\"Eu6+HM0^Zfw6=$49Xgk7\">X</variable><variable id=\"-(zD`=)|+6ZJe1eZ)t2_\">dataframe</variable></variables><block type=\"variables_set\" id=\"j12HEn?u}2$P-S)Ax6d(\" x=\"-16\" y=\"265\"><field name=\"VAR\" id=\"Eu6+HM0^Zfw6=$49Xgk7\">X</field><value name=\"VALUE\"><block type=\"varDoMethod\" id=\"PMH^/O2y?rD(Y}r-N6eY\"><field name=\"VAR\" id=\"-(zD`=)|+6ZJe1eZ)t2_\">dataframe</field><field name=\"MEMBER\">drop</field><data>dataframe:drop</data><value name=\"INPUT\"><block type=\"lists_create_with\" id=\"bGn#S3b1DV-0-egwl87D\"><mutation items=\"1\"></mutation><value name=\"ADD0\"><block type=\"dummyOutputCodeBlock\" id=\"8N-YF(7ms%)oox.~Z;b/\"><field name=\"CODE\">columns=[\"popular\",\"winpercent\"]</field></block></value></block></value></block></value></block><block type=\"variables_get\" id=\"*Q(nsPMh9xg`HceqC3eN\" x=\"-11\" y=\"350\"><field name=\"VAR\" id=\"Eu6+HM0^Zfw6=$49Xgk7\">X</field></block></xml>"
   ]
  },
  {
   "cell_type": "markdown",
   "metadata": {},
   "source": [
    "Save a dataframe with just `popular` in `Y`."
   ]
  },
  {
   "cell_type": "code",
   "execution_count": 54,
   "metadata": {},
   "outputs": [
    {
     "data": {
      "text/html": [
       "<div>\n",
       "<style scoped>\n",
       "    .dataframe tbody tr th:only-of-type {\n",
       "        vertical-align: middle;\n",
       "    }\n",
       "\n",
       "    .dataframe tbody tr th {\n",
       "        vertical-align: top;\n",
       "    }\n",
       "\n",
       "    .dataframe thead th {\n",
       "        text-align: right;\n",
       "    }\n",
       "</style>\n",
       "<table border=\"1\" class=\"dataframe\">\n",
       "  <thead>\n",
       "    <tr style=\"text-align: right;\">\n",
       "      <th></th>\n",
       "      <th>popular</th>\n",
       "    </tr>\n",
       "    <tr>\n",
       "      <th>competitorname</th>\n",
       "      <th></th>\n",
       "    </tr>\n",
       "  </thead>\n",
       "  <tbody>\n",
       "    <tr>\n",
       "      <th>100 Grand</th>\n",
       "      <td>1</td>\n",
       "    </tr>\n",
       "    <tr>\n",
       "      <th>3 Musketeers</th>\n",
       "      <td>1</td>\n",
       "    </tr>\n",
       "    <tr>\n",
       "      <th>One dime</th>\n",
       "      <td>0</td>\n",
       "    </tr>\n",
       "    <tr>\n",
       "      <th>One quarter</th>\n",
       "      <td>0</td>\n",
       "    </tr>\n",
       "    <tr>\n",
       "      <th>Air Heads</th>\n",
       "      <td>1</td>\n",
       "    </tr>\n",
       "    <tr>\n",
       "      <th>...</th>\n",
       "      <td>...</td>\n",
       "    </tr>\n",
       "    <tr>\n",
       "      <th>Twizzlers</th>\n",
       "      <td>0</td>\n",
       "    </tr>\n",
       "    <tr>\n",
       "      <th>Warheads</th>\n",
       "      <td>0</td>\n",
       "    </tr>\n",
       "    <tr>\n",
       "      <th>WelchÕs Fruit Snacks</th>\n",
       "      <td>0</td>\n",
       "    </tr>\n",
       "    <tr>\n",
       "      <th>WertherÕs Original Caramel</th>\n",
       "      <td>0</td>\n",
       "    </tr>\n",
       "    <tr>\n",
       "      <th>Whoppers</th>\n",
       "      <td>0</td>\n",
       "    </tr>\n",
       "  </tbody>\n",
       "</table>\n",
       "<p>85 rows × 1 columns</p>\n",
       "</div>"
      ],
      "text/plain": [
       "                            popular\n",
       "competitorname                     \n",
       "100 Grand                         1\n",
       "3 Musketeers                      1\n",
       "One dime                          0\n",
       "One quarter                       0\n",
       "Air Heads                         1\n",
       "...                             ...\n",
       "Twizzlers                         0\n",
       "Warheads                          0\n",
       "WelchÕs Fruit Snacks              0\n",
       "WertherÕs Original Caramel        0\n",
       "Whoppers                          0\n",
       "\n",
       "[85 rows x 1 columns]"
      ]
     },
     "execution_count": 54,
     "metadata": {},
     "output_type": "execute_result"
    }
   ],
   "source": [
    "Y = dataframe[['popular']]\n",
    "\n",
    "Y\n",
    "\n",
    "#<xml xmlns=\"https://developers.google.com/blockly/xml\"><variables><variable id=\"vEy06PN?Djk]8Ag?;UWi\">Y</variable><variable id=\"-(zD`=)|+6ZJe1eZ)t2_\">dataframe</variable></variables><block type=\"variables_set\" id=\"_:J1([xryT4i+F7k{#[%\" x=\"17\" y=\"175\"><field name=\"VAR\" id=\"vEy06PN?Djk]8Ag?;UWi\">Y</field><value name=\"VALUE\"><block type=\"indexer\" id=\"22hOF=T:mHvJrMybHkPs\"><field name=\"VAR\" id=\"-(zD`=)|+6ZJe1eZ)t2_\">dataframe</field><value name=\"INDEX\"><block type=\"lists_create_with\" id=\"qT2G_{7q~*L;[5j:vtKq\"><mutation items=\"1\"></mutation><value name=\"ADD0\"><block type=\"text\" id=\"=UVLwuCW$1d9ZJ]6HF_,\"><field name=\"TEXT\">popular</field></block></value></block></value></block></value></block><block type=\"variables_get\" id=\"pog__n6Jf{VK_sNEB)B$\" x=\"17\" y=\"239\"><field name=\"VAR\" id=\"vEy06PN?Djk]8Ag?;UWi\">Y</field></block></xml>"
   ]
  },
  {
   "cell_type": "markdown",
   "metadata": {},
   "source": [
    "Import `sklean.model_selection` to split `X` and `Y` into train and test sets."
   ]
  },
  {
   "cell_type": "code",
   "execution_count": 55,
   "metadata": {},
   "outputs": [],
   "source": [
    "import sklearn.model_selection as model_selection\n",
    "\n",
    "#<xml xmlns=\"https://developers.google.com/blockly/xml\"><variables><variable id=\"uASGz64Zb$AOvQyV4pRj\">model_selection</variable></variables><block type=\"importAs\" id=\"sN1YO5FEzpHyxb31@j,Z\" x=\"16\" y=\"10\"><field name=\"libraryName\">sklearn.model_selection</field><field name=\"libraryAlias\" id=\"uASGz64Zb$AOvQyV4pRj\">model_selection</field></block></xml>"
   ]
  },
  {
   "cell_type": "markdown",
   "metadata": {},
   "source": [
    "Now do the splits. Use `random_state=1` so we all get the same answer"
   ]
  },
  {
   "cell_type": "code",
   "execution_count": 56,
   "metadata": {},
   "outputs": [],
   "source": [
    "splits = model_selection.train_test_split(X, Y, random_state=1)\n",
    "\n",
    "#<xml xmlns=\"https://developers.google.com/blockly/xml\"><variables><variable id=\"_ut$e0PL4OMi4o1MXTpw\">splits</variable><variable id=\"uASGz64Zb$AOvQyV4pRj\">model_selection</variable><variable id=\"Eu6+HM0^Zfw6=$49Xgk7\">X</variable><variable id=\"vEy06PN?Djk]8Ag?;UWi\">Y</variable></variables><block type=\"variables_set\" id=\"oTGRJ#{R!U^we@Bl@pkT\" x=\"31\" y=\"224\"><field name=\"VAR\" id=\"_ut$e0PL4OMi4o1MXTpw\">splits</field><value name=\"VALUE\"><block type=\"varDoMethod\" id=\"f?j@ker(a#hJv;Nh)IGX\"><field name=\"VAR\" id=\"uASGz64Zb$AOvQyV4pRj\">model_selection</field><field name=\"MEMBER\">train_test_split</field><data>model_selection:train_test_split</data><value name=\"INPUT\"><block type=\"lists_create_with\" id=\"er6r2]}|nA;1;}VsM5I7\"><mutation items=\"3\"></mutation><value name=\"ADD0\"><block type=\"variables_get\" id=\".mm}`*H4)i%Eq5z={e-$\"><field name=\"VAR\" id=\"Eu6+HM0^Zfw6=$49Xgk7\">X</field></block></value><value name=\"ADD1\"><block type=\"variables_get\" id=\"I3dOV;CPBf^~E%BvgthZ\"><field name=\"VAR\" id=\"vEy06PN?Djk]8Ag?;UWi\">Y</field></block></value><value name=\"ADD2\"><block type=\"dummyOutputCodeBlock\" id=\"@Hg?ib/!8fH$;f3pWJy2\"><field name=\"CODE\">random_state=1</field></block></value></block></value></block></value></block></xml>"
   ]
  },
  {
   "cell_type": "markdown",
   "metadata": {},
   "source": [
    "## Decision tree model\n",
    "\n",
    "First import `sklearn.tree`."
   ]
  },
  {
   "cell_type": "code",
   "execution_count": 57,
   "metadata": {},
   "outputs": [],
   "source": [
    "import sklearn.tree as tree\n",
    "\n",
    "#<xml xmlns=\"https://developers.google.com/blockly/xml\"><variables><variable id=\"tkeU~z;dQ]^6[?rbF?)9\">tree</variable></variables><block type=\"importAs\" id=\"?`a/SEo[mr`kFXR@l=`@\" x=\"16\" y=\"10\"><field name=\"libraryName\">sklearn.tree</field><field name=\"libraryAlias\" id=\"tkeU~z;dQ]^6[?rbF?)9\">tree</field></block></xml>"
   ]
  },
  {
   "cell_type": "markdown",
   "metadata": {},
   "source": [
    "Now create the decision tree model"
   ]
  },
  {
   "cell_type": "code",
   "execution_count": 58,
   "metadata": {},
   "outputs": [],
   "source": [
    "decisionTree = tree.DecisionTreeClassifier()\n",
    "\n",
    "#<xml xmlns=\"https://developers.google.com/blockly/xml\"><variables><variable id=\"fYtGc,k9LOv^%_9|[cfE\">decisionTree</variable><variable id=\"tkeU~z;dQ]^6[?rbF?)9\">tree</variable></variables><block type=\"variables_set\" id=\"0{MIimjRn(`+`5M$0_U7\" x=\"-90\" y=\"132\"><field name=\"VAR\" id=\"fYtGc,k9LOv^%_9|[cfE\">decisionTree</field><value name=\"VALUE\"><block type=\"varCreateObject\" id=\"?`dwaKnOBjnrd}`doxhF\"><field name=\"VAR\" id=\"tkeU~z;dQ]^6[?rbF?)9\">tree</field><field name=\"MEMBER\">DecisionTreeClassifier</field><data>tree:DecisionTreeClassifier</data></block></value></block></xml>"
   ]
  },
  {
   "cell_type": "markdown",
   "metadata": {},
   "source": [
    "----------------------------\n",
    "**QUESTION:**\n",
    "\n",
    "Why don't we need to scale anything?"
   ]
  },
  {
   "cell_type": "markdown",
   "metadata": {},
   "source": [
    "**ANSWER: (click here to edit)**\n",
    "\n",
    "*Scaling doesn't matter for decision trees like it does for regression.\n",
    "In regression, each feature's contributions are added to the others, so people like to scale to make the coefficients for each feature more directly comparable.\n",
    "There is no equivalent concept in decision trees; in fact, it is probably more confusing to scale variables in decision trees.*\n",
    "\n",
    "----------------------------"
   ]
  },
  {
   "cell_type": "markdown",
   "metadata": {},
   "source": [
    "Fit the model and get predictions."
   ]
  },
  {
   "cell_type": "code",
   "execution_count": 59,
   "metadata": {},
   "outputs": [],
   "source": [
    "\n",
    "decisionTree.fit(splits[0], splits[2])\n",
    "\n",
    "predictions = decisionTree.predict(splits[1])\n",
    "\n",
    "#<xml xmlns=\"https://developers.google.com/blockly/xml\"><variables><variable id=\"(`;mrW|63Vww]$wlV9+1\">predictions</variable><variable id=\"fYtGc,k9LOv^%_9|[cfE\">decisionTree</variable><variable id=\"_ut$e0PL4OMi4o1MXTpw\">splits</variable></variables><block type=\"varDoMethod\" id=\"qQx0AB#ks`Cf5xjKlwxo\" x=\"20\" y=\"129\"><field name=\"VAR\" id=\"fYtGc,k9LOv^%_9|[cfE\">decisionTree</field><field name=\"MEMBER\">fit</field><data>decisionTree:fit</data><value name=\"INPUT\"><block type=\"lists_create_with\" id=\"IADCKhGMFh1e%`Ks7y-I\"><mutation items=\"2\"></mutation><value name=\"ADD0\"><block type=\"lists_getIndex\" id=\"ilxR/3^[z/[H(o:Gy${7\"><mutation statement=\"false\" at=\"true\"></mutation><field name=\"MODE\">GET</field><field name=\"WHERE\">FROM_START</field><value name=\"VALUE\"><block type=\"variables_get\" id=\"a_#!NS|#:~U#nv/^G#ik\"><field name=\"VAR\" id=\"_ut$e0PL4OMi4o1MXTpw\">splits</field></block></value><value name=\"AT\"><block type=\"math_number\" id=\"9q:4d:CtY)nJg#69;8~F\"><field name=\"NUM\">1</field></block></value></block></value><value name=\"ADD1\"><block type=\"lists_getIndex\" id=\"5PkDli^.`6X,l[glx2iT\"><mutation statement=\"false\" at=\"true\"></mutation><field name=\"MODE\">GET</field><field name=\"WHERE\">FROM_START</field><value name=\"VALUE\"><block type=\"variables_get\" id=\";#W#O]ADm:unDnr@_vpx\"><field name=\"VAR\" id=\"_ut$e0PL4OMi4o1MXTpw\">splits</field></block></value><value name=\"AT\"><block type=\"math_number\" id=\"pYgu,RInTkFeaR/j;`Gj\"><field name=\"NUM\">3</field></block></value></block></value></block></value></block><block type=\"variables_set\" id=\"W2#bH~%cZ$JYTYX@t`OJ\" x=\"-89\" y=\"291\"><field name=\"VAR\" id=\"(`;mrW|63Vww]$wlV9+1\">predictions</field><value name=\"VALUE\"><block type=\"varDoMethod\" id=\"uF}tgd}f*m!CoCE6Vnfc\"><field name=\"VAR\" id=\"fYtGc,k9LOv^%_9|[cfE\">decisionTree</field><field name=\"MEMBER\">predict</field><data>decisionTree:predict</data><value name=\"INPUT\"><block type=\"lists_create_with\" id=\"g4~yox0A5a]I|VUV:ff9\"><mutation items=\"1\"></mutation><value name=\"ADD0\"><block type=\"lists_getIndex\" id=\"D[QG~pcCO~@%*GRtEXGC\"><mutation statement=\"false\" at=\"true\"></mutation><field name=\"MODE\">GET</field><field name=\"WHERE\">FROM_START</field><value name=\"VALUE\"><block type=\"variables_get\" id=\"1[:7tW;hX4o^S+5[-N1b\"><field name=\"VAR\" id=\"_ut$e0PL4OMi4o1MXTpw\">splits</field></block></value><value name=\"AT\"><block type=\"math_number\" id=\"nwBf+AnSmiv.DN_wSPy(\"><field name=\"NUM\">2</field></block></value></block></value></block></value></block></value></block></xml>"
   ]
  },
  {
   "cell_type": "markdown",
   "metadata": {},
   "source": [
    "## Evaluate model performance\n",
    "\n",
    "Import `sklearn.metrics`."
   ]
  },
  {
   "cell_type": "code",
   "execution_count": 60,
   "metadata": {},
   "outputs": [],
   "source": [
    "import sklearn.metrics as metrics\n",
    "\n",
    "#<xml xmlns=\"https://developers.google.com/blockly/xml\"><variables><variable id=\")}+w@N9iB/j=:+PLkMv8\">metrics</variable></variables><block type=\"importAs\" id=\"*G_SVgZ;}hIr,Hi1~$Z6\" x=\"135\" y=\"329\"><field name=\"libraryName\">sklearn.metrics</field><field name=\"libraryAlias\" id=\")}+w@N9iB/j=:+PLkMv8\">metrics</field></block></xml>"
   ]
  },
  {
   "cell_type": "markdown",
   "metadata": {},
   "source": [
    "Get the accuracy."
   ]
  },
  {
   "cell_type": "code",
   "execution_count": 61,
   "metadata": {},
   "outputs": [
    {
     "name": "stdout",
     "output_type": "stream",
     "text": [
      "Accuracy:0.5909090909090909\n"
     ]
    }
   ],
   "source": [
    "print('Accuracy:' + str(metrics.accuracy_score(splits[3], predictions)))\n",
    "\n",
    "#<xml xmlns=\"https://developers.google.com/blockly/xml\"><variables><variable id=\")}+w@N9iB/j=:+PLkMv8\">metrics</variable><variable id=\"(`;mrW|63Vww]$wlV9+1\">predictions</variable><variable id=\"_ut$e0PL4OMi4o1MXTpw\">splits</variable></variables><block type=\"text_print\" id=\"6KCf/4(JectOv*aO[L6d\" x=\"67\" y=\"-410\"><value name=\"TEXT\"><shadow type=\"text\" id=\",J]%.V~I;qhep.pWfj3L\"><field name=\"TEXT\">abc</field></shadow><block type=\"text_join\" id=\"|l|?2Yb#{m=ys_V^)+v-\"><mutation items=\"2\"></mutation><value name=\"ADD0\"><block type=\"text\" id=\"8MdDU0D^rCAqKltb#kaY\"><field name=\"TEXT\">Accuracy:</field></block></value><value name=\"ADD1\"><block type=\"varDoMethod\" id=\"p`ehX8lLN?zayQ1Ip=}V\"><field name=\"VAR\" id=\")}+w@N9iB/j=:+PLkMv8\">metrics</field><field name=\"MEMBER\">accuracy_score</field><data>predictions:</data><value name=\"INPUT\"><block type=\"lists_create_with\" id=\"b;$i*:lxuE^`xvk}OQ4m\"><mutation items=\"2\"></mutation><value name=\"ADD0\"><block type=\"lists_getIndex\" id=\"bFo^*si#t6gt7l@W:;ux\"><mutation statement=\"false\" at=\"true\"></mutation><field name=\"MODE\">GET</field><field name=\"WHERE\">FROM_START</field><value name=\"VALUE\"><block type=\"variables_get\" id=\"9d/lD-+8|63uHF/H1dwi\"><field name=\"VAR\" id=\"_ut$e0PL4OMi4o1MXTpw\">splits</field></block></value><value name=\"AT\"><block type=\"math_number\" id=\"o@Z:jn.60#6-_fkDivxs\"><field name=\"NUM\">4</field></block></value></block></value><value name=\"ADD1\"><block type=\"variables_get\" id=\"GjWcPkckr7_}|j]O[Em+\"><field name=\"VAR\" id=\"(`;mrW|63Vww]$wlV9+1\">predictions</field></block></value></block></value></block></value></block></value></block></xml>"
   ]
  },
  {
   "cell_type": "markdown",
   "metadata": {},
   "source": [
    "And get the recall, precision, and f1."
   ]
  },
  {
   "cell_type": "code",
   "execution_count": 62,
   "metadata": {},
   "outputs": [
    {
     "name": "stdout",
     "output_type": "stream",
     "text": [
      "              precision    recall  f1-score   support\n",
      "\n",
      "           0       0.57      0.73      0.64        11\n",
      "           1       0.62      0.45      0.53        11\n",
      "\n",
      "    accuracy                           0.59        22\n",
      "   macro avg       0.60      0.59      0.58        22\n",
      "weighted avg       0.60      0.59      0.58        22\n",
      "\n"
     ]
    }
   ],
   "source": [
    "print(metrics.classification_report(splits[3], predictions))\n",
    "\n",
    "#<xml xmlns=\"https://developers.google.com/blockly/xml\"><variables><variable id=\")}+w@N9iB/j=:+PLkMv8\">metrics</variable><variable id=\"(`;mrW|63Vww]$wlV9+1\">predictions</variable><variable id=\"_ut$e0PL4OMi4o1MXTpw\">splits</variable></variables><block type=\"text_print\" id=\"w?Z]Mpw]G,uTA;S:C5Ef\" x=\"27\" y=\"-195\"><value name=\"TEXT\"><shadow type=\"text\" id=\"j5J:iees]K0Kn%J)=1[1\"><field name=\"TEXT\">abc</field></shadow><block type=\"varDoMethod\" id=\"p`ehX8lLN?zayQ1Ip=}V\"><field name=\"VAR\" id=\")}+w@N9iB/j=:+PLkMv8\">metrics</field><field name=\"MEMBER\">classification_report</field><data>metrics:classification_report</data><value name=\"INPUT\"><block type=\"lists_create_with\" id=\"b;$i*:lxuE^`xvk}OQ4m\"><mutation items=\"2\"></mutation><value name=\"ADD0\"><block type=\"lists_getIndex\" id=\"bFo^*si#t6gt7l@W:;ux\"><mutation statement=\"false\" at=\"true\"></mutation><field name=\"MODE\">GET</field><field name=\"WHERE\">FROM_START</field><value name=\"VALUE\"><block type=\"variables_get\" id=\"9d/lD-+8|63uHF/H1dwi\"><field name=\"VAR\" id=\"_ut$e0PL4OMi4o1MXTpw\">splits</field></block></value><value name=\"AT\"><block type=\"math_number\" id=\"o@Z:jn.60#6-_fkDivxs\"><field name=\"NUM\">4</field></block></value></block></value><value name=\"ADD1\"><block type=\"variables_get\" id=\"GjWcPkckr7_}|j]O[Em+\"><field name=\"VAR\" id=\"(`;mrW|63Vww]$wlV9+1\">predictions</field></block></value></block></value></block></value></block></xml>"
   ]
  },
  {
   "cell_type": "markdown",
   "metadata": {},
   "source": [
    "As we can see, both the accuracy and the average precision, recall, and f1 are all very good."
   ]
  },
  {
   "cell_type": "markdown",
   "metadata": {},
   "source": [
    "## Display the Tree"
   ]
  },
  {
   "cell_type": "markdown",
   "metadata": {},
   "source": [
    "First import `graphviz`."
   ]
  },
  {
   "cell_type": "code",
   "execution_count": 63,
   "metadata": {},
   "outputs": [],
   "source": [
    "import graphviz as graphviz\n",
    "\n",
    "#<xml xmlns=\"https://developers.google.com/blockly/xml\"><variables><variable id=\"rrXqQ:9R(~X0,}F[1UD]\">graphviz</variable></variables><block type=\"importAs\" id=\"5j3UPoKQcO/bU0u!@P06\" x=\"16\" y=\"36\"><field name=\"libraryName\">graphviz</field><field name=\"libraryAlias\" id=\"rrXqQ:9R(~X0,}F[1UD]\">graphviz</field></block></xml>"
   ]
  },
  {
   "cell_type": "markdown",
   "metadata": {},
   "source": [
    "And use it to build the tree. Try to copy this from your other notebook if at all possible."
   ]
  },
  {
   "cell_type": "code",
   "execution_count": 64,
   "metadata": {},
   "outputs": [
    {
     "data": {
      "image/svg+xml": [
       "<?xml version=\"1.0\" encoding=\"UTF-8\" standalone=\"no\"?>\n",
       "<!DOCTYPE svg PUBLIC \"-//W3C//DTD SVG 1.1//EN\"\n",
       " \"http://www.w3.org/Graphics/SVG/1.1/DTD/svg11.dtd\">\n",
       "<!-- Generated by graphviz version 2.40.1 (20161225.0304)\n",
       " -->\n",
       "<!-- Title: Tree Pages: 1 -->\n",
       "<svg width=\"1057pt\" height=\"1147pt\"\n",
       " viewBox=\"0.00 0.00 1057.00 1147.00\" xmlns=\"http://www.w3.org/2000/svg\" xmlns:xlink=\"http://www.w3.org/1999/xlink\">\n",
       "<g id=\"graph0\" class=\"graph\" transform=\"scale(1 1) rotate(0) translate(4 1143)\">\n",
       "<title>Tree</title>\n",
       "<polygon fill=\"#ffffff\" stroke=\"transparent\" points=\"-4,4 -4,-1143 1053,-1143 1053,4 -4,4\"/>\n",
       "<!-- 0 -->\n",
       "<g id=\"node1\" class=\"node\">\n",
       "<title>0</title>\n",
       "<path fill=\"#fae6d7\" stroke=\"#000000\" d=\"M566,-1139C566,-1139 480,-1139 480,-1139 474,-1139 468,-1133 468,-1127 468,-1127 468,-1068 468,-1068 468,-1062 474,-1056 480,-1056 480,-1056 566,-1056 566,-1056 572,-1056 578,-1062 578,-1068 578,-1068 578,-1127 578,-1127 578,-1133 572,-1139 566,-1139\"/>\n",
       "<text text-anchor=\"start\" x=\"476.5\" y=\"-1123.8\" font-family=\"Helvetica,sans-Serif\" font-size=\"14.00\" fill=\"#000000\">chocolate ≤ 0.5</text>\n",
       "<text text-anchor=\"start\" x=\"487.5\" y=\"-1108.8\" font-family=\"Helvetica,sans-Serif\" font-size=\"14.00\" fill=\"#000000\">gini = 0.494</text>\n",
       "<text text-anchor=\"start\" x=\"482\" y=\"-1093.8\" font-family=\"Helvetica,sans-Serif\" font-size=\"14.00\" fill=\"#000000\">samples = 63</text>\n",
       "<text text-anchor=\"start\" x=\"476\" y=\"-1078.8\" font-family=\"Helvetica,sans-Serif\" font-size=\"14.00\" fill=\"#000000\">value = [35, 28]</text>\n",
       "<text text-anchor=\"start\" x=\"495.5\" y=\"-1063.8\" font-family=\"Helvetica,sans-Serif\" font-size=\"14.00\" fill=\"#000000\">class = 0</text>\n",
       "</g>\n",
       "<!-- 1 -->\n",
       "<g id=\"node2\" class=\"node\">\n",
       "<title>1</title>\n",
       "<path fill=\"#eca572\" stroke=\"#000000\" d=\"M441.5,-1020C441.5,-1020 328.5,-1020 328.5,-1020 322.5,-1020 316.5,-1014 316.5,-1008 316.5,-1008 316.5,-949 316.5,-949 316.5,-943 322.5,-937 328.5,-937 328.5,-937 441.5,-937 441.5,-937 447.5,-937 453.5,-943 453.5,-949 453.5,-949 453.5,-1008 453.5,-1008 453.5,-1014 447.5,-1020 441.5,-1020\"/>\n",
       "<text text-anchor=\"start\" x=\"324.5\" y=\"-1004.8\" font-family=\"Helvetica,sans-Serif\" font-size=\"14.00\" fill=\"#000000\">sugarpercent ≤ 0.79</text>\n",
       "<text text-anchor=\"start\" x=\"349.5\" y=\"-989.8\" font-family=\"Helvetica,sans-Serif\" font-size=\"14.00\" fill=\"#000000\">gini = 0.346</text>\n",
       "<text text-anchor=\"start\" x=\"344\" y=\"-974.8\" font-family=\"Helvetica,sans-Serif\" font-size=\"14.00\" fill=\"#000000\">samples = 36</text>\n",
       "<text text-anchor=\"start\" x=\"342\" y=\"-959.8\" font-family=\"Helvetica,sans-Serif\" font-size=\"14.00\" fill=\"#000000\">value = [28, 8]</text>\n",
       "<text text-anchor=\"start\" x=\"357.5\" y=\"-944.8\" font-family=\"Helvetica,sans-Serif\" font-size=\"14.00\" fill=\"#000000\">class = 0</text>\n",
       "</g>\n",
       "<!-- 0&#45;&gt;1 -->\n",
       "<g id=\"edge1\" class=\"edge\">\n",
       "<title>0&#45;&gt;1</title>\n",
       "<path fill=\"none\" stroke=\"#000000\" d=\"M474.7343,-1055.8796C463.8722,-1046.513 452.2544,-1036.4948 441.1027,-1026.8784\"/>\n",
       "<polygon fill=\"#000000\" stroke=\"#000000\" points=\"443.3306,-1024.178 433.4717,-1020.2981 438.7592,-1029.4792 443.3306,-1024.178\"/>\n",
       "<text text-anchor=\"middle\" x=\"435.3149\" y=\"-1041.53\" font-family=\"Helvetica,sans-Serif\" font-size=\"14.00\" fill=\"#000000\">True</text>\n",
       "</g>\n",
       "<!-- 26 -->\n",
       "<g id=\"node27\" class=\"node\">\n",
       "<title>26</title>\n",
       "<path fill=\"#7ebfee\" stroke=\"#000000\" d=\"M707,-1020C707,-1020 591,-1020 591,-1020 585,-1020 579,-1014 579,-1008 579,-1008 579,-949 579,-949 579,-943 585,-937 591,-937 591,-937 707,-937 707,-937 713,-937 719,-943 719,-949 719,-949 719,-1008 719,-1008 719,-1014 713,-1020 707,-1020\"/>\n",
       "<text text-anchor=\"start\" x=\"587\" y=\"-1004.8\" font-family=\"Helvetica,sans-Serif\" font-size=\"14.00\" fill=\"#000000\">pricepercent ≤ 0.383</text>\n",
       "<text text-anchor=\"start\" x=\"613.5\" y=\"-989.8\" font-family=\"Helvetica,sans-Serif\" font-size=\"14.00\" fill=\"#000000\">gini = 0.384</text>\n",
       "<text text-anchor=\"start\" x=\"608\" y=\"-974.8\" font-family=\"Helvetica,sans-Serif\" font-size=\"14.00\" fill=\"#000000\">samples = 27</text>\n",
       "<text text-anchor=\"start\" x=\"606\" y=\"-959.8\" font-family=\"Helvetica,sans-Serif\" font-size=\"14.00\" fill=\"#000000\">value = [7, 20]</text>\n",
       "<text text-anchor=\"start\" x=\"621.5\" y=\"-944.8\" font-family=\"Helvetica,sans-Serif\" font-size=\"14.00\" fill=\"#000000\">class = 1</text>\n",
       "</g>\n",
       "<!-- 0&#45;&gt;26 -->\n",
       "<g id=\"edge26\" class=\"edge\">\n",
       "<title>0&#45;&gt;26</title>\n",
       "<path fill=\"none\" stroke=\"#000000\" d=\"M567.0687,-1055.8796C576.7955,-1046.6931 587.1861,-1036.8798 597.1879,-1027.4336\"/>\n",
       "<polygon fill=\"#000000\" stroke=\"#000000\" points=\"599.8763,-1029.7089 604.7432,-1020.2981 595.0699,-1024.6198 599.8763,-1029.7089\"/>\n",
       "<text text-anchor=\"middle\" x=\"604.0292\" y=\"-1041.5879\" font-family=\"Helvetica,sans-Serif\" font-size=\"14.00\" fill=\"#000000\">False</text>\n",
       "</g>\n",
       "<!-- 2 -->\n",
       "<g id=\"node3\" class=\"node\">\n",
       "<title>2</title>\n",
       "<path fill=\"#e9965a\" stroke=\"#000000\" d=\"M248,-901C248,-901 132,-901 132,-901 126,-901 120,-895 120,-889 120,-889 120,-830 120,-830 120,-824 126,-818 132,-818 132,-818 248,-818 248,-818 254,-818 260,-824 260,-830 260,-830 260,-889 260,-889 260,-895 254,-901 248,-901\"/>\n",
       "<text text-anchor=\"start\" x=\"128\" y=\"-885.8\" font-family=\"Helvetica,sans-Serif\" font-size=\"14.00\" fill=\"#000000\">pricepercent ≤ 0.273</text>\n",
       "<text text-anchor=\"start\" x=\"154.5\" y=\"-870.8\" font-family=\"Helvetica,sans-Serif\" font-size=\"14.00\" fill=\"#000000\">gini = 0.245</text>\n",
       "<text text-anchor=\"start\" x=\"149\" y=\"-855.8\" font-family=\"Helvetica,sans-Serif\" font-size=\"14.00\" fill=\"#000000\">samples = 28</text>\n",
       "<text text-anchor=\"start\" x=\"147\" y=\"-840.8\" font-family=\"Helvetica,sans-Serif\" font-size=\"14.00\" fill=\"#000000\">value = [24, 4]</text>\n",
       "<text text-anchor=\"start\" x=\"162.5\" y=\"-825.8\" font-family=\"Helvetica,sans-Serif\" font-size=\"14.00\" fill=\"#000000\">class = 0</text>\n",
       "</g>\n",
       "<!-- 1&#45;&gt;2 -->\n",
       "<g id=\"edge2\" class=\"edge\">\n",
       "<title>1&#45;&gt;2</title>\n",
       "<path fill=\"none\" stroke=\"#000000\" d=\"M316.7985,-936.8796C300.6184,-927.0056 283.2517,-916.4075 266.7208,-906.3193\"/>\n",
       "<polygon fill=\"#000000\" stroke=\"#000000\" points=\"268.5223,-903.3185 258.163,-901.0969 264.8759,-909.2938 268.5223,-903.3185\"/>\n",
       "</g>\n",
       "<!-- 17 -->\n",
       "<g id=\"node18\" class=\"node\">\n",
       "<title>17</title>\n",
       "<path fill=\"#ffffff\" stroke=\"#000000\" d=\"M420.5,-901C420.5,-901 349.5,-901 349.5,-901 343.5,-901 337.5,-895 337.5,-889 337.5,-889 337.5,-830 337.5,-830 337.5,-824 343.5,-818 349.5,-818 349.5,-818 420.5,-818 420.5,-818 426.5,-818 432.5,-824 432.5,-830 432.5,-830 432.5,-889 432.5,-889 432.5,-895 426.5,-901 420.5,-901\"/>\n",
       "<text text-anchor=\"start\" x=\"353\" y=\"-885.8\" font-family=\"Helvetica,sans-Serif\" font-size=\"14.00\" fill=\"#000000\">fruity ≤ 0.5</text>\n",
       "<text text-anchor=\"start\" x=\"357\" y=\"-870.8\" font-family=\"Helvetica,sans-Serif\" font-size=\"14.00\" fill=\"#000000\">gini = 0.5</text>\n",
       "<text text-anchor=\"start\" x=\"347.5\" y=\"-855.8\" font-family=\"Helvetica,sans-Serif\" font-size=\"14.00\" fill=\"#000000\">samples = 8</text>\n",
       "<text text-anchor=\"start\" x=\"345.5\" y=\"-840.8\" font-family=\"Helvetica,sans-Serif\" font-size=\"14.00\" fill=\"#000000\">value = [4, 4]</text>\n",
       "<text text-anchor=\"start\" x=\"357.5\" y=\"-825.8\" font-family=\"Helvetica,sans-Serif\" font-size=\"14.00\" fill=\"#000000\">class = 0</text>\n",
       "</g>\n",
       "<!-- 1&#45;&gt;17 -->\n",
       "<g id=\"edge17\" class=\"edge\">\n",
       "<title>1&#45;&gt;17</title>\n",
       "<path fill=\"none\" stroke=\"#000000\" d=\"M385,-936.8796C385,-928.6838 385,-919.9891 385,-911.5013\"/>\n",
       "<polygon fill=\"#000000\" stroke=\"#000000\" points=\"388.5001,-911.298 385,-901.2981 381.5001,-911.2981 388.5001,-911.298\"/>\n",
       "</g>\n",
       "<!-- 3 -->\n",
       "<g id=\"node4\" class=\"node\">\n",
       "<title>3</title>\n",
       "<path fill=\"#e58139\" stroke=\"#000000\" d=\"M90,-774.5C90,-774.5 12,-774.5 12,-774.5 6,-774.5 0,-768.5 0,-762.5 0,-762.5 0,-718.5 0,-718.5 0,-712.5 6,-706.5 12,-706.5 12,-706.5 90,-706.5 90,-706.5 96,-706.5 102,-712.5 102,-718.5 102,-718.5 102,-762.5 102,-762.5 102,-768.5 96,-774.5 90,-774.5\"/>\n",
       "<text text-anchor=\"start\" x=\"23\" y=\"-759.3\" font-family=\"Helvetica,sans-Serif\" font-size=\"14.00\" fill=\"#000000\">gini = 0.0</text>\n",
       "<text text-anchor=\"start\" x=\"10\" y=\"-744.3\" font-family=\"Helvetica,sans-Serif\" font-size=\"14.00\" fill=\"#000000\">samples = 10</text>\n",
       "<text text-anchor=\"start\" x=\"8\" y=\"-729.3\" font-family=\"Helvetica,sans-Serif\" font-size=\"14.00\" fill=\"#000000\">value = [10, 0]</text>\n",
       "<text text-anchor=\"start\" x=\"23.5\" y=\"-714.3\" font-family=\"Helvetica,sans-Serif\" font-size=\"14.00\" fill=\"#000000\">class = 0</text>\n",
       "</g>\n",
       "<!-- 2&#45;&gt;3 -->\n",
       "<g id=\"edge3\" class=\"edge\">\n",
       "<title>2&#45;&gt;3</title>\n",
       "<path fill=\"none\" stroke=\"#000000\" d=\"M141.3845,-817.8796C127.6413,-806.1138 112.6969,-793.3197 98.9907,-781.5855\"/>\n",
       "<polygon fill=\"#000000\" stroke=\"#000000\" points=\"100.9548,-778.6596 91.0822,-774.8149 96.4024,-783.9771 100.9548,-778.6596\"/>\n",
       "</g>\n",
       "<!-- 4 -->\n",
       "<g id=\"node5\" class=\"node\">\n",
       "<title>4</title>\n",
       "<path fill=\"#eca572\" stroke=\"#000000\" d=\"M248,-782C248,-782 132,-782 132,-782 126,-782 120,-776 120,-770 120,-770 120,-711 120,-711 120,-705 126,-699 132,-699 132,-699 248,-699 248,-699 254,-699 260,-705 260,-711 260,-711 260,-770 260,-770 260,-776 254,-782 248,-782\"/>\n",
       "<text text-anchor=\"start\" x=\"128\" y=\"-766.8\" font-family=\"Helvetica,sans-Serif\" font-size=\"14.00\" fill=\"#000000\">pricepercent ≤ 0.296</text>\n",
       "<text text-anchor=\"start\" x=\"154.5\" y=\"-751.8\" font-family=\"Helvetica,sans-Serif\" font-size=\"14.00\" fill=\"#000000\">gini = 0.346</text>\n",
       "<text text-anchor=\"start\" x=\"149\" y=\"-736.8\" font-family=\"Helvetica,sans-Serif\" font-size=\"14.00\" fill=\"#000000\">samples = 18</text>\n",
       "<text text-anchor=\"start\" x=\"147\" y=\"-721.8\" font-family=\"Helvetica,sans-Serif\" font-size=\"14.00\" fill=\"#000000\">value = [14, 4]</text>\n",
       "<text text-anchor=\"start\" x=\"162.5\" y=\"-706.8\" font-family=\"Helvetica,sans-Serif\" font-size=\"14.00\" fill=\"#000000\">class = 0</text>\n",
       "</g>\n",
       "<!-- 2&#45;&gt;4 -->\n",
       "<g id=\"edge4\" class=\"edge\">\n",
       "<title>2&#45;&gt;4</title>\n",
       "<path fill=\"none\" stroke=\"#000000\" d=\"M190,-817.8796C190,-809.6838 190,-800.9891 190,-792.5013\"/>\n",
       "<polygon fill=\"#000000\" stroke=\"#000000\" points=\"193.5001,-792.298 190,-782.2981 186.5001,-792.2981 193.5001,-792.298\"/>\n",
       "</g>\n",
       "<!-- 5 -->\n",
       "<g id=\"node6\" class=\"node\">\n",
       "<title>5</title>\n",
       "<path fill=\"#399de5\" stroke=\"#000000\" d=\"M99.5,-655.5C99.5,-655.5 28.5,-655.5 28.5,-655.5 22.5,-655.5 16.5,-649.5 16.5,-643.5 16.5,-643.5 16.5,-599.5 16.5,-599.5 16.5,-593.5 22.5,-587.5 28.5,-587.5 28.5,-587.5 99.5,-587.5 99.5,-587.5 105.5,-587.5 111.5,-593.5 111.5,-599.5 111.5,-599.5 111.5,-643.5 111.5,-643.5 111.5,-649.5 105.5,-655.5 99.5,-655.5\"/>\n",
       "<text text-anchor=\"start\" x=\"36\" y=\"-640.3\" font-family=\"Helvetica,sans-Serif\" font-size=\"14.00\" fill=\"#000000\">gini = 0.0</text>\n",
       "<text text-anchor=\"start\" x=\"26.5\" y=\"-625.3\" font-family=\"Helvetica,sans-Serif\" font-size=\"14.00\" fill=\"#000000\">samples = 1</text>\n",
       "<text text-anchor=\"start\" x=\"24.5\" y=\"-610.3\" font-family=\"Helvetica,sans-Serif\" font-size=\"14.00\" fill=\"#000000\">value = [0, 1]</text>\n",
       "<text text-anchor=\"start\" x=\"36.5\" y=\"-595.3\" font-family=\"Helvetica,sans-Serif\" font-size=\"14.00\" fill=\"#000000\">class = 1</text>\n",
       "</g>\n",
       "<!-- 4&#45;&gt;5 -->\n",
       "<g id=\"edge5\" class=\"edge\">\n",
       "<title>4&#45;&gt;5</title>\n",
       "<path fill=\"none\" stroke=\"#000000\" d=\"M145.9313,-698.8796C133.5898,-687.2237 120.1798,-674.5587 107.851,-662.9148\"/>\n",
       "<polygon fill=\"#000000\" stroke=\"#000000\" points=\"110.0068,-660.1366 100.3335,-655.8149 105.2004,-665.2258 110.0068,-660.1366\"/>\n",
       "</g>\n",
       "<!-- 6 -->\n",
       "<g id=\"node7\" class=\"node\">\n",
       "<title>6</title>\n",
       "<path fill=\"#eb9c63\" stroke=\"#000000\" d=\"M262.5,-663C262.5,-663 141.5,-663 141.5,-663 135.5,-663 129.5,-657 129.5,-651 129.5,-651 129.5,-592 129.5,-592 129.5,-586 135.5,-580 141.5,-580 141.5,-580 262.5,-580 262.5,-580 268.5,-580 274.5,-586 274.5,-592 274.5,-592 274.5,-651 274.5,-651 274.5,-657 268.5,-663 262.5,-663\"/>\n",
       "<text text-anchor=\"start\" x=\"137.5\" y=\"-647.8\" font-family=\"Helvetica,sans-Serif\" font-size=\"14.00\" fill=\"#000000\">sugarpercent ≤ 0.442</text>\n",
       "<text text-anchor=\"start\" x=\"166.5\" y=\"-632.8\" font-family=\"Helvetica,sans-Serif\" font-size=\"14.00\" fill=\"#000000\">gini = 0.291</text>\n",
       "<text text-anchor=\"start\" x=\"161\" y=\"-617.8\" font-family=\"Helvetica,sans-Serif\" font-size=\"14.00\" fill=\"#000000\">samples = 17</text>\n",
       "<text text-anchor=\"start\" x=\"159\" y=\"-602.8\" font-family=\"Helvetica,sans-Serif\" font-size=\"14.00\" fill=\"#000000\">value = [14, 3]</text>\n",
       "<text text-anchor=\"start\" x=\"174.5\" y=\"-587.8\" font-family=\"Helvetica,sans-Serif\" font-size=\"14.00\" fill=\"#000000\">class = 0</text>\n",
       "</g>\n",
       "<!-- 4&#45;&gt;6 -->\n",
       "<g id=\"edge6\" class=\"edge\">\n",
       "<title>4&#45;&gt;6</title>\n",
       "<path fill=\"none\" stroke=\"#000000\" d=\"M194.197,-698.8796C195.0235,-690.6838 195.9003,-681.9891 196.7562,-673.5013\"/>\n",
       "<polygon fill=\"#000000\" stroke=\"#000000\" points=\"200.264,-673.5988 197.7851,-663.2981 193.2993,-672.8964 200.264,-673.5988\"/>\n",
       "</g>\n",
       "<!-- 7 -->\n",
       "<g id=\"node8\" class=\"node\">\n",
       "<title>7</title>\n",
       "<path fill=\"#e58139\" stroke=\"#000000\" d=\"M128.5,-536.5C128.5,-536.5 57.5,-536.5 57.5,-536.5 51.5,-536.5 45.5,-530.5 45.5,-524.5 45.5,-524.5 45.5,-480.5 45.5,-480.5 45.5,-474.5 51.5,-468.5 57.5,-468.5 57.5,-468.5 128.5,-468.5 128.5,-468.5 134.5,-468.5 140.5,-474.5 140.5,-480.5 140.5,-480.5 140.5,-524.5 140.5,-524.5 140.5,-530.5 134.5,-536.5 128.5,-536.5\"/>\n",
       "<text text-anchor=\"start\" x=\"65\" y=\"-521.3\" font-family=\"Helvetica,sans-Serif\" font-size=\"14.00\" fill=\"#000000\">gini = 0.0</text>\n",
       "<text text-anchor=\"start\" x=\"55.5\" y=\"-506.3\" font-family=\"Helvetica,sans-Serif\" font-size=\"14.00\" fill=\"#000000\">samples = 6</text>\n",
       "<text text-anchor=\"start\" x=\"53.5\" y=\"-491.3\" font-family=\"Helvetica,sans-Serif\" font-size=\"14.00\" fill=\"#000000\">value = [6, 0]</text>\n",
       "<text text-anchor=\"start\" x=\"65.5\" y=\"-476.3\" font-family=\"Helvetica,sans-Serif\" font-size=\"14.00\" fill=\"#000000\">class = 0</text>\n",
       "</g>\n",
       "<!-- 6&#45;&gt;7 -->\n",
       "<g id=\"edge7\" class=\"edge\">\n",
       "<title>6&#45;&gt;7</title>\n",
       "<path fill=\"none\" stroke=\"#000000\" d=\"M163.8771,-579.8796C153.3014,-568.3337 141.8188,-555.7976 131.2367,-544.2446\"/>\n",
       "<polygon fill=\"#000000\" stroke=\"#000000\" points=\"133.7667,-541.825 124.4313,-536.8149 128.6049,-546.5531 133.7667,-541.825\"/>\n",
       "</g>\n",
       "<!-- 8 -->\n",
       "<g id=\"node9\" class=\"node\">\n",
       "<title>8</title>\n",
       "<path fill=\"#efb083\" stroke=\"#000000\" d=\"M245,-544C245,-544 171,-544 171,-544 165,-544 159,-538 159,-532 159,-532 159,-473 159,-473 159,-467 165,-461 171,-461 171,-461 245,-461 245,-461 251,-461 257,-467 257,-473 257,-473 257,-532 257,-532 257,-538 251,-544 245,-544\"/>\n",
       "<text text-anchor=\"start\" x=\"167\" y=\"-528.8\" font-family=\"Helvetica,sans-Serif\" font-size=\"14.00\" fill=\"#000000\">pluribus ≤ 0.5</text>\n",
       "<text text-anchor=\"start\" x=\"172.5\" y=\"-513.8\" font-family=\"Helvetica,sans-Serif\" font-size=\"14.00\" fill=\"#000000\">gini = 0.397</text>\n",
       "<text text-anchor=\"start\" x=\"167\" y=\"-498.8\" font-family=\"Helvetica,sans-Serif\" font-size=\"14.00\" fill=\"#000000\">samples = 11</text>\n",
       "<text text-anchor=\"start\" x=\"168.5\" y=\"-483.8\" font-family=\"Helvetica,sans-Serif\" font-size=\"14.00\" fill=\"#000000\">value = [8, 3]</text>\n",
       "<text text-anchor=\"start\" x=\"180.5\" y=\"-468.8\" font-family=\"Helvetica,sans-Serif\" font-size=\"14.00\" fill=\"#000000\">class = 0</text>\n",
       "</g>\n",
       "<!-- 6&#45;&gt;8 -->\n",
       "<g id=\"edge8\" class=\"edge\">\n",
       "<title>6&#45;&gt;8</title>\n",
       "<path fill=\"none\" stroke=\"#000000\" d=\"M204.0985,-579.8796C204.5117,-571.6838 204.9501,-562.9891 205.3781,-554.5013\"/>\n",
       "<polygon fill=\"#000000\" stroke=\"#000000\" points=\"208.8844,-554.4617 205.8925,-544.2981 201.8933,-554.1091 208.8844,-554.4617\"/>\n",
       "</g>\n",
       "<!-- 9 -->\n",
       "<g id=\"node10\" class=\"node\">\n",
       "<title>9</title>\n",
       "<path fill=\"#e58139\" stroke=\"#000000\" d=\"M151.5,-417.5C151.5,-417.5 80.5,-417.5 80.5,-417.5 74.5,-417.5 68.5,-411.5 68.5,-405.5 68.5,-405.5 68.5,-361.5 68.5,-361.5 68.5,-355.5 74.5,-349.5 80.5,-349.5 80.5,-349.5 151.5,-349.5 151.5,-349.5 157.5,-349.5 163.5,-355.5 163.5,-361.5 163.5,-361.5 163.5,-405.5 163.5,-405.5 163.5,-411.5 157.5,-417.5 151.5,-417.5\"/>\n",
       "<text text-anchor=\"start\" x=\"88\" y=\"-402.3\" font-family=\"Helvetica,sans-Serif\" font-size=\"14.00\" fill=\"#000000\">gini = 0.0</text>\n",
       "<text text-anchor=\"start\" x=\"78.5\" y=\"-387.3\" font-family=\"Helvetica,sans-Serif\" font-size=\"14.00\" fill=\"#000000\">samples = 4</text>\n",
       "<text text-anchor=\"start\" x=\"76.5\" y=\"-372.3\" font-family=\"Helvetica,sans-Serif\" font-size=\"14.00\" fill=\"#000000\">value = [4, 0]</text>\n",
       "<text text-anchor=\"start\" x=\"88.5\" y=\"-357.3\" font-family=\"Helvetica,sans-Serif\" font-size=\"14.00\" fill=\"#000000\">class = 0</text>\n",
       "</g>\n",
       "<!-- 8&#45;&gt;9 -->\n",
       "<g id=\"edge9\" class=\"edge\">\n",
       "<title>8&#45;&gt;9</title>\n",
       "<path fill=\"none\" stroke=\"#000000\" d=\"M175.8229,-460.8796C167.0667,-449.5536 157.5738,-437.2748 148.7844,-425.9058\"/>\n",
       "<polygon fill=\"#000000\" stroke=\"#000000\" points=\"151.4146,-423.5856 142.5292,-417.8149 145.8766,-427.8671 151.4146,-423.5856\"/>\n",
       "</g>\n",
       "<!-- 10 -->\n",
       "<g id=\"node11\" class=\"node\">\n",
       "<title>10</title>\n",
       "<path fill=\"#f8e0ce\" stroke=\"#000000\" d=\"M314.5,-425C314.5,-425 193.5,-425 193.5,-425 187.5,-425 181.5,-419 181.5,-413 181.5,-413 181.5,-354 181.5,-354 181.5,-348 187.5,-342 193.5,-342 193.5,-342 314.5,-342 314.5,-342 320.5,-342 326.5,-348 326.5,-354 326.5,-354 326.5,-413 326.5,-413 326.5,-419 320.5,-425 314.5,-425\"/>\n",
       "<text text-anchor=\"start\" x=\"189.5\" y=\"-409.8\" font-family=\"Helvetica,sans-Serif\" font-size=\"14.00\" fill=\"#000000\">sugarpercent ≤ 0.668</text>\n",
       "<text text-anchor=\"start\" x=\"222\" y=\"-394.8\" font-family=\"Helvetica,sans-Serif\" font-size=\"14.00\" fill=\"#000000\">gini = 0.49</text>\n",
       "<text text-anchor=\"start\" x=\"216.5\" y=\"-379.8\" font-family=\"Helvetica,sans-Serif\" font-size=\"14.00\" fill=\"#000000\">samples = 7</text>\n",
       "<text text-anchor=\"start\" x=\"214.5\" y=\"-364.8\" font-family=\"Helvetica,sans-Serif\" font-size=\"14.00\" fill=\"#000000\">value = [4, 3]</text>\n",
       "<text text-anchor=\"start\" x=\"226.5\" y=\"-349.8\" font-family=\"Helvetica,sans-Serif\" font-size=\"14.00\" fill=\"#000000\">class = 0</text>\n",
       "</g>\n",
       "<!-- 8&#45;&gt;10 -->\n",
       "<g id=\"edge10\" class=\"edge\">\n",
       "<title>8&#45;&gt;10</title>\n",
       "<path fill=\"none\" stroke=\"#000000\" d=\"M224.0886,-460.8796C227.3611,-452.4136 230.8395,-443.4153 234.2229,-434.6626\"/>\n",
       "<polygon fill=\"#000000\" stroke=\"#000000\" points=\"237.5017,-435.8874 237.8428,-425.2981 230.9726,-433.3635 237.5017,-435.8874\"/>\n",
       "</g>\n",
       "<!-- 11 -->\n",
       "<g id=\"node12\" class=\"node\">\n",
       "<title>11</title>\n",
       "<path fill=\"#bddef6\" stroke=\"#000000\" d=\"M233.5,-306C233.5,-306 162.5,-306 162.5,-306 156.5,-306 150.5,-300 150.5,-294 150.5,-294 150.5,-235 150.5,-235 150.5,-229 156.5,-223 162.5,-223 162.5,-223 233.5,-223 233.5,-223 239.5,-223 245.5,-229 245.5,-235 245.5,-235 245.5,-294 245.5,-294 245.5,-300 239.5,-306 233.5,-306\"/>\n",
       "<text text-anchor=\"start\" x=\"167\" y=\"-290.8\" font-family=\"Helvetica,sans-Serif\" font-size=\"14.00\" fill=\"#000000\">hard ≤ 0.5</text>\n",
       "<text text-anchor=\"start\" x=\"166\" y=\"-275.8\" font-family=\"Helvetica,sans-Serif\" font-size=\"14.00\" fill=\"#000000\">gini = 0.48</text>\n",
       "<text text-anchor=\"start\" x=\"160.5\" y=\"-260.8\" font-family=\"Helvetica,sans-Serif\" font-size=\"14.00\" fill=\"#000000\">samples = 5</text>\n",
       "<text text-anchor=\"start\" x=\"158.5\" y=\"-245.8\" font-family=\"Helvetica,sans-Serif\" font-size=\"14.00\" fill=\"#000000\">value = [2, 3]</text>\n",
       "<text text-anchor=\"start\" x=\"170.5\" y=\"-230.8\" font-family=\"Helvetica,sans-Serif\" font-size=\"14.00\" fill=\"#000000\">class = 1</text>\n",
       "</g>\n",
       "<!-- 10&#45;&gt;11 -->\n",
       "<g id=\"edge11\" class=\"edge\">\n",
       "<title>10&#45;&gt;11</title>\n",
       "<path fill=\"none\" stroke=\"#000000\" d=\"M234.4139,-341.8796C230.3876,-333.3236 226.1053,-324.2238 221.9451,-315.3833\"/>\n",
       "<polygon fill=\"#000000\" stroke=\"#000000\" points=\"225.0946,-313.856 217.6697,-306.2981 218.7608,-316.8366 225.0946,-313.856\"/>\n",
       "</g>\n",
       "<!-- 16 -->\n",
       "<g id=\"node17\" class=\"node\">\n",
       "<title>16</title>\n",
       "<path fill=\"#e58139\" stroke=\"#000000\" d=\"M346.5,-298.5C346.5,-298.5 275.5,-298.5 275.5,-298.5 269.5,-298.5 263.5,-292.5 263.5,-286.5 263.5,-286.5 263.5,-242.5 263.5,-242.5 263.5,-236.5 269.5,-230.5 275.5,-230.5 275.5,-230.5 346.5,-230.5 346.5,-230.5 352.5,-230.5 358.5,-236.5 358.5,-242.5 358.5,-242.5 358.5,-286.5 358.5,-286.5 358.5,-292.5 352.5,-298.5 346.5,-298.5\"/>\n",
       "<text text-anchor=\"start\" x=\"283\" y=\"-283.3\" font-family=\"Helvetica,sans-Serif\" font-size=\"14.00\" fill=\"#000000\">gini = 0.0</text>\n",
       "<text text-anchor=\"start\" x=\"273.5\" y=\"-268.3\" font-family=\"Helvetica,sans-Serif\" font-size=\"14.00\" fill=\"#000000\">samples = 2</text>\n",
       "<text text-anchor=\"start\" x=\"271.5\" y=\"-253.3\" font-family=\"Helvetica,sans-Serif\" font-size=\"14.00\" fill=\"#000000\">value = [2, 0]</text>\n",
       "<text text-anchor=\"start\" x=\"283.5\" y=\"-238.3\" font-family=\"Helvetica,sans-Serif\" font-size=\"14.00\" fill=\"#000000\">class = 0</text>\n",
       "</g>\n",
       "<!-- 10&#45;&gt;16 -->\n",
       "<g id=\"edge16\" class=\"edge\">\n",
       "<title>10&#45;&gt;16</title>\n",
       "<path fill=\"none\" stroke=\"#000000\" d=\"M273.9358,-341.8796C279.2029,-330.8835 284.9001,-318.9893 290.211,-307.9015\"/>\n",
       "<polygon fill=\"#000000\" stroke=\"#000000\" points=\"293.4,-309.3457 294.5634,-298.8149 287.0869,-306.3217 293.4,-309.3457\"/>\n",
       "</g>\n",
       "<!-- 12 -->\n",
       "<g id=\"node13\" class=\"node\">\n",
       "<title>12</title>\n",
       "<path fill=\"#7bbeee\" stroke=\"#000000\" d=\"M186.5,-187C186.5,-187 77.5,-187 77.5,-187 71.5,-187 65.5,-181 65.5,-175 65.5,-175 65.5,-116 65.5,-116 65.5,-110 71.5,-104 77.5,-104 77.5,-104 186.5,-104 186.5,-104 192.5,-104 198.5,-110 198.5,-116 198.5,-116 198.5,-175 198.5,-175 198.5,-181 192.5,-187 186.5,-187\"/>\n",
       "<text text-anchor=\"start\" x=\"73.5\" y=\"-171.8\" font-family=\"Helvetica,sans-Serif\" font-size=\"14.00\" fill=\"#000000\">pricepercent ≤ 0.61</text>\n",
       "<text text-anchor=\"start\" x=\"96.5\" y=\"-156.8\" font-family=\"Helvetica,sans-Serif\" font-size=\"14.00\" fill=\"#000000\">gini = 0.375</text>\n",
       "<text text-anchor=\"start\" x=\"94.5\" y=\"-141.8\" font-family=\"Helvetica,sans-Serif\" font-size=\"14.00\" fill=\"#000000\">samples = 4</text>\n",
       "<text text-anchor=\"start\" x=\"92.5\" y=\"-126.8\" font-family=\"Helvetica,sans-Serif\" font-size=\"14.00\" fill=\"#000000\">value = [1, 3]</text>\n",
       "<text text-anchor=\"start\" x=\"104.5\" y=\"-111.8\" font-family=\"Helvetica,sans-Serif\" font-size=\"14.00\" fill=\"#000000\">class = 1</text>\n",
       "</g>\n",
       "<!-- 11&#45;&gt;12 -->\n",
       "<g id=\"edge12\" class=\"edge\">\n",
       "<title>11&#45;&gt;12</title>\n",
       "<path fill=\"none\" stroke=\"#000000\" d=\"M174.9164,-222.8796C170.1211,-214.2335 165.0178,-205.0322 160.0662,-196.1042\"/>\n",
       "<polygon fill=\"#000000\" stroke=\"#000000\" points=\"163.0931,-194.3455 155.1821,-187.2981 156.9716,-197.7407 163.0931,-194.3455\"/>\n",
       "</g>\n",
       "<!-- 15 -->\n",
       "<g id=\"node16\" class=\"node\">\n",
       "<title>15</title>\n",
       "<path fill=\"#e58139\" stroke=\"#000000\" d=\"M299.5,-179.5C299.5,-179.5 228.5,-179.5 228.5,-179.5 222.5,-179.5 216.5,-173.5 216.5,-167.5 216.5,-167.5 216.5,-123.5 216.5,-123.5 216.5,-117.5 222.5,-111.5 228.5,-111.5 228.5,-111.5 299.5,-111.5 299.5,-111.5 305.5,-111.5 311.5,-117.5 311.5,-123.5 311.5,-123.5 311.5,-167.5 311.5,-167.5 311.5,-173.5 305.5,-179.5 299.5,-179.5\"/>\n",
       "<text text-anchor=\"start\" x=\"236\" y=\"-164.3\" font-family=\"Helvetica,sans-Serif\" font-size=\"14.00\" fill=\"#000000\">gini = 0.0</text>\n",
       "<text text-anchor=\"start\" x=\"226.5\" y=\"-149.3\" font-family=\"Helvetica,sans-Serif\" font-size=\"14.00\" fill=\"#000000\">samples = 1</text>\n",
       "<text text-anchor=\"start\" x=\"224.5\" y=\"-134.3\" font-family=\"Helvetica,sans-Serif\" font-size=\"14.00\" fill=\"#000000\">value = [1, 0]</text>\n",
       "<text text-anchor=\"start\" x=\"236.5\" y=\"-119.3\" font-family=\"Helvetica,sans-Serif\" font-size=\"14.00\" fill=\"#000000\">class = 0</text>\n",
       "</g>\n",
       "<!-- 11&#45;&gt;15 -->\n",
       "<g id=\"edge15\" class=\"edge\">\n",
       "<title>11&#45;&gt;15</title>\n",
       "<path fill=\"none\" stroke=\"#000000\" d=\"M221.0836,-222.8796C227.2433,-211.7735 233.9111,-199.7513 240.1129,-188.5691\"/>\n",
       "<polygon fill=\"#000000\" stroke=\"#000000\" points=\"243.1787,-190.2576 244.9682,-179.8149 237.0572,-186.8624 243.1787,-190.2576\"/>\n",
       "</g>\n",
       "<!-- 13 -->\n",
       "<g id=\"node14\" class=\"node\">\n",
       "<title>13</title>\n",
       "<path fill=\"#9ccef2\" stroke=\"#000000\" d=\"M111.5,-68C111.5,-68 40.5,-68 40.5,-68 34.5,-68 28.5,-62 28.5,-56 28.5,-56 28.5,-12 28.5,-12 28.5,-6 34.5,0 40.5,0 40.5,0 111.5,0 111.5,0 117.5,0 123.5,-6 123.5,-12 123.5,-12 123.5,-56 123.5,-56 123.5,-62 117.5,-68 111.5,-68\"/>\n",
       "<text text-anchor=\"start\" x=\"40.5\" y=\"-52.8\" font-family=\"Helvetica,sans-Serif\" font-size=\"14.00\" fill=\"#000000\">gini = 0.444</text>\n",
       "<text text-anchor=\"start\" x=\"38.5\" y=\"-37.8\" font-family=\"Helvetica,sans-Serif\" font-size=\"14.00\" fill=\"#000000\">samples = 3</text>\n",
       "<text text-anchor=\"start\" x=\"36.5\" y=\"-22.8\" font-family=\"Helvetica,sans-Serif\" font-size=\"14.00\" fill=\"#000000\">value = [1, 2]</text>\n",
       "<text text-anchor=\"start\" x=\"48.5\" y=\"-7.8\" font-family=\"Helvetica,sans-Serif\" font-size=\"14.00\" fill=\"#000000\">class = 1</text>\n",
       "</g>\n",
       "<!-- 12&#45;&gt;13 -->\n",
       "<g id=\"edge13\" class=\"edge\">\n",
       "<title>12&#45;&gt;13</title>\n",
       "<path fill=\"none\" stroke=\"#000000\" d=\"M111.1477,-103.9815C106.7625,-95.2504 102.1267,-86.0202 97.711,-77.2281\"/>\n",
       "<polygon fill=\"#000000\" stroke=\"#000000\" points=\"100.8246,-75.6291 93.2087,-68.2637 94.5692,-78.7708 100.8246,-75.6291\"/>\n",
       "</g>\n",
       "<!-- 14 -->\n",
       "<g id=\"node15\" class=\"node\">\n",
       "<title>14</title>\n",
       "<path fill=\"#399de5\" stroke=\"#000000\" d=\"M224.5,-68C224.5,-68 153.5,-68 153.5,-68 147.5,-68 141.5,-62 141.5,-56 141.5,-56 141.5,-12 141.5,-12 141.5,-6 147.5,0 153.5,0 153.5,0 224.5,0 224.5,0 230.5,0 236.5,-6 236.5,-12 236.5,-12 236.5,-56 236.5,-56 236.5,-62 230.5,-68 224.5,-68\"/>\n",
       "<text text-anchor=\"start\" x=\"161\" y=\"-52.8\" font-family=\"Helvetica,sans-Serif\" font-size=\"14.00\" fill=\"#000000\">gini = 0.0</text>\n",
       "<text text-anchor=\"start\" x=\"151.5\" y=\"-37.8\" font-family=\"Helvetica,sans-Serif\" font-size=\"14.00\" fill=\"#000000\">samples = 1</text>\n",
       "<text text-anchor=\"start\" x=\"149.5\" y=\"-22.8\" font-family=\"Helvetica,sans-Serif\" font-size=\"14.00\" fill=\"#000000\">value = [0, 1]</text>\n",
       "<text text-anchor=\"start\" x=\"161.5\" y=\"-7.8\" font-family=\"Helvetica,sans-Serif\" font-size=\"14.00\" fill=\"#000000\">class = 1</text>\n",
       "</g>\n",
       "<!-- 12&#45;&gt;14 -->\n",
       "<g id=\"edge14\" class=\"edge\">\n",
       "<title>12&#45;&gt;14</title>\n",
       "<path fill=\"none\" stroke=\"#000000\" d=\"M153.2247,-103.9815C157.6881,-95.2504 162.4067,-86.0202 166.9013,-77.2281\"/>\n",
       "<polygon fill=\"#000000\" stroke=\"#000000\" points=\"170.0486,-78.7608 171.484,-68.2637 163.8158,-75.5745 170.0486,-78.7608\"/>\n",
       "</g>\n",
       "<!-- 18 -->\n",
       "<g id=\"node19\" class=\"node\">\n",
       "<title>18</title>\n",
       "<path fill=\"#e58139\" stroke=\"#000000\" d=\"M361.5,-774.5C361.5,-774.5 290.5,-774.5 290.5,-774.5 284.5,-774.5 278.5,-768.5 278.5,-762.5 278.5,-762.5 278.5,-718.5 278.5,-718.5 278.5,-712.5 284.5,-706.5 290.5,-706.5 290.5,-706.5 361.5,-706.5 361.5,-706.5 367.5,-706.5 373.5,-712.5 373.5,-718.5 373.5,-718.5 373.5,-762.5 373.5,-762.5 373.5,-768.5 367.5,-774.5 361.5,-774.5\"/>\n",
       "<text text-anchor=\"start\" x=\"298\" y=\"-759.3\" font-family=\"Helvetica,sans-Serif\" font-size=\"14.00\" fill=\"#000000\">gini = 0.0</text>\n",
       "<text text-anchor=\"start\" x=\"288.5\" y=\"-744.3\" font-family=\"Helvetica,sans-Serif\" font-size=\"14.00\" fill=\"#000000\">samples = 2</text>\n",
       "<text text-anchor=\"start\" x=\"286.5\" y=\"-729.3\" font-family=\"Helvetica,sans-Serif\" font-size=\"14.00\" fill=\"#000000\">value = [2, 0]</text>\n",
       "<text text-anchor=\"start\" x=\"298.5\" y=\"-714.3\" font-family=\"Helvetica,sans-Serif\" font-size=\"14.00\" fill=\"#000000\">class = 0</text>\n",
       "</g>\n",
       "<!-- 17&#45;&gt;18 -->\n",
       "<g id=\"edge18\" class=\"edge\">\n",
       "<title>17&#45;&gt;18</title>\n",
       "<path fill=\"none\" stroke=\"#000000\" d=\"M364.3647,-817.8796C358.9128,-806.8835 353.0157,-794.9893 347.5184,-783.9015\"/>\n",
       "<polygon fill=\"#000000\" stroke=\"#000000\" points=\"350.5911,-782.2195 343.0133,-774.8149 344.3196,-785.3289 350.5911,-782.2195\"/>\n",
       "</g>\n",
       "<!-- 19 -->\n",
       "<g id=\"node20\" class=\"node\">\n",
       "<title>19</title>\n",
       "<path fill=\"#9ccef2\" stroke=\"#000000\" d=\"M524.5,-782C524.5,-782 403.5,-782 403.5,-782 397.5,-782 391.5,-776 391.5,-770 391.5,-770 391.5,-711 391.5,-711 391.5,-705 397.5,-699 403.5,-699 403.5,-699 524.5,-699 524.5,-699 530.5,-699 536.5,-705 536.5,-711 536.5,-711 536.5,-770 536.5,-770 536.5,-776 530.5,-782 524.5,-782\"/>\n",
       "<text text-anchor=\"start\" x=\"399.5\" y=\"-766.8\" font-family=\"Helvetica,sans-Serif\" font-size=\"14.00\" fill=\"#000000\">sugarpercent ≤ 0.924</text>\n",
       "<text text-anchor=\"start\" x=\"428.5\" y=\"-751.8\" font-family=\"Helvetica,sans-Serif\" font-size=\"14.00\" fill=\"#000000\">gini = 0.444</text>\n",
       "<text text-anchor=\"start\" x=\"426.5\" y=\"-736.8\" font-family=\"Helvetica,sans-Serif\" font-size=\"14.00\" fill=\"#000000\">samples = 6</text>\n",
       "<text text-anchor=\"start\" x=\"424.5\" y=\"-721.8\" font-family=\"Helvetica,sans-Serif\" font-size=\"14.00\" fill=\"#000000\">value = [2, 4]</text>\n",
       "<text text-anchor=\"start\" x=\"436.5\" y=\"-706.8\" font-family=\"Helvetica,sans-Serif\" font-size=\"14.00\" fill=\"#000000\">class = 1</text>\n",
       "</g>\n",
       "<!-- 17&#45;&gt;19 -->\n",
       "<g id=\"edge19\" class=\"edge\">\n",
       "<title>17&#45;&gt;19</title>\n",
       "<path fill=\"none\" stroke=\"#000000\" d=\"M412.6304,-817.8796C418.43,-809.1434 424.6059,-799.8404 430.5908,-790.8253\"/>\n",
       "<polygon fill=\"#000000\" stroke=\"#000000\" points=\"433.6368,-792.5652 436.2517,-782.2981 427.8049,-788.6935 433.6368,-792.5652\"/>\n",
       "</g>\n",
       "<!-- 20 -->\n",
       "<g id=\"node21\" class=\"node\">\n",
       "<title>20</title>\n",
       "<path fill=\"#ffffff\" stroke=\"#000000\" d=\"M498,-663C498,-663 424,-663 424,-663 418,-663 412,-657 412,-651 412,-651 412,-592 412,-592 412,-586 418,-580 424,-580 424,-580 498,-580 498,-580 504,-580 510,-586 510,-592 510,-592 510,-651 510,-651 510,-657 504,-663 498,-663\"/>\n",
       "<text text-anchor=\"start\" x=\"420\" y=\"-647.8\" font-family=\"Helvetica,sans-Serif\" font-size=\"14.00\" fill=\"#000000\">pluribus ≤ 0.5</text>\n",
       "<text text-anchor=\"start\" x=\"433\" y=\"-632.8\" font-family=\"Helvetica,sans-Serif\" font-size=\"14.00\" fill=\"#000000\">gini = 0.5</text>\n",
       "<text text-anchor=\"start\" x=\"423.5\" y=\"-617.8\" font-family=\"Helvetica,sans-Serif\" font-size=\"14.00\" fill=\"#000000\">samples = 4</text>\n",
       "<text text-anchor=\"start\" x=\"421.5\" y=\"-602.8\" font-family=\"Helvetica,sans-Serif\" font-size=\"14.00\" fill=\"#000000\">value = [2, 2]</text>\n",
       "<text text-anchor=\"start\" x=\"433.5\" y=\"-587.8\" font-family=\"Helvetica,sans-Serif\" font-size=\"14.00\" fill=\"#000000\">class = 0</text>\n",
       "</g>\n",
       "<!-- 19&#45;&gt;20 -->\n",
       "<g id=\"edge20\" class=\"edge\">\n",
       "<title>19&#45;&gt;20</title>\n",
       "<path fill=\"none\" stroke=\"#000000\" d=\"M462.9507,-698.8796C462.7441,-690.6838 462.5249,-681.9891 462.311,-673.5013\"/>\n",
       "<polygon fill=\"#000000\" stroke=\"#000000\" points=\"465.8047,-673.2067 462.0537,-663.2981 458.807,-673.3831 465.8047,-673.2067\"/>\n",
       "</g>\n",
       "<!-- 25 -->\n",
       "<g id=\"node26\" class=\"node\">\n",
       "<title>25</title>\n",
       "<path fill=\"#399de5\" stroke=\"#000000\" d=\"M611.5,-655.5C611.5,-655.5 540.5,-655.5 540.5,-655.5 534.5,-655.5 528.5,-649.5 528.5,-643.5 528.5,-643.5 528.5,-599.5 528.5,-599.5 528.5,-593.5 534.5,-587.5 540.5,-587.5 540.5,-587.5 611.5,-587.5 611.5,-587.5 617.5,-587.5 623.5,-593.5 623.5,-599.5 623.5,-599.5 623.5,-643.5 623.5,-643.5 623.5,-649.5 617.5,-655.5 611.5,-655.5\"/>\n",
       "<text text-anchor=\"start\" x=\"548\" y=\"-640.3\" font-family=\"Helvetica,sans-Serif\" font-size=\"14.00\" fill=\"#000000\">gini = 0.0</text>\n",
       "<text text-anchor=\"start\" x=\"538.5\" y=\"-625.3\" font-family=\"Helvetica,sans-Serif\" font-size=\"14.00\" fill=\"#000000\">samples = 2</text>\n",
       "<text text-anchor=\"start\" x=\"536.5\" y=\"-610.3\" font-family=\"Helvetica,sans-Serif\" font-size=\"14.00\" fill=\"#000000\">value = [0, 2]</text>\n",
       "<text text-anchor=\"start\" x=\"548.5\" y=\"-595.3\" font-family=\"Helvetica,sans-Serif\" font-size=\"14.00\" fill=\"#000000\">class = 1</text>\n",
       "</g>\n",
       "<!-- 19&#45;&gt;25 -->\n",
       "<g id=\"edge25\" class=\"edge\">\n",
       "<title>19&#45;&gt;25</title>\n",
       "<path fill=\"none\" stroke=\"#000000\" d=\"M503.1722,-698.8796C514.0389,-687.3337 525.8376,-674.7976 536.7109,-663.2446\"/>\n",
       "<polygon fill=\"#000000\" stroke=\"#000000\" points=\"539.3986,-665.4958 543.7036,-655.8149 534.3012,-660.6982 539.3986,-665.4958\"/>\n",
       "</g>\n",
       "<!-- 21 -->\n",
       "<g id=\"node22\" class=\"node\">\n",
       "<title>21</title>\n",
       "<path fill=\"#399de5\" stroke=\"#000000\" d=\"M407.5,-536.5C407.5,-536.5 336.5,-536.5 336.5,-536.5 330.5,-536.5 324.5,-530.5 324.5,-524.5 324.5,-524.5 324.5,-480.5 324.5,-480.5 324.5,-474.5 330.5,-468.5 336.5,-468.5 336.5,-468.5 407.5,-468.5 407.5,-468.5 413.5,-468.5 419.5,-474.5 419.5,-480.5 419.5,-480.5 419.5,-524.5 419.5,-524.5 419.5,-530.5 413.5,-536.5 407.5,-536.5\"/>\n",
       "<text text-anchor=\"start\" x=\"344\" y=\"-521.3\" font-family=\"Helvetica,sans-Serif\" font-size=\"14.00\" fill=\"#000000\">gini = 0.0</text>\n",
       "<text text-anchor=\"start\" x=\"334.5\" y=\"-506.3\" font-family=\"Helvetica,sans-Serif\" font-size=\"14.00\" fill=\"#000000\">samples = 1</text>\n",
       "<text text-anchor=\"start\" x=\"332.5\" y=\"-491.3\" font-family=\"Helvetica,sans-Serif\" font-size=\"14.00\" fill=\"#000000\">value = [0, 1]</text>\n",
       "<text text-anchor=\"start\" x=\"344.5\" y=\"-476.3\" font-family=\"Helvetica,sans-Serif\" font-size=\"14.00\" fill=\"#000000\">class = 1</text>\n",
       "</g>\n",
       "<!-- 20&#45;&gt;21 -->\n",
       "<g id=\"edge21\" class=\"edge\">\n",
       "<title>20&#45;&gt;21</title>\n",
       "<path fill=\"none\" stroke=\"#000000\" d=\"M429.8721,-579.8796C421.4014,-568.5536 412.2181,-556.2748 403.7153,-544.9058\"/>\n",
       "<polygon fill=\"#000000\" stroke=\"#000000\" points=\"406.4562,-542.7268 397.6641,-536.8149 400.8505,-546.9193 406.4562,-542.7268\"/>\n",
       "</g>\n",
       "<!-- 22 -->\n",
       "<g id=\"node23\" class=\"node\">\n",
       "<title>22</title>\n",
       "<path fill=\"#f2c09c\" stroke=\"#000000\" d=\"M562.5,-544C562.5,-544 449.5,-544 449.5,-544 443.5,-544 437.5,-538 437.5,-532 437.5,-532 437.5,-473 437.5,-473 437.5,-467 443.5,-461 449.5,-461 449.5,-461 562.5,-461 562.5,-461 568.5,-461 574.5,-467 574.5,-473 574.5,-473 574.5,-532 574.5,-532 574.5,-538 568.5,-544 562.5,-544\"/>\n",
       "<text text-anchor=\"start\" x=\"445.5\" y=\"-528.8\" font-family=\"Helvetica,sans-Serif\" font-size=\"14.00\" fill=\"#000000\">sugarpercent ≤ 0.86</text>\n",
       "<text text-anchor=\"start\" x=\"470.5\" y=\"-513.8\" font-family=\"Helvetica,sans-Serif\" font-size=\"14.00\" fill=\"#000000\">gini = 0.444</text>\n",
       "<text text-anchor=\"start\" x=\"468.5\" y=\"-498.8\" font-family=\"Helvetica,sans-Serif\" font-size=\"14.00\" fill=\"#000000\">samples = 3</text>\n",
       "<text text-anchor=\"start\" x=\"466.5\" y=\"-483.8\" font-family=\"Helvetica,sans-Serif\" font-size=\"14.00\" fill=\"#000000\">value = [2, 1]</text>\n",
       "<text text-anchor=\"start\" x=\"478.5\" y=\"-468.8\" font-family=\"Helvetica,sans-Serif\" font-size=\"14.00\" fill=\"#000000\">class = 0</text>\n",
       "</g>\n",
       "<!-- 20&#45;&gt;22 -->\n",
       "<g id=\"edge22\" class=\"edge\">\n",
       "<title>20&#45;&gt;22</title>\n",
       "<path fill=\"none\" stroke=\"#000000\" d=\"M476.7388,-579.8796C479.9402,-571.4136 483.3429,-562.4153 486.6528,-553.6626\"/>\n",
       "<polygon fill=\"#000000\" stroke=\"#000000\" points=\"489.9306,-554.8896 490.194,-544.2981 483.3831,-552.4136 489.9306,-554.8896\"/>\n",
       "</g>\n",
       "<!-- 23 -->\n",
       "<g id=\"node24\" class=\"node\">\n",
       "<title>23</title>\n",
       "<path fill=\"#399de5\" stroke=\"#000000\" d=\"M495.5,-417.5C495.5,-417.5 424.5,-417.5 424.5,-417.5 418.5,-417.5 412.5,-411.5 412.5,-405.5 412.5,-405.5 412.5,-361.5 412.5,-361.5 412.5,-355.5 418.5,-349.5 424.5,-349.5 424.5,-349.5 495.5,-349.5 495.5,-349.5 501.5,-349.5 507.5,-355.5 507.5,-361.5 507.5,-361.5 507.5,-405.5 507.5,-405.5 507.5,-411.5 501.5,-417.5 495.5,-417.5\"/>\n",
       "<text text-anchor=\"start\" x=\"432\" y=\"-402.3\" font-family=\"Helvetica,sans-Serif\" font-size=\"14.00\" fill=\"#000000\">gini = 0.0</text>\n",
       "<text text-anchor=\"start\" x=\"422.5\" y=\"-387.3\" font-family=\"Helvetica,sans-Serif\" font-size=\"14.00\" fill=\"#000000\">samples = 1</text>\n",
       "<text text-anchor=\"start\" x=\"420.5\" y=\"-372.3\" font-family=\"Helvetica,sans-Serif\" font-size=\"14.00\" fill=\"#000000\">value = [0, 1]</text>\n",
       "<text text-anchor=\"start\" x=\"432.5\" y=\"-357.3\" font-family=\"Helvetica,sans-Serif\" font-size=\"14.00\" fill=\"#000000\">class = 1</text>\n",
       "</g>\n",
       "<!-- 22&#45;&gt;23 -->\n",
       "<g id=\"edge23\" class=\"edge\">\n",
       "<title>22&#45;&gt;23</title>\n",
       "<path fill=\"none\" stroke=\"#000000\" d=\"M489.9114,-460.8796C485.7034,-449.9935 481.155,-438.227 476.9057,-427.2344\"/>\n",
       "<polygon fill=\"#000000\" stroke=\"#000000\" points=\"480.1348,-425.8804 473.2646,-417.8149 473.6056,-428.4043 480.1348,-425.8804\"/>\n",
       "</g>\n",
       "<!-- 24 -->\n",
       "<g id=\"node25\" class=\"node\">\n",
       "<title>24</title>\n",
       "<path fill=\"#e58139\" stroke=\"#000000\" d=\"M608.5,-417.5C608.5,-417.5 537.5,-417.5 537.5,-417.5 531.5,-417.5 525.5,-411.5 525.5,-405.5 525.5,-405.5 525.5,-361.5 525.5,-361.5 525.5,-355.5 531.5,-349.5 537.5,-349.5 537.5,-349.5 608.5,-349.5 608.5,-349.5 614.5,-349.5 620.5,-355.5 620.5,-361.5 620.5,-361.5 620.5,-405.5 620.5,-405.5 620.5,-411.5 614.5,-417.5 608.5,-417.5\"/>\n",
       "<text text-anchor=\"start\" x=\"545\" y=\"-402.3\" font-family=\"Helvetica,sans-Serif\" font-size=\"14.00\" fill=\"#000000\">gini = 0.0</text>\n",
       "<text text-anchor=\"start\" x=\"535.5\" y=\"-387.3\" font-family=\"Helvetica,sans-Serif\" font-size=\"14.00\" fill=\"#000000\">samples = 2</text>\n",
       "<text text-anchor=\"start\" x=\"533.5\" y=\"-372.3\" font-family=\"Helvetica,sans-Serif\" font-size=\"14.00\" fill=\"#000000\">value = [2, 0]</text>\n",
       "<text text-anchor=\"start\" x=\"545.5\" y=\"-357.3\" font-family=\"Helvetica,sans-Serif\" font-size=\"14.00\" fill=\"#000000\">class = 0</text>\n",
       "</g>\n",
       "<!-- 22&#45;&gt;24 -->\n",
       "<g id=\"edge24\" class=\"edge\">\n",
       "<title>22&#45;&gt;24</title>\n",
       "<path fill=\"none\" stroke=\"#000000\" d=\"M529.4333,-460.8796C535.6863,-449.7735 542.4552,-437.7513 548.751,-426.5691\"/>\n",
       "<polygon fill=\"#000000\" stroke=\"#000000\" points=\"551.8235,-428.2459 553.6798,-417.8149 545.7239,-424.8116 551.8235,-428.2459\"/>\n",
       "</g>\n",
       "<!-- 27 -->\n",
       "<g id=\"node28\" class=\"node\">\n",
       "<title>27</title>\n",
       "<path fill=\"#f2c09c\" stroke=\"#000000\" d=\"M705.5,-901C705.5,-901 592.5,-901 592.5,-901 586.5,-901 580.5,-895 580.5,-889 580.5,-889 580.5,-830 580.5,-830 580.5,-824 586.5,-818 592.5,-818 592.5,-818 705.5,-818 705.5,-818 711.5,-818 717.5,-824 717.5,-830 717.5,-830 717.5,-889 717.5,-889 717.5,-895 711.5,-901 705.5,-901\"/>\n",
       "<text text-anchor=\"start\" x=\"588.5\" y=\"-885.8\" font-family=\"Helvetica,sans-Serif\" font-size=\"14.00\" fill=\"#000000\">sugarpercent ≤ 0.15</text>\n",
       "<text text-anchor=\"start\" x=\"613.5\" y=\"-870.8\" font-family=\"Helvetica,sans-Serif\" font-size=\"14.00\" fill=\"#000000\">gini = 0.444</text>\n",
       "<text text-anchor=\"start\" x=\"611.5\" y=\"-855.8\" font-family=\"Helvetica,sans-Serif\" font-size=\"14.00\" fill=\"#000000\">samples = 6</text>\n",
       "<text text-anchor=\"start\" x=\"609.5\" y=\"-840.8\" font-family=\"Helvetica,sans-Serif\" font-size=\"14.00\" fill=\"#000000\">value = [4, 2]</text>\n",
       "<text text-anchor=\"start\" x=\"621.5\" y=\"-825.8\" font-family=\"Helvetica,sans-Serif\" font-size=\"14.00\" fill=\"#000000\">class = 0</text>\n",
       "</g>\n",
       "<!-- 26&#45;&gt;27 -->\n",
       "<g id=\"edge27\" class=\"edge\">\n",
       "<title>26&#45;&gt;27</title>\n",
       "<path fill=\"none\" stroke=\"#000000\" d=\"M649,-936.8796C649,-928.6838 649,-919.9891 649,-911.5013\"/>\n",
       "<polygon fill=\"#000000\" stroke=\"#000000\" points=\"652.5001,-911.298 649,-901.2981 645.5001,-911.2981 652.5001,-911.298\"/>\n",
       "</g>\n",
       "<!-- 30 -->\n",
       "<g id=\"node31\" class=\"node\">\n",
       "<title>30</title>\n",
       "<path fill=\"#5aade9\" stroke=\"#000000\" d=\"M915.5,-901C915.5,-901 794.5,-901 794.5,-901 788.5,-901 782.5,-895 782.5,-889 782.5,-889 782.5,-830 782.5,-830 782.5,-824 788.5,-818 794.5,-818 794.5,-818 915.5,-818 915.5,-818 921.5,-818 927.5,-824 927.5,-830 927.5,-830 927.5,-889 927.5,-889 927.5,-895 921.5,-901 915.5,-901\"/>\n",
       "<text text-anchor=\"start\" x=\"790.5\" y=\"-885.8\" font-family=\"Helvetica,sans-Serif\" font-size=\"14.00\" fill=\"#000000\">sugarpercent ≤ 0.372</text>\n",
       "<text text-anchor=\"start\" x=\"819.5\" y=\"-870.8\" font-family=\"Helvetica,sans-Serif\" font-size=\"14.00\" fill=\"#000000\">gini = 0.245</text>\n",
       "<text text-anchor=\"start\" x=\"814\" y=\"-855.8\" font-family=\"Helvetica,sans-Serif\" font-size=\"14.00\" fill=\"#000000\">samples = 21</text>\n",
       "<text text-anchor=\"start\" x=\"812\" y=\"-840.8\" font-family=\"Helvetica,sans-Serif\" font-size=\"14.00\" fill=\"#000000\">value = [3, 18]</text>\n",
       "<text text-anchor=\"start\" x=\"827.5\" y=\"-825.8\" font-family=\"Helvetica,sans-Serif\" font-size=\"14.00\" fill=\"#000000\">class = 1</text>\n",
       "</g>\n",
       "<!-- 26&#45;&gt;30 -->\n",
       "<g id=\"edge30\" class=\"edge\">\n",
       "<title>26&#45;&gt;30</title>\n",
       "<path fill=\"none\" stroke=\"#000000\" d=\"M719.0296,-938.046C736.7717,-927.7969 755.9728,-916.705 774.2001,-906.1757\"/>\n",
       "<polygon fill=\"#000000\" stroke=\"#000000\" points=\"776.1508,-909.0909 783.0591,-901.0581 772.6493,-903.0295 776.1508,-909.0909\"/>\n",
       "</g>\n",
       "<!-- 28 -->\n",
       "<g id=\"node29\" class=\"node\">\n",
       "<title>28</title>\n",
       "<path fill=\"#399de5\" stroke=\"#000000\" d=\"M637.5,-774.5C637.5,-774.5 566.5,-774.5 566.5,-774.5 560.5,-774.5 554.5,-768.5 554.5,-762.5 554.5,-762.5 554.5,-718.5 554.5,-718.5 554.5,-712.5 560.5,-706.5 566.5,-706.5 566.5,-706.5 637.5,-706.5 637.5,-706.5 643.5,-706.5 649.5,-712.5 649.5,-718.5 649.5,-718.5 649.5,-762.5 649.5,-762.5 649.5,-768.5 643.5,-774.5 637.5,-774.5\"/>\n",
       "<text text-anchor=\"start\" x=\"574\" y=\"-759.3\" font-family=\"Helvetica,sans-Serif\" font-size=\"14.00\" fill=\"#000000\">gini = 0.0</text>\n",
       "<text text-anchor=\"start\" x=\"564.5\" y=\"-744.3\" font-family=\"Helvetica,sans-Serif\" font-size=\"14.00\" fill=\"#000000\">samples = 2</text>\n",
       "<text text-anchor=\"start\" x=\"562.5\" y=\"-729.3\" font-family=\"Helvetica,sans-Serif\" font-size=\"14.00\" fill=\"#000000\">value = [0, 2]</text>\n",
       "<text text-anchor=\"start\" x=\"574.5\" y=\"-714.3\" font-family=\"Helvetica,sans-Serif\" font-size=\"14.00\" fill=\"#000000\">class = 1</text>\n",
       "</g>\n",
       "<!-- 27&#45;&gt;28 -->\n",
       "<g id=\"edge28\" class=\"edge\">\n",
       "<title>27&#45;&gt;28</title>\n",
       "<path fill=\"none\" stroke=\"#000000\" d=\"M632.5617,-817.8796C628.2621,-806.9935 623.6149,-795.227 619.2732,-784.2344\"/>\n",
       "<polygon fill=\"#000000\" stroke=\"#000000\" points=\"622.4818,-782.8301 615.553,-774.8149 615.9712,-785.4015 622.4818,-782.8301\"/>\n",
       "</g>\n",
       "<!-- 29 -->\n",
       "<g id=\"node30\" class=\"node\">\n",
       "<title>29</title>\n",
       "<path fill=\"#e58139\" stroke=\"#000000\" d=\"M750.5,-774.5C750.5,-774.5 679.5,-774.5 679.5,-774.5 673.5,-774.5 667.5,-768.5 667.5,-762.5 667.5,-762.5 667.5,-718.5 667.5,-718.5 667.5,-712.5 673.5,-706.5 679.5,-706.5 679.5,-706.5 750.5,-706.5 750.5,-706.5 756.5,-706.5 762.5,-712.5 762.5,-718.5 762.5,-718.5 762.5,-762.5 762.5,-762.5 762.5,-768.5 756.5,-774.5 750.5,-774.5\"/>\n",
       "<text text-anchor=\"start\" x=\"687\" y=\"-759.3\" font-family=\"Helvetica,sans-Serif\" font-size=\"14.00\" fill=\"#000000\">gini = 0.0</text>\n",
       "<text text-anchor=\"start\" x=\"677.5\" y=\"-744.3\" font-family=\"Helvetica,sans-Serif\" font-size=\"14.00\" fill=\"#000000\">samples = 4</text>\n",
       "<text text-anchor=\"start\" x=\"675.5\" y=\"-729.3\" font-family=\"Helvetica,sans-Serif\" font-size=\"14.00\" fill=\"#000000\">value = [4, 0]</text>\n",
       "<text text-anchor=\"start\" x=\"687.5\" y=\"-714.3\" font-family=\"Helvetica,sans-Serif\" font-size=\"14.00\" fill=\"#000000\">class = 0</text>\n",
       "</g>\n",
       "<!-- 27&#45;&gt;29 -->\n",
       "<g id=\"edge29\" class=\"edge\">\n",
       "<title>27&#45;&gt;29</title>\n",
       "<path fill=\"none\" stroke=\"#000000\" d=\"M672.0836,-817.8796C678.2433,-806.7735 684.9111,-794.7513 691.1129,-783.5691\"/>\n",
       "<polygon fill=\"#000000\" stroke=\"#000000\" points=\"694.1787,-785.2576 695.9682,-774.8149 688.0572,-781.8624 694.1787,-785.2576\"/>\n",
       "</g>\n",
       "<!-- 31 -->\n",
       "<g id=\"node32\" class=\"node\">\n",
       "<title>31</title>\n",
       "<path fill=\"#f6d5bd\" stroke=\"#000000\" d=\"M917.5,-782C917.5,-782 792.5,-782 792.5,-782 786.5,-782 780.5,-776 780.5,-770 780.5,-770 780.5,-711 780.5,-711 780.5,-705 786.5,-699 792.5,-699 792.5,-699 917.5,-699 917.5,-699 923.5,-699 929.5,-705 929.5,-711 929.5,-711 929.5,-770 929.5,-770 929.5,-776 923.5,-782 917.5,-782\"/>\n",
       "<text text-anchor=\"start\" x=\"788.5\" y=\"-766.8\" font-family=\"Helvetica,sans-Serif\" font-size=\"14.00\" fill=\"#000000\">crispedricewafer ≤ 0.5</text>\n",
       "<text text-anchor=\"start\" x=\"823\" y=\"-751.8\" font-family=\"Helvetica,sans-Serif\" font-size=\"14.00\" fill=\"#000000\">gini = 0.48</text>\n",
       "<text text-anchor=\"start\" x=\"817.5\" y=\"-736.8\" font-family=\"Helvetica,sans-Serif\" font-size=\"14.00\" fill=\"#000000\">samples = 5</text>\n",
       "<text text-anchor=\"start\" x=\"815.5\" y=\"-721.8\" font-family=\"Helvetica,sans-Serif\" font-size=\"14.00\" fill=\"#000000\">value = [3, 2]</text>\n",
       "<text text-anchor=\"start\" x=\"827.5\" y=\"-706.8\" font-family=\"Helvetica,sans-Serif\" font-size=\"14.00\" fill=\"#000000\">class = 0</text>\n",
       "</g>\n",
       "<!-- 30&#45;&gt;31 -->\n",
       "<g id=\"edge31\" class=\"edge\">\n",
       "<title>30&#45;&gt;31</title>\n",
       "<path fill=\"none\" stroke=\"#000000\" d=\"M855,-817.8796C855,-809.6838 855,-800.9891 855,-792.5013\"/>\n",
       "<polygon fill=\"#000000\" stroke=\"#000000\" points=\"858.5001,-792.298 855,-782.2981 851.5001,-792.2981 858.5001,-792.298\"/>\n",
       "</g>\n",
       "<!-- 34 -->\n",
       "<g id=\"node35\" class=\"node\">\n",
       "<title>34</title>\n",
       "<path fill=\"#399de5\" stroke=\"#000000\" d=\"M1037,-774.5C1037,-774.5 959,-774.5 959,-774.5 953,-774.5 947,-768.5 947,-762.5 947,-762.5 947,-718.5 947,-718.5 947,-712.5 953,-706.5 959,-706.5 959,-706.5 1037,-706.5 1037,-706.5 1043,-706.5 1049,-712.5 1049,-718.5 1049,-718.5 1049,-762.5 1049,-762.5 1049,-768.5 1043,-774.5 1037,-774.5\"/>\n",
       "<text text-anchor=\"start\" x=\"970\" y=\"-759.3\" font-family=\"Helvetica,sans-Serif\" font-size=\"14.00\" fill=\"#000000\">gini = 0.0</text>\n",
       "<text text-anchor=\"start\" x=\"957\" y=\"-744.3\" font-family=\"Helvetica,sans-Serif\" font-size=\"14.00\" fill=\"#000000\">samples = 16</text>\n",
       "<text text-anchor=\"start\" x=\"955\" y=\"-729.3\" font-family=\"Helvetica,sans-Serif\" font-size=\"14.00\" fill=\"#000000\">value = [0, 16]</text>\n",
       "<text text-anchor=\"start\" x=\"970.5\" y=\"-714.3\" font-family=\"Helvetica,sans-Serif\" font-size=\"14.00\" fill=\"#000000\">class = 1</text>\n",
       "</g>\n",
       "<!-- 30&#45;&gt;34 -->\n",
       "<g id=\"edge34\" class=\"edge\">\n",
       "<title>30&#45;&gt;34</title>\n",
       "<path fill=\"none\" stroke=\"#000000\" d=\"M905.0145,-817.8796C919.2853,-806.0038 934.8151,-793.0804 949.0233,-781.2568\"/>\n",
       "<polygon fill=\"#000000\" stroke=\"#000000\" points=\"951.3166,-783.9019 956.7644,-774.8149 946.839,-778.5212 951.3166,-783.9019\"/>\n",
       "</g>\n",
       "<!-- 32 -->\n",
       "<g id=\"node33\" class=\"node\">\n",
       "<title>32</title>\n",
       "<path fill=\"#e58139\" stroke=\"#000000\" d=\"M833.5,-655.5C833.5,-655.5 762.5,-655.5 762.5,-655.5 756.5,-655.5 750.5,-649.5 750.5,-643.5 750.5,-643.5 750.5,-599.5 750.5,-599.5 750.5,-593.5 756.5,-587.5 762.5,-587.5 762.5,-587.5 833.5,-587.5 833.5,-587.5 839.5,-587.5 845.5,-593.5 845.5,-599.5 845.5,-599.5 845.5,-643.5 845.5,-643.5 845.5,-649.5 839.5,-655.5 833.5,-655.5\"/>\n",
       "<text text-anchor=\"start\" x=\"770\" y=\"-640.3\" font-family=\"Helvetica,sans-Serif\" font-size=\"14.00\" fill=\"#000000\">gini = 0.0</text>\n",
       "<text text-anchor=\"start\" x=\"760.5\" y=\"-625.3\" font-family=\"Helvetica,sans-Serif\" font-size=\"14.00\" fill=\"#000000\">samples = 3</text>\n",
       "<text text-anchor=\"start\" x=\"758.5\" y=\"-610.3\" font-family=\"Helvetica,sans-Serif\" font-size=\"14.00\" fill=\"#000000\">value = [3, 0]</text>\n",
       "<text text-anchor=\"start\" x=\"770.5\" y=\"-595.3\" font-family=\"Helvetica,sans-Serif\" font-size=\"14.00\" fill=\"#000000\">class = 0</text>\n",
       "</g>\n",
       "<!-- 31&#45;&gt;32 -->\n",
       "<g id=\"edge32\" class=\"edge\">\n",
       "<title>31&#45;&gt;32</title>\n",
       "<path fill=\"none\" stroke=\"#000000\" d=\"M835.0642,-698.8796C829.7971,-687.8835 824.0999,-675.9893 818.789,-664.9015\"/>\n",
       "<polygon fill=\"#000000\" stroke=\"#000000\" points=\"821.9131,-663.3217 814.4366,-655.8149 815.6,-666.3457 821.9131,-663.3217\"/>\n",
       "</g>\n",
       "<!-- 33 -->\n",
       "<g id=\"node34\" class=\"node\">\n",
       "<title>33</title>\n",
       "<path fill=\"#399de5\" stroke=\"#000000\" d=\"M946.5,-655.5C946.5,-655.5 875.5,-655.5 875.5,-655.5 869.5,-655.5 863.5,-649.5 863.5,-643.5 863.5,-643.5 863.5,-599.5 863.5,-599.5 863.5,-593.5 869.5,-587.5 875.5,-587.5 875.5,-587.5 946.5,-587.5 946.5,-587.5 952.5,-587.5 958.5,-593.5 958.5,-599.5 958.5,-599.5 958.5,-643.5 958.5,-643.5 958.5,-649.5 952.5,-655.5 946.5,-655.5\"/>\n",
       "<text text-anchor=\"start\" x=\"883\" y=\"-640.3\" font-family=\"Helvetica,sans-Serif\" font-size=\"14.00\" fill=\"#000000\">gini = 0.0</text>\n",
       "<text text-anchor=\"start\" x=\"873.5\" y=\"-625.3\" font-family=\"Helvetica,sans-Serif\" font-size=\"14.00\" fill=\"#000000\">samples = 2</text>\n",
       "<text text-anchor=\"start\" x=\"871.5\" y=\"-610.3\" font-family=\"Helvetica,sans-Serif\" font-size=\"14.00\" fill=\"#000000\">value = [0, 2]</text>\n",
       "<text text-anchor=\"start\" x=\"883.5\" y=\"-595.3\" font-family=\"Helvetica,sans-Serif\" font-size=\"14.00\" fill=\"#000000\">class = 1</text>\n",
       "</g>\n",
       "<!-- 31&#45;&gt;33 -->\n",
       "<g id=\"edge33\" class=\"edge\">\n",
       "<title>31&#45;&gt;33</title>\n",
       "<path fill=\"none\" stroke=\"#000000\" d=\"M874.5861,-698.8796C879.7607,-687.8835 885.358,-675.9893 890.5758,-664.9015\"/>\n",
       "<polygon fill=\"#000000\" stroke=\"#000000\" points=\"893.7606,-666.3534 894.8518,-655.8149 887.4269,-663.3728 893.7606,-666.3534\"/>\n",
       "</g>\n",
       "</g>\n",
       "</svg>\n"
      ],
      "text/plain": [
       "<graphviz.files.Source object at 0x7f8ceadf9c18>"
      ]
     },
     "execution_count": 64,
     "metadata": {},
     "output_type": "execute_result"
    }
   ],
   "source": [
    "dot_data = tree.export_graphviz(decisionTree, out_file=None, feature_names=[\"chocolate\",\"fruity\",\"caramel\",\"peanutyalmondy\",\"nougat\",\"crispedricewafer\",\"hard\",\"bar\",\"pluribus\",\"sugarpercent\",\"pricepercent\"], class_names=['0','1'], filled=True, rounded=True, special_characters=True)\n",
    "\n",
    "graphviz.Source(dot_data)\n",
    "\n",
    "#<xml xmlns=\"https://developers.google.com/blockly/xml\"><variables><variable id=\"F.ej=Hud7vT9uozVaF5C\">dot_data</variable><variable id=\"rrXqQ:9R(~X0,}F[1UD]\">graphviz</variable><variable id=\"tkeU~z;dQ]^6[?rbF?)9\">tree</variable><variable id=\"fYtGc,k9LOv^%_9|[cfE\">decisionTree</variable></variables><block type=\"variables_set\" id=\":6*zm74#9$!O3?QVUukE\" x=\"209\" y=\"280\"><field name=\"VAR\" id=\"F.ej=Hud7vT9uozVaF5C\">dot_data</field><value name=\"VALUE\"><block type=\"varDoMethod\" id=\"jsRyzb,9t~G^G@G@SMkS\"><field name=\"VAR\" id=\"tkeU~z;dQ]^6[?rbF?)9\">tree</field><field name=\"MEMBER\">export_graphviz</field><data>dot_data:</data><value name=\"INPUT\"><block type=\"lists_create_with\" id=\"r2_rY*ef1v:96w)e_B6K\"><mutation items=\"7\"></mutation><value name=\"ADD0\"><block type=\"variables_get\" id=\"x$]b$%X#}qjO@0H/!O|N\"><field name=\"VAR\" id=\"fYtGc,k9LOv^%_9|[cfE\">decisionTree</field></block></value><value name=\"ADD1\"><block type=\"dummyOutputCodeBlock\" id=\"K!=:ty3DMPs#b^ziH=5p\"><field name=\"CODE\">out_file=None</field></block></value><value name=\"ADD2\"><block type=\"dummyOutputCodeBlock\" id=\"by]EM[Y$kMG~MfF0{q^,\"><field name=\"CODE\">feature_names=[\"chocolate\",\"fruity\",\"caramel\",\"peanutyalmondy\",\"nougat\",\"crispedricewafer\",\"hard\",\"bar\",\"pluribus\",\"sugarpercent\",\"pricepercent\"]</field></block></value><value name=\"ADD3\"><block type=\"dummyOutputCodeBlock\" id=\"2hz~E.{8:W9-wWb*9Ut~\"><field name=\"CODE\">class_names=['0','1']</field></block></value><value name=\"ADD4\"><block type=\"dummyOutputCodeBlock\" id=\"^IJ3b3Eg7K9k^6Of_4i%\"><field name=\"CODE\">filled=True</field></block></value><value name=\"ADD5\"><block type=\"dummyOutputCodeBlock\" id=\"VH!NxdBRgItjnN]Zs^Uh\"><field name=\"CODE\">rounded=True</field></block></value><value name=\"ADD6\"><block type=\"dummyOutputCodeBlock\" id=\"f*|7fCy,K/0{_WzfribG\"><field name=\"CODE\">special_characters=True</field></block></value></block></value></block></value></block><block type=\"varCreateObject\" id=\"-a(nDg:Sgtf)Ey5vB4(x\" x=\"187\" y=\"513\"><field name=\"VAR\" id=\"rrXqQ:9R(~X0,}F[1UD]\">graphviz</field><field name=\"MEMBER\">Source</field><data>graphviz:Source</data><value name=\"INPUT\"><block type=\"variables_get\" id=\"!M}@xBlLyRkl~Us)Smh%\"><field name=\"VAR\" id=\"F.ej=Hud7vT9uozVaF5C\">dot_data</field></block></value></block></xml>"
   ]
  },
  {
   "cell_type": "markdown",
   "metadata": {},
   "source": [
    "--------------\n",
    "\n",
    "**QUESTION:**\n",
    "\n",
    "Explain the tree - what are the first three important decisions it makes?"
   ]
  },
  {
   "cell_type": "markdown",
   "metadata": {},
   "source": [
    "**ANSWER: (click here to edit)**\n",
    "\n",
    "*It first looks at whether something is chocolate, and then looks at sugar percent if chocolate is 0 and price percent if chocolate is 1.\n",
    "This suggests that taste might be the first factor consumers look at, but after that, it might be health and price.*\n",
    "\n",
    "----------------------------"
   ]
  },
  {
   "attachments": {
    "image.png": {
     "image/png": "[encoded data removed]"
    }
   },
   "cell_type": "markdown",
   "metadata": {},
   "source": [
    "--------------\n",
    "\n",
    "**QUESTION:**\n",
    "\n",
    "Consider what the logistic regression model said were important features below. \n",
    "How does the decision tree compare?\n",
    "\n",
    "![image.png](attachment:image.png)"
   ]
  },
  {
   "cell_type": "markdown",
   "metadata": {},
   "source": [
    "**ANSWER: (click here to edit)**\n",
    "\n",
    "*They are very different.\n",
    "It seems the decision tree is not giving the same importance to fruity, peanutalmondy, and bar*\n",
    "\n",
    "----------------------------"
   ]
  },
  {
   "cell_type": "markdown",
   "metadata": {},
   "source": [
    "**QUESTION:**\n",
    "\n",
    "Which model (decision tree or logistic regression) do you think is more correct?\n",
    "How would you know?"
   ]
  },
  {
   "cell_type": "markdown",
   "metadata": {},
   "source": [
    "**ANSWER: (click here to edit)**\n",
    "\n",
    "*Logistic regression because it had a better overall classification. I trust it more because it made more correct predictions.*\n",
    "\n",
    "----------------------------"
   ]
  },
  {
   "cell_type": "markdown",
   "metadata": {},
   "source": [
    "## Submit your work\n",
    "\n",
    "When you have finished the notebook, please download it, log in to [OKpy](https://okpy.org/) using \"Student Login\", and submit it there.\n",
    "\n",
    "Then let your instructor know on Slack.\n"
   ]
  }
 ],
 "metadata": {
  "kernelspec": {
   "display_name": "xpython",
   "language": "python",
   "name": "xpython"
  },
  "language_info": {
   "file_extension": ".py",
   "mimetype": "text/x-python",
   "name": "python",
   "version": "3.7.6"
  }
 },
 "nbformat": 4,
 "nbformat_minor": 4
}
